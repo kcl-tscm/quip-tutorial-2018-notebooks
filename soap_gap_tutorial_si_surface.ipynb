{
 "cells": [
  {
   "cell_type": "markdown",
   "metadata": {},
   "source": [
    "# The SOAP descriptor, Gaussian Approximation Potentials (GAP) and machine-learning of force fields "
   ]
  },
  {
   "cell_type": "markdown",
   "metadata": {},
   "source": [
    "Adam Fekete, Matrina Stella, Henry Lambert, Alessandro De Vita, Gabor Csanyi (gc121@cam.ac.uk)\n",
    "\n",
    "## Introduction\n",
    "\n",
    "In this tutorial we will be using a Gaussaion Approximation Potentials to analyse results of TB DFT calculations of Si surface. Along the way we will learn about different descriptors (2b, 3b, soap) to describe local atomic environment in order to predict energies and forces of Si surface. \n",
    "\n",
    "### Tutorial overview:\n",
    "\n",
    "1. [The data (Nomad, Imeall)](#The-data)\n",
    "2. [Analysis of the data - Definition of Local Atomic Enviroment](#2.-Analysis-of-the-data---Definition-of-Local-Atomic-Enviroment)\n",
    "    1. [coordination number](#Coordination-Numbers)\n",
    "    2. [centrosymmetry parameter analysis](#Centrosymmetry-parameter-analysis)\n",
    "    3. [polyhedral template matching](#Polyhedral-Template-Matching)\n",
    "3. [Machine Learning methods: Clustering](#3.-Machine-Learning-methods:--Clustering)\n",
    "\n",
    "- MD\n",
    "- descriptors:\n",
    "  - 2b\n",
    "  - soap\n",
    "  \n",
    "- gap\n",
    "\n",
    "Usefull links and another tutorials:\n",
    "- https://wiki.fysik.dtu.dk/ase/tutorials/md/md.html\n",
    "- https://libatoms.github.io/QUIP/Tutorials/quippy-descriptor-tutorial.html\n",
    "- https://libatoms.github.io/QUIP/adaptive-qmmm-solutions.html#make-crack\n",
    "\n"
   ]
  },
  {
   "cell_type": "markdown",
   "metadata": {},
   "source": []
  },
  {
   "cell_type": "code",
   "execution_count": 1,
   "metadata": {},
   "outputs": [],
   "source": [
    "from __future__ import print_function\n",
    "\n",
    "import numpy as np\n",
    "\n",
    "from quippy import *\n",
    "\n",
    "from ase import units\n",
    "from ase import Atoms as aseAtoms\n",
    "from ase.build import add_vacuum\n",
    "from ase.lattice.cubic import Diamond\n",
    "from ase.io.trajectory import Trajectory\n",
    "from ase.io import write\n",
    "\n",
    "from ase.constraints import FixAtoms\n",
    "\n",
    "from ase.md.velocitydistribution import MaxwellBoltzmannDistribution\n",
    "from ase.md.verlet import VelocityVerlet\n",
    "from ase.md.langevin import Langevin\n",
    "\n",
    "from IPython.display import display\n",
    "from scripts.Visualise import ViewStructure, MyASEStructure\n",
    "import nglview\n",
    "\n",
    "import matplotlib.pylab as plt\n",
    "\n",
    "# from quippy import verbosity_push, PRINT_VERBOSE\n",
    "# verbosity_push(PRINT_VERBOSE)\n"
   ]
  },
  {
   "cell_type": "markdown",
   "metadata": {},
   "source": [
    "## Parameters"
   ]
  },
  {
   "cell_type": "markdown",
   "metadata": {},
   "source": [
    "We can define soma parameters here for the MD:"
   ]
  },
  {
   "cell_type": "code",
   "execution_count": 2,
   "metadata": {},
   "outputs": [],
   "source": [
    "T = 1000.0 # Kelvin\n",
    "timestep = 1.0 * units.fs"
   ]
  },
  {
   "cell_type": "markdown",
   "metadata": {},
   "source": [
    "## System"
   ]
  },
  {
   "cell_type": "markdown",
   "metadata": {},
   "source": [
    "Generating configuration for  Si surface"
   ]
  },
  {
   "cell_type": "code",
   "execution_count": 3,
   "metadata": {
    "scrolled": false
   },
   "outputs": [
    {
     "name": "stdout",
     "output_type": "stream",
     "text": [
      "Number of atoms: 32\n"
     ]
    }
   ],
   "source": [
    "def build_slab(size=(1,2,2), vacuum=10.):\n",
    "    # Build Si lattice.\n",
    "    # lattice = Diamond('Si', directions=([1, 0, 0], [0, 1, 0], [0, 0, 1]), latticeconstant=5.44, size=size)\n",
    "    lattice = Diamond('Si', latticeconstant=5.44, size=size)\n",
    "    atoms = Atoms(lattice)\n",
    "    \n",
    "\n",
    "    # Fixing the bottom layer     \n",
    "    bottom = atoms.positions[:,2].min()\n",
    "    fixed_mask = (abs(atoms.positions[:,2] - bottom) < 2.0)\n",
    "    atoms.set_constraint(FixAtoms(mask=fixed_mask))\n",
    "    \n",
    "    # build surface by adding space to z direction\n",
    "    add_vacuum(atoms, vacuum)\n",
    "    # atoms.center(vacuum=10.0, axis=2)\n",
    "    \n",
    "    return atoms\n",
    "\n",
    "\n",
    "atoms = build_slab()\n",
    "print('Number of atoms:', len(atoms))"
   ]
  },
  {
   "cell_type": "markdown",
   "metadata": {},
   "source": [
    "Let's visualise the initial configuration:"
   ]
  },
  {
   "cell_type": "code",
   "execution_count": 4,
   "metadata": {
    "scrolled": false
   },
   "outputs": [
    {
     "data": {
      "application/vnd.jupyter.widget-view+json": {
       "model_id": "acc6a303906b4382876fb836043e4de7",
       "version_major": 2,
       "version_minor": 0
      },
      "text/plain": [
       "NGLWidget()"
      ]
     },
     "metadata": {},
     "output_type": "display_data"
    }
   ],
   "source": [
    "def visualise(atoms, repetition=(1,1,1)):\n",
    "# visualisation\n",
    "    view = nglview.NGLWidget(gui=False)\n",
    "    view.stage.set_parameters(clip_dist=0)\n",
    "    view.add_structure(MyASEStructure(atoms))\n",
    "    view.add_unitcell()\n",
    "    view.add_structure(MyASEStructure(supercell(atoms, *repetition)))\n",
    "    return view\n",
    "\n",
    "view = visualise(atoms)\n",
    "display(view)"
   ]
  },
  {
   "cell_type": "markdown",
   "metadata": {},
   "source": [
    "## Calculator TD DFT"
   ]
  },
  {
   "cell_type": "code",
   "execution_count": 5,
   "metadata": {},
   "outputs": [],
   "source": [
    "# attach tight binding calculator\n",
    "qm_pot = Potential('TB DFTB', param_filename='/opt/quip/doc/params.xml')\n",
    "atoms.set_calculator(qm_pot)\n",
    "\n",
    "# Thermalize atoms\n",
    "MaxwellBoltzmannDistribution(atoms, 2.0 * T * units.kB)\n",
    "# dynamics = VelocityVerlet(atoms, timestep)\n",
    "dynamics = Langevin(atoms, timestep, T * units.kB, 0.002)\n",
    "    \n",
    "#attach observer to dynamics to track quantity of interest (temperature)\n",
    "def print_status():    \n",
    "    print('Step = {}, time = {} [fs], T = {} [K]'.format(\n",
    "        dynamics.nsteps,\n",
    "        dynamics.nsteps * dynamics.dt / units.fs,\n",
    "        atoms.get_kinetic_energy() / (1.5 * units.kB * len(atoms))\n",
    "    ))\n",
    "\n",
    "def print_energy(a=atoms):  # store a reference to atoms in the definition.\n",
    "    \"\"\"Function to print the potential, kinetic and total energy.\"\"\"\n",
    "    epot = a.get_potential_energy() / len(a)\n",
    "    ekin = a.get_kinetic_energy() / len(a)\n",
    "    print('Energy per atom: Epot = %.3feV  Ekin = %.3feV (T=%3.0fK)  '\n",
    "          'Etot = %.3feV' % (epot, ekin, ekin / (1.5 * units.kB), epot + ekin))\n",
    "    \n",
    "dynamics.attach(print_status, interval=1)\n",
    "dynamics.attach(print_energy, interval=1)"
   ]
  },
  {
   "cell_type": "markdown",
   "metadata": {},
   "source": [
    "## run dynamics"
   ]
  },
  {
   "cell_type": "code",
   "execution_count": 6,
   "metadata": {
    "scrolled": true
   },
   "outputs": [
    {
     "name": "stdout",
     "output_type": "stream",
     "text": [
      "Step = 1, time = 1.0 [fs], T = 1391.59057233 [K]\n",
      "Energy per atom: Epot = -34.783eV  Ekin = 0.180eV (T=1392K)  Etot = -34.603eV\n",
      "Step = 2, time = 2.0 [fs], T = 1379.13105714 [K]\n",
      "Energy per atom: Epot = -34.780eV  Ekin = 0.178eV (T=1379K)  Etot = -34.602eV\n",
      "Step = 3, time = 3.0 [fs], T = 1354.37254173 [K]\n",
      "Energy per atom: Epot = -34.777eV  Ekin = 0.175eV (T=1354K)  Etot = -34.601eV\n",
      "Step = 4, time = 4.0 [fs], T = 1315.24498029 [K]\n",
      "Energy per atom: Epot = -34.772eV  Ekin = 0.170eV (T=1315K)  Etot = -34.602eV\n",
      "Step = 5, time = 5.0 [fs], T = 1265.34278891 [K]\n",
      "Energy per atom: Epot = -34.766eV  Ekin = 0.164eV (T=1265K)  Etot = -34.602eV\n",
      "Step = 6, time = 6.0 [fs], T = 1215.32751549 [K]\n",
      "Energy per atom: Epot = -34.759eV  Ekin = 0.157eV (T=1215K)  Etot = -34.602eV\n",
      "Step = 7, time = 7.0 [fs], T = 1153.21517137 [K]\n",
      "Energy per atom: Epot = -34.751eV  Ekin = 0.149eV (T=1153K)  Etot = -34.602eV\n",
      "Step = 8, time = 8.0 [fs], T = 1096.30523365 [K]\n",
      "Energy per atom: Epot = -34.742eV  Ekin = 0.142eV (T=1096K)  Etot = -34.601eV\n",
      "Step = 9, time = 9.0 [fs], T = 1033.28959227 [K]\n",
      "Energy per atom: Epot = -34.734eV  Ekin = 0.134eV (T=1033K)  Etot = -34.600eV\n",
      "Step = 10, time = 10.0 [fs], T = 961.567326704 [K]\n",
      "Energy per atom: Epot = -34.725eV  Ekin = 0.124eV (T=962K)  Etot = -34.600eV\n",
      "Step = 11, time = 11.0 [fs], T = 897.817114617 [K]\n",
      "Energy per atom: Epot = -34.715eV  Ekin = 0.116eV (T=898K)  Etot = -34.599eV\n",
      "Step = 12, time = 12.0 [fs], T = 822.473912431 [K]\n",
      "Energy per atom: Epot = -34.707eV  Ekin = 0.106eV (T=822K)  Etot = -34.600eV\n",
      "Step = 13, time = 13.0 [fs], T = 758.457113769 [K]\n",
      "Energy per atom: Epot = -34.698eV  Ekin = 0.098eV (T=758K)  Etot = -34.600eV\n",
      "Step = 14, time = 14.0 [fs], T = 698.656249372 [K]\n",
      "Energy per atom: Epot = -34.690eV  Ekin = 0.090eV (T=699K)  Etot = -34.599eV\n",
      "Step = 15, time = 15.0 [fs], T = 639.596760475 [K]\n",
      "Energy per atom: Epot = -34.682eV  Ekin = 0.083eV (T=640K)  Etot = -34.600eV\n",
      "Step = 16, time = 16.0 [fs], T = 590.113841108 [K]\n",
      "Energy per atom: Epot = -34.675eV  Ekin = 0.076eV (T=590K)  Etot = -34.599eV\n",
      "Step = 17, time = 17.0 [fs], T = 543.742994312 [K]\n",
      "Energy per atom: Epot = -34.669eV  Ekin = 0.070eV (T=544K)  Etot = -34.599eV\n",
      "Step = 18, time = 18.0 [fs], T = 505.850316846 [K]\n",
      "Energy per atom: Epot = -34.664eV  Ekin = 0.065eV (T=506K)  Etot = -34.599eV\n",
      "Step = 19, time = 19.0 [fs], T = 475.704152657 [K]\n",
      "Energy per atom: Epot = -34.660eV  Ekin = 0.061eV (T=476K)  Etot = -34.598eV\n",
      "Step = 20, time = 20.0 [fs], T = 444.983560551 [K]\n",
      "Energy per atom: Epot = -34.656eV  Ekin = 0.058eV (T=445K)  Etot = -34.599eV\n",
      "Step = 21, time = 21.0 [fs], T = 423.492780055 [K]\n",
      "Energy per atom: Epot = -34.654eV  Ekin = 0.055eV (T=423K)  Etot = -34.599eV\n",
      "Step = 22, time = 22.0 [fs], T = 409.897989056 [K]\n",
      "Energy per atom: Epot = -34.653eV  Ekin = 0.053eV (T=410K)  Etot = -34.600eV\n",
      "Step = 23, time = 23.0 [fs], T = 407.926877683 [K]\n",
      "Energy per atom: Epot = -34.652eV  Ekin = 0.053eV (T=408K)  Etot = -34.600eV\n",
      "Step = 24, time = 24.0 [fs], T = 412.078584961 [K]\n",
      "Energy per atom: Epot = -34.653eV  Ekin = 0.053eV (T=412K)  Etot = -34.599eV\n",
      "Step = 25, time = 25.0 [fs], T = 413.086077463 [K]\n",
      "Energy per atom: Epot = -34.654eV  Ekin = 0.053eV (T=413K)  Etot = -34.600eV\n",
      "Step = 26, time = 26.0 [fs], T = 430.161307557 [K]\n",
      "Energy per atom: Epot = -34.656eV  Ekin = 0.056eV (T=430K)  Etot = -34.600eV\n",
      "Step = 27, time = 27.0 [fs], T = 454.243516121 [K]\n",
      "Energy per atom: Epot = -34.658eV  Ekin = 0.059eV (T=454K)  Etot = -34.599eV\n",
      "Step = 28, time = 28.0 [fs], T = 475.957514119 [K]\n",
      "Energy per atom: Epot = -34.661eV  Ekin = 0.062eV (T=476K)  Etot = -34.600eV\n",
      "Step = 29, time = 29.0 [fs], T = 502.299215592 [K]\n",
      "Energy per atom: Epot = -34.664eV  Ekin = 0.065eV (T=502K)  Etot = -34.600eV\n",
      "Step = 30, time = 30.0 [fs], T = 533.714667659 [K]\n",
      "Energy per atom: Epot = -34.668eV  Ekin = 0.069eV (T=534K)  Etot = -34.599eV\n",
      "Step = 31, time = 31.0 [fs], T = 565.447364034 [K]\n",
      "Energy per atom: Epot = -34.672eV  Ekin = 0.073eV (T=565K)  Etot = -34.599eV\n",
      "Step = 32, time = 32.0 [fs], T = 593.822717415 [K]\n",
      "Energy per atom: Epot = -34.676eV  Ekin = 0.077eV (T=594K)  Etot = -34.599eV\n",
      "Step = 33, time = 33.0 [fs], T = 622.371165591 [K]\n",
      "Energy per atom: Epot = -34.680eV  Ekin = 0.080eV (T=622K)  Etot = -34.599eV\n",
      "Step = 34, time = 34.0 [fs], T = 653.574436009 [K]\n",
      "Energy per atom: Epot = -34.684eV  Ekin = 0.084eV (T=654K)  Etot = -34.599eV\n",
      "Step = 35, time = 35.0 [fs], T = 684.589831554 [K]\n",
      "Energy per atom: Epot = -34.687eV  Ekin = 0.088eV (T=685K)  Etot = -34.599eV\n",
      "Step = 36, time = 36.0 [fs], T = 709.409070425 [K]\n",
      "Energy per atom: Epot = -34.691eV  Ekin = 0.092eV (T=709K)  Etot = -34.599eV\n",
      "Step = 37, time = 37.0 [fs], T = 731.436720204 [K]\n",
      "Energy per atom: Epot = -34.694eV  Ekin = 0.095eV (T=731K)  Etot = -34.600eV\n",
      "Step = 38, time = 38.0 [fs], T = 754.257357687 [K]\n",
      "Energy per atom: Epot = -34.697eV  Ekin = 0.097eV (T=754K)  Etot = -34.600eV\n",
      "Step = 39, time = 39.0 [fs], T = 775.830011578 [K]\n",
      "Energy per atom: Epot = -34.700eV  Ekin = 0.100eV (T=776K)  Etot = -34.599eV\n",
      "Step = 40, time = 40.0 [fs], T = 792.094980307 [K]\n",
      "Energy per atom: Epot = -34.702eV  Ekin = 0.102eV (T=792K)  Etot = -34.600eV\n",
      "Step = 41, time = 41.0 [fs], T = 808.491952739 [K]\n",
      "Energy per atom: Epot = -34.704eV  Ekin = 0.105eV (T=808K)  Etot = -34.599eV\n",
      "Step = 42, time = 42.0 [fs], T = 823.106048649 [K]\n",
      "Energy per atom: Epot = -34.705eV  Ekin = 0.106eV (T=823K)  Etot = -34.599eV\n",
      "Step = 43, time = 43.0 [fs], T = 825.263793315 [K]\n",
      "Energy per atom: Epot = -34.706eV  Ekin = 0.107eV (T=825K)  Etot = -34.599eV\n",
      "Step = 44, time = 44.0 [fs], T = 833.716214209 [K]\n",
      "Energy per atom: Epot = -34.706eV  Ekin = 0.108eV (T=834K)  Etot = -34.598eV\n",
      "Step = 45, time = 45.0 [fs], T = 830.429447664 [K]\n",
      "Energy per atom: Epot = -34.706eV  Ekin = 0.107eV (T=830K)  Etot = -34.599eV\n",
      "Step = 46, time = 46.0 [fs], T = 827.667781477 [K]\n",
      "Energy per atom: Epot = -34.706eV  Ekin = 0.107eV (T=828K)  Etot = -34.599eV\n",
      "Step = 47, time = 47.0 [fs], T = 816.087313373 [K]\n",
      "Energy per atom: Epot = -34.705eV  Ekin = 0.105eV (T=816K)  Etot = -34.599eV\n",
      "Step = 48, time = 48.0 [fs], T = 805.738114252 [K]\n",
      "Energy per atom: Epot = -34.704eV  Ekin = 0.104eV (T=806K)  Etot = -34.600eV\n",
      "Step = 49, time = 49.0 [fs], T = 793.947070261 [K]\n",
      "Energy per atom: Epot = -34.703eV  Ekin = 0.103eV (T=794K)  Etot = -34.600eV\n",
      "Step = 50, time = 50.0 [fs], T = 784.174259048 [K]\n",
      "Energy per atom: Epot = -34.701eV  Ekin = 0.101eV (T=784K)  Etot = -34.600eV\n",
      "Step = 51, time = 51.0 [fs], T = 762.960862797 [K]\n",
      "Energy per atom: Epot = -34.700eV  Ekin = 0.099eV (T=763K)  Etot = -34.601eV\n",
      "Step = 52, time = 52.0 [fs], T = 745.571467495 [K]\n",
      "Energy per atom: Epot = -34.698eV  Ekin = 0.096eV (T=746K)  Etot = -34.602eV\n",
      "Step = 53, time = 53.0 [fs], T = 737.158962325 [K]\n",
      "Energy per atom: Epot = -34.696eV  Ekin = 0.095eV (T=737K)  Etot = -34.601eV\n",
      "Step = 54, time = 54.0 [fs], T = 722.995798739 [K]\n",
      "Energy per atom: Epot = -34.695eV  Ekin = 0.093eV (T=723K)  Etot = -34.601eV\n",
      "Step = 55, time = 55.0 [fs], T = 712.57296966 [K]\n",
      "Energy per atom: Epot = -34.693eV  Ekin = 0.092eV (T=713K)  Etot = -34.601eV\n",
      "Step = 56, time = 56.0 [fs], T = 705.032259657 [K]\n",
      "Energy per atom: Epot = -34.692eV  Ekin = 0.091eV (T=705K)  Etot = -34.601eV\n",
      "Step = 57, time = 57.0 [fs], T = 693.328290052 [K]\n",
      "Energy per atom: Epot = -34.691eV  Ekin = 0.090eV (T=693K)  Etot = -34.601eV\n",
      "Step = 58, time = 58.0 [fs], T = 687.200408511 [K]\n",
      "Energy per atom: Epot = -34.690eV  Ekin = 0.089eV (T=687K)  Etot = -34.601eV\n",
      "Step = 59, time = 59.0 [fs], T = 681.527789863 [K]\n",
      "Energy per atom: Epot = -34.689eV  Ekin = 0.088eV (T=682K)  Etot = -34.601eV\n",
      "Step = 60, time = 60.0 [fs], T = 680.012584684 [K]\n",
      "Energy per atom: Epot = -34.689eV  Ekin = 0.088eV (T=680K)  Etot = -34.601eV\n",
      "Step = 61, time = 61.0 [fs], T = 681.859138826 [K]\n",
      "Energy per atom: Epot = -34.688eV  Ekin = 0.088eV (T=682K)  Etot = -34.600eV\n",
      "Step = 62, time = 62.0 [fs], T = 685.809505199 [K]\n",
      "Energy per atom: Epot = -34.689eV  Ekin = 0.089eV (T=686K)  Etot = -34.600eV\n",
      "Step = 63, time = 63.0 [fs], T = 686.01115123 [K]\n",
      "Energy per atom: Epot = -34.689eV  Ekin = 0.089eV (T=686K)  Etot = -34.600eV\n",
      "Step = 64, time = 64.0 [fs], T = 695.831699758 [K]\n",
      "Energy per atom: Epot = -34.690eV  Ekin = 0.090eV (T=696K)  Etot = -34.600eV\n",
      "Step = 65, time = 65.0 [fs], T = 703.35492448 [K]\n",
      "Energy per atom: Epot = -34.691eV  Ekin = 0.091eV (T=703K)  Etot = -34.600eV\n",
      "Step = 66, time = 66.0 [fs], T = 708.964157468 [K]\n",
      "Energy per atom: Epot = -34.692eV  Ekin = 0.092eV (T=709K)  Etot = -34.601eV\n"
     ]
    },
    {
     "name": "stdout",
     "output_type": "stream",
     "text": [
      "Step = 67, time = 67.0 [fs], T = 720.814716786 [K]\n",
      "Energy per atom: Epot = -34.694eV  Ekin = 0.093eV (T=721K)  Etot = -34.601eV\n",
      "Step = 68, time = 68.0 [fs], T = 730.94531531 [K]\n",
      "Energy per atom: Epot = -34.695eV  Ekin = 0.094eV (T=731K)  Etot = -34.601eV\n",
      "Step = 69, time = 69.0 [fs], T = 749.993842824 [K]\n",
      "Energy per atom: Epot = -34.697eV  Ekin = 0.097eV (T=750K)  Etot = -34.600eV\n",
      "Step = 70, time = 70.0 [fs], T = 762.907496596 [K]\n",
      "Energy per atom: Epot = -34.699eV  Ekin = 0.099eV (T=763K)  Etot = -34.600eV\n",
      "Step = 71, time = 71.0 [fs], T = 777.6571539 [K]\n",
      "Energy per atom: Epot = -34.701eV  Ekin = 0.101eV (T=778K)  Etot = -34.600eV\n",
      "Step = 72, time = 72.0 [fs], T = 791.883170373 [K]\n",
      "Energy per atom: Epot = -34.703eV  Ekin = 0.102eV (T=792K)  Etot = -34.600eV\n",
      "Step = 73, time = 73.0 [fs], T = 804.003511317 [K]\n",
      "Energy per atom: Epot = -34.704eV  Ekin = 0.104eV (T=804K)  Etot = -34.600eV\n",
      "Step = 74, time = 74.0 [fs], T = 817.09068635 [K]\n",
      "Energy per atom: Epot = -34.706eV  Ekin = 0.106eV (T=817K)  Etot = -34.600eV\n",
      "Step = 75, time = 75.0 [fs], T = 823.268642875 [K]\n",
      "Energy per atom: Epot = -34.707eV  Ekin = 0.106eV (T=823K)  Etot = -34.601eV\n",
      "Step = 76, time = 76.0 [fs], T = 831.246972444 [K]\n",
      "Energy per atom: Epot = -34.709eV  Ekin = 0.107eV (T=831K)  Etot = -34.601eV\n",
      "Step = 77, time = 77.0 [fs], T = 840.804225394 [K]\n",
      "Energy per atom: Epot = -34.710eV  Ekin = 0.109eV (T=841K)  Etot = -34.601eV\n",
      "Step = 78, time = 78.0 [fs], T = 849.799378567 [K]\n",
      "Energy per atom: Epot = -34.710eV  Ekin = 0.110eV (T=850K)  Etot = -34.601eV\n",
      "Step = 79, time = 79.0 [fs], T = 858.453009692 [K]\n",
      "Energy per atom: Epot = -34.711eV  Ekin = 0.111eV (T=858K)  Etot = -34.600eV\n",
      "Step = 80, time = 80.0 [fs], T = 867.139235182 [K]\n",
      "Energy per atom: Epot = -34.711eV  Ekin = 0.112eV (T=867K)  Etot = -34.599eV\n",
      "Step = 81, time = 81.0 [fs], T = 868.177448381 [K]\n",
      "Energy per atom: Epot = -34.711eV  Ekin = 0.112eV (T=868K)  Etot = -34.599eV\n",
      "Step = 82, time = 82.0 [fs], T = 865.761955747 [K]\n",
      "Energy per atom: Epot = -34.711eV  Ekin = 0.112eV (T=866K)  Etot = -34.599eV\n",
      "Step = 83, time = 83.0 [fs], T = 864.880948677 [K]\n",
      "Energy per atom: Epot = -34.711eV  Ekin = 0.112eV (T=865K)  Etot = -34.599eV\n",
      "Step = 84, time = 84.0 [fs], T = 868.0009356 [K]\n",
      "Energy per atom: Epot = -34.711eV  Ekin = 0.112eV (T=868K)  Etot = -34.599eV\n",
      "Step = 85, time = 85.0 [fs], T = 877.704843846 [K]\n",
      "Energy per atom: Epot = -34.712eV  Ekin = 0.113eV (T=878K)  Etot = -34.598eV\n",
      "Step = 86, time = 86.0 [fs], T = 888.761378374 [K]\n",
      "Energy per atom: Epot = -34.713eV  Ekin = 0.115eV (T=889K)  Etot = -34.598eV\n",
      "Step = 87, time = 87.0 [fs], T = 889.684496496 [K]\n",
      "Energy per atom: Epot = -34.714eV  Ekin = 0.115eV (T=890K)  Etot = -34.599eV\n",
      "Step = 88, time = 88.0 [fs], T = 901.863243654 [K]\n",
      "Energy per atom: Epot = -34.715eV  Ekin = 0.117eV (T=902K)  Etot = -34.598eV\n",
      "Step = 89, time = 89.0 [fs], T = 916.184273251 [K]\n",
      "Energy per atom: Epot = -34.716eV  Ekin = 0.118eV (T=916K)  Etot = -34.598eV\n",
      "Step = 90, time = 90.0 [fs], T = 934.746101673 [K]\n",
      "Energy per atom: Epot = -34.718eV  Ekin = 0.121eV (T=935K)  Etot = -34.597eV\n",
      "Step = 91, time = 91.0 [fs], T = 948.623116116 [K]\n",
      "Energy per atom: Epot = -34.720eV  Ekin = 0.123eV (T=949K)  Etot = -34.597eV\n",
      "Step = 92, time = 92.0 [fs], T = 966.339423022 [K]\n",
      "Energy per atom: Epot = -34.722eV  Ekin = 0.125eV (T=966K)  Etot = -34.597eV\n",
      "Step = 93, time = 93.0 [fs], T = 985.289066192 [K]\n",
      "Energy per atom: Epot = -34.724eV  Ekin = 0.127eV (T=985K)  Etot = -34.596eV\n",
      "Step = 94, time = 94.0 [fs], T = 999.177240178 [K]\n",
      "Energy per atom: Epot = -34.726eV  Ekin = 0.129eV (T=999K)  Etot = -34.597eV\n",
      "Step = 95, time = 95.0 [fs], T = 1023.24759433 [K]\n",
      "Energy per atom: Epot = -34.729eV  Ekin = 0.132eV (T=1023K)  Etot = -34.596eV\n",
      "Step = 96, time = 96.0 [fs], T = 1047.11540327 [K]\n",
      "Energy per atom: Epot = -34.731eV  Ekin = 0.135eV (T=1047K)  Etot = -34.596eV\n",
      "Step = 97, time = 97.0 [fs], T = 1064.3524413 [K]\n",
      "Energy per atom: Epot = -34.734eV  Ekin = 0.138eV (T=1064K)  Etot = -34.597eV\n",
      "Step = 98, time = 98.0 [fs], T = 1077.97321475 [K]\n",
      "Energy per atom: Epot = -34.737eV  Ekin = 0.139eV (T=1078K)  Etot = -34.598eV\n",
      "Step = 99, time = 99.0 [fs], T = 1102.30197502 [K]\n",
      "Energy per atom: Epot = -34.740eV  Ekin = 0.142eV (T=1102K)  Etot = -34.597eV\n",
      "Step = 100, time = 100.0 [fs], T = 1129.82274536 [K]\n",
      "Energy per atom: Epot = -34.742eV  Ekin = 0.146eV (T=1130K)  Etot = -34.596eV\n"
     ]
    }
   ],
   "source": [
    "dynamics.run(steps=100)\n",
    "\n",
    "# for _ in range(150):\n",
    "#     dynamics.run(steps=1)"
   ]
  },
  {
   "cell_type": "code",
   "execution_count": 7,
   "metadata": {
    "scrolled": true
   },
   "outputs": [
    {
     "data": {
      "application/vnd.jupyter.widget-view+json": {
       "model_id": "19a4b892a158437db6ccbbdae5917bbe",
       "version_major": 2,
       "version_minor": 0
      },
      "text/plain": [
       "NGLWidget()"
      ]
     },
     "metadata": {},
     "output_type": "display_data"
    }
   ],
   "source": [
    "view = visualise(atoms)\n",
    "display(view)"
   ]
  },
  {
   "cell_type": "markdown",
   "metadata": {},
   "source": [
    "## Descriptors\n",
    "\n",
    "https://libatoms.github.io/QUIP/Tutorials/quippy-descriptor-tutorial.html"
   ]
  },
  {
   "cell_type": "markdown",
   "metadata": {},
   "source": [
    "## Pairwise\n",
    "\n",
    "Here we use a simple pair distance between Silicon atoms, with a cutoff of 3.0 Angstrom. There are several descriptors that can do this, one is distance_2b, which takes a cutoff argument, and two Z values to specify the atom types. Alternatively, the distance_Nb descriptor could also do this, with order=2, and it takes a string of Zs to specify the atom types. This is more general, order=3 is a triangle-like three-body descriptor of the three sides of a triangle of 3 atoms."
   ]
  },
  {
   "cell_type": "code",
   "execution_count": 8,
   "metadata": {},
   "outputs": [],
   "source": [
    "desc = Descriptor(\"distance_Nb order=2 cutoff=4.0\")"
   ]
  },
  {
   "cell_type": "markdown",
   "metadata": {},
   "source": [
    "This descriptor is very simple: it is scalar (dimension 1), and hence only has a single permutation."
   ]
  },
  {
   "cell_type": "code",
   "execution_count": 9,
   "metadata": {
    "scrolled": true
   },
   "outputs": [
    {
     "data": {
      "text/plain": [
       "2"
      ]
     },
     "execution_count": 9,
     "metadata": {},
     "output_type": "execute_result"
    }
   ],
   "source": [
    "desc.n_perm # number of permutations"
   ]
  },
  {
   "cell_type": "code",
   "execution_count": 10,
   "metadata": {},
   "outputs": [
    {
     "data": {
      "text/plain": [
       "array([[1],\n",
       "       [1]], dtype=int32)"
      ]
     },
     "execution_count": 10,
     "metadata": {},
     "output_type": "execute_result"
    }
   ],
   "source": [
    "desc.permutations() # array of permutation arrays\n"
   ]
  },
  {
   "cell_type": "markdown",
   "metadata": {},
   "source": [
    "Many descriptors rely on the neighbour connectivity, so we need to call calc_connect, after setting the Atoms cutoff with a skin of 1 A:"
   ]
  },
  {
   "cell_type": "code",
   "execution_count": 11,
   "metadata": {},
   "outputs": [],
   "source": [
    "atoms.set_cutoff(desc.cutoff())\n",
    "atoms.calc_connect()"
   ]
  },
  {
   "cell_type": "code",
   "execution_count": null,
   "metadata": {},
   "outputs": [],
   "source": []
  },
  {
   "cell_type": "markdown",
   "metadata": {},
   "source": [
    "We can now calculate how many instances of this descriptor are found in an Atoms (or ASEAtoms) object:"
   ]
  },
  {
   "cell_type": "code",
   "execution_count": 12,
   "metadata": {},
   "outputs": [
    {
     "data": {
      "text/plain": [
       "197"
      ]
     },
     "execution_count": 12,
     "metadata": {},
     "output_type": "execute_result"
    }
   ],
   "source": [
    "desc.count(atoms)"
   ]
  },
  {
   "cell_type": "markdown",
   "metadata": {},
   "source": [
    "This also works transparently for iterables (such as lists), returning a list of the counts.\n",
    "\n",
    "We can also calculate the actual descriptor values – in this case, the list of pairwise distances:"
   ]
  },
  {
   "cell_type": "code",
   "execution_count": 13,
   "metadata": {
    "scrolled": false
   },
   "outputs": [],
   "source": [
    "d = desc.calc(atoms)\n",
    "# for k,v in d.items():\n",
    "#     print(k)\n",
    "#     print(type(v))\n",
    "# d"
   ]
  },
  {
   "cell_type": "markdown",
   "metadata": {},
   "source": [
    "Notice that the first array is called cutoff, and it supplies the value of a cutoff function, implicit in all descriptors, which takes the descriptor value to zero as the atoms approach the cutoff, i.e. in this case as the distance between the two atoms approaches the cutoff. It is more complicated for three-body and higher-body descriptors, but the end result is always a descriptor which changes smoothly with atomic positions.\n",
    "\n",
    "Here is a histogram of the resulting descriptor array, i.e. of the interatomic distances"
   ]
  },
  {
   "cell_type": "code",
   "execution_count": 14,
   "metadata": {},
   "outputs": [
    {
     "data": {
      "image/png": "[encoded data removed]",
      "text/plain": [
       "<Figure size 432x288 with 1 Axes>"
      ]
     },
     "metadata": {
      "needs_background": "light"
     },
     "output_type": "display_data"
    }
   ],
   "source": [
    "plt.hist(d.descriptor, bins=40)\n",
    "plt.show()"
   ]
  },
  {
   "cell_type": "code",
   "execution_count": 15,
   "metadata": {},
   "outputs": [
    {
     "data": {
      "text/plain": [
       "-1111.7590299859887"
      ]
     },
     "execution_count": 15,
     "metadata": {},
     "output_type": "execute_result"
    }
   ],
   "source": [
    "atoms.get_potential_energy()"
   ]
  },
  {
   "cell_type": "markdown",
   "metadata": {},
   "source": [
    "Calculate size of descriptor data:\n"
   ]
  },
  {
   "cell_type": "code",
   "execution_count": 16,
   "metadata": {
    "scrolled": true
   },
   "outputs": [
    {
     "name": "stdout",
     "output_type": "stream",
     "text": [
      "n_desc=197 n_cross=394\n"
     ]
    }
   ],
   "source": [
    "n_desc, n_cross = desc.descriptor_sizes(atoms)\n",
    "print(\"n_desc=%d n_cross=%d\" % (n_desc, n_cross))"
   ]
  },
  {
   "cell_type": "code",
   "execution_count": 18,
   "metadata": {},
   "outputs": [],
   "source": [
    "# conf_desciptors = []\n",
    "# conf_energies = []\n",
    "# for conf in db:\n",
    "#     conf.set_cutoff(desc.cutoff() + 1.0)\n",
    "#     conf.calc_connect()\n",
    "    \n",
    "#     conf_desciptors.append(desc.calc(conf))\n",
    "    \n",
    "#     conf.set_calculator(qm_pot)\n",
    "\n",
    "#     conf_energies.append(conf.get_potential_energy())"
   ]
  },
  {
   "cell_type": "code",
   "execution_count": 19,
   "metadata": {},
   "outputs": [],
   "source": [
    "# plt.plot(conf_energies)"
   ]
  },
  {
   "cell_type": "code",
   "execution_count": 20,
   "metadata": {},
   "outputs": [
    {
     "data": {
      "text/plain": [
       "<matplotlib.image.AxesImage at 0x7f8299b58610>"
      ]
     },
     "execution_count": 20,
     "metadata": {},
     "output_type": "execute_result"
    },
    {
     "data": {
      "image/png": "[encoded data removed]",
      "text/plain": [
       "<Figure size 288x1152 with 1 Axes>"
      ]
     },
     "metadata": {
      "needs_background": "light"
     },
     "output_type": "display_data"
    }
   ],
   "source": [
    "plt.matshow(d['descriptor'])"
   ]
  },
  {
   "cell_type": "code",
   "execution_count": 21,
   "metadata": {},
   "outputs": [
    {
     "name": "stdout",
     "output_type": "stream",
     "text": [
      "n_desc=197 n_cross=394\n"
     ]
    }
   ],
   "source": [
    "n_desc, n_cross = desc.descriptor_sizes(atoms)\n",
    "print(\"n_desc=%d n_cross=%d\" % (n_desc,n_cross))"
   ]
  },
  {
   "cell_type": "code",
   "execution_count": null,
   "metadata": {},
   "outputs": [],
   "source": []
  },
  {
   "cell_type": "markdown",
   "metadata": {},
   "source": [
    "## SOAP Kernel and descriptor\n",
    "\n",
    "Next, we need to define a kernel. There are many ways to define what the atomic charges would be a function of, but somehow we need to describe the environment of the atom, and then construct a similarity function that can serve as the kernel function. \n",
    "\n",
    "In this tutorial, we are going to make the atomic charge a function of the near-environment of an atom (within a cutoff), and we will describe that environment using the SOAP descriptor and compare them using the SOAP kernel. Note right away that the quantum mechanically computed atomic charge is not fully determined by the near-environment of atoms (far-away atoms can also influence the charge, even if just to a small extent), so this is an early indication that we will be making use of the \"noise\" interpretation of the $\\lambda$ regularization parameter: we don't expect (and don't want) our fitted function to precisely go through each datapoint.\n",
    "\n",
    "The SOAP descriptor of an atomic environment is based on a spherical harmonic expansion of the neighbour density, and truncating this expansion at some maximum numer of radial (n_max) and angular (l_max) indices gives rise to some parameters. We also need to give the cutoff within which we consider the neighbour environment.\n",
    "\n",
    "Writing the descriptor vector as $p_{ss'nn'l}$, where $s$ and $s'$ are indices that run over the different atomic species in the atom's environment, $n$ and $n'$ are radial and $l$ is an angular index, the kernel between two atomic environments is\n",
    "\n",
    "$$\n",
    "K(p,p') = \\delta^2 \\left| \\sum_{ss'nn'l} p_{ss'nn'l} p'_{ss'nn'l}\\right|^\\zeta \\equiv \\delta^2 \\left| {\\bf p} \\cdot {\\bf p'}\\right|^\\zeta\n",
    "$$\n",
    "\n",
    "The factor of $\\delta^2$ allows the setting of the scale of fitted function, relative to the error specification $\\lambda$. "
   ]
  },
  {
   "cell_type": "code",
   "execution_count": 22,
   "metadata": {
    "scrolled": true
   },
   "outputs": [],
   "source": [
    "desc = Descriptor(\"soap cutoff=4 l_max=3 n_max=4 normalize=T atom_sigma=0.5 n_Z=1 Z={14} \")"
   ]
  },
  {
   "cell_type": "code",
   "execution_count": 23,
   "metadata": {},
   "outputs": [],
   "source": [
    "\n",
    "atoms.set_cutoff(desc.cutoff())\n",
    "atoms.calc_connect()"
   ]
  },
  {
   "cell_type": "markdown",
   "metadata": {},
   "source": [
    "There are now only 8 descriptors, because SOAP produces one for each atom in the structure"
   ]
  },
  {
   "cell_type": "code",
   "execution_count": 24,
   "metadata": {},
   "outputs": [
    {
     "data": {
      "text/plain": [
       "(32, 426)"
      ]
     },
     "execution_count": 24,
     "metadata": {},
     "output_type": "execute_result"
    }
   ],
   "source": [
    "desc.descriptor_sizes(atoms)\n"
   ]
  },
  {
   "cell_type": "markdown",
   "metadata": {},
   "source": [
    "But each descriptor now is a long vector, because it encodes the entire environment of the atom up to the cutoff. The length of the vector depends on l_max and n_max and also on the number of atom types."
   ]
  },
  {
   "cell_type": "code",
   "execution_count": 25,
   "metadata": {},
   "outputs": [],
   "source": [
    "d = desc.calc(atoms)\n",
    "# d"
   ]
  },
  {
   "cell_type": "code",
   "execution_count": 26,
   "metadata": {},
   "outputs": [
    {
     "data": {
      "text/plain": [
       "<matplotlib.image.AxesImage at 0x7f829611cb50>"
      ]
     },
     "execution_count": 26,
     "metadata": {},
     "output_type": "execute_result"
    },
    {
     "data": {
      "image/png": "[encoded data removed]",
      "text/plain": [
       "<Figure size 369x288 with 1 Axes>"
      ]
     },
     "metadata": {
      "needs_background": "light"
     },
     "output_type": "display_data"
    }
   ],
   "source": [
    "plt.matshow(d.descriptor)"
   ]
  },
  {
   "cell_type": "code",
   "execution_count": 27,
   "metadata": {},
   "outputs": [
    {
     "name": "stdout",
     "output_type": "stream",
     "text": [
      "Step = 101, time = 101.0 [fs], T = 1152.52093021 [K]\n",
      "Energy per atom: Epot = -34.745eV  Ekin = 0.149eV (T=1153K)  Etot = -34.596eV\n",
      "Step = 102, time = 102.0 [fs], T = 1164.82968223 [K]\n",
      "Energy per atom: Epot = -34.747eV  Ekin = 0.151eV (T=1165K)  Etot = -34.597eV\n",
      "Step = 103, time = 103.0 [fs], T = 1169.70182107 [K]\n",
      "Energy per atom: Epot = -34.749eV  Ekin = 0.151eV (T=1170K)  Etot = -34.598eV\n",
      "Step = 104, time = 104.0 [fs], T = 1181.71871457 [K]\n",
      "Energy per atom: Epot = -34.750eV  Ekin = 0.153eV (T=1182K)  Etot = -34.598eV\n",
      "Step = 105, time = 105.0 [fs], T = 1176.54180657 [K]\n",
      "Energy per atom: Epot = -34.751eV  Ekin = 0.152eV (T=1177K)  Etot = -34.599eV\n",
      "Step = 106, time = 106.0 [fs], T = 1169.776616 [K]\n",
      "Energy per atom: Epot = -34.752eV  Ekin = 0.151eV (T=1170K)  Etot = -34.601eV\n",
      "Step = 107, time = 107.0 [fs], T = 1165.31063335 [K]\n",
      "Energy per atom: Epot = -34.752eV  Ekin = 0.151eV (T=1165K)  Etot = -34.601eV\n",
      "Step = 108, time = 108.0 [fs], T = 1162.9363076 [K]\n",
      "Energy per atom: Epot = -34.751eV  Ekin = 0.150eV (T=1163K)  Etot = -34.601eV\n",
      "Step = 109, time = 109.0 [fs], T = 1147.40431361 [K]\n",
      "Energy per atom: Epot = -34.750eV  Ekin = 0.148eV (T=1147K)  Etot = -34.601eV\n",
      "Step = 110, time = 110.0 [fs], T = 1137.33345591 [K]\n",
      "Energy per atom: Epot = -34.748eV  Ekin = 0.147eV (T=1137K)  Etot = -34.601eV\n",
      "Step = 111, time = 111.0 [fs], T = 1118.02077988 [K]\n",
      "Energy per atom: Epot = -34.746eV  Ekin = 0.145eV (T=1118K)  Etot = -34.601eV\n",
      "Step = 112, time = 112.0 [fs], T = 1097.02958065 [K]\n",
      "Energy per atom: Epot = -34.743eV  Ekin = 0.142eV (T=1097K)  Etot = -34.601eV\n",
      "Step = 113, time = 113.0 [fs], T = 1080.20438128 [K]\n",
      "Energy per atom: Epot = -34.740eV  Ekin = 0.140eV (T=1080K)  Etot = -34.600eV\n",
      "Step = 114, time = 114.0 [fs], T = 1056.34946762 [K]\n",
      "Energy per atom: Epot = -34.736eV  Ekin = 0.137eV (T=1056K)  Etot = -34.600eV\n",
      "Step = 115, time = 115.0 [fs], T = 1035.02328035 [K]\n",
      "Energy per atom: Epot = -34.733eV  Ekin = 0.134eV (T=1035K)  Etot = -34.599eV\n",
      "Step = 116, time = 116.0 [fs], T = 1010.72381439 [K]\n",
      "Energy per atom: Epot = -34.729eV  Ekin = 0.131eV (T=1011K)  Etot = -34.599eV\n",
      "Step = 117, time = 117.0 [fs], T = 988.863228311 [K]\n",
      "Energy per atom: Epot = -34.726eV  Ekin = 0.128eV (T=989K)  Etot = -34.598eV\n",
      "Step = 118, time = 118.0 [fs], T = 950.270744733 [K]\n",
      "Energy per atom: Epot = -34.722eV  Ekin = 0.123eV (T=950K)  Etot = -34.600eV\n",
      "Step = 119, time = 119.0 [fs], T = 920.473557051 [K]\n",
      "Energy per atom: Epot = -34.720eV  Ekin = 0.119eV (T=920K)  Etot = -34.601eV\n",
      "Step = 120, time = 120.0 [fs], T = 900.196809603 [K]\n",
      "Energy per atom: Epot = -34.717eV  Ekin = 0.116eV (T=900K)  Etot = -34.601eV\n",
      "Step = 121, time = 121.0 [fs], T = 887.251049085 [K]\n",
      "Energy per atom: Epot = -34.715eV  Ekin = 0.115eV (T=887K)  Etot = -34.600eV\n",
      "Step = 122, time = 122.0 [fs], T = 868.778049658 [K]\n",
      "Energy per atom: Epot = -34.713eV  Ekin = 0.112eV (T=869K)  Etot = -34.601eV\n",
      "Step = 123, time = 123.0 [fs], T = 857.713469119 [K]\n",
      "Energy per atom: Epot = -34.712eV  Ekin = 0.111eV (T=858K)  Etot = -34.602eV\n",
      "Step = 124, time = 124.0 [fs], T = 853.38549027 [K]\n",
      "Energy per atom: Epot = -34.712eV  Ekin = 0.110eV (T=853K)  Etot = -34.602eV\n",
      "Step = 125, time = 125.0 [fs], T = 854.900399666 [K]\n",
      "Energy per atom: Epot = -34.712eV  Ekin = 0.111eV (T=855K)  Etot = -34.602eV\n",
      "Step = 126, time = 126.0 [fs], T = 856.03608988 [K]\n",
      "Energy per atom: Epot = -34.713eV  Ekin = 0.111eV (T=856K)  Etot = -34.602eV\n",
      "Step = 127, time = 127.0 [fs], T = 873.16950022 [K]\n",
      "Energy per atom: Epot = -34.714eV  Ekin = 0.113eV (T=873K)  Etot = -34.601eV\n",
      "Step = 128, time = 128.0 [fs], T = 882.234296251 [K]\n",
      "Energy per atom: Epot = -34.715eV  Ekin = 0.114eV (T=882K)  Etot = -34.601eV\n",
      "Step = 129, time = 129.0 [fs], T = 894.817268818 [K]\n",
      "Energy per atom: Epot = -34.717eV  Ekin = 0.116eV (T=895K)  Etot = -34.601eV\n",
      "Step = 130, time = 130.0 [fs], T = 914.070899363 [K]\n",
      "Energy per atom: Epot = -34.719eV  Ekin = 0.118eV (T=914K)  Etot = -34.601eV\n",
      "Step = 131, time = 131.0 [fs], T = 932.693769111 [K]\n",
      "Energy per atom: Epot = -34.721eV  Ekin = 0.121eV (T=933K)  Etot = -34.601eV\n",
      "Step = 132, time = 132.0 [fs], T = 954.301233027 [K]\n",
      "Energy per atom: Epot = -34.724eV  Ekin = 0.123eV (T=954K)  Etot = -34.600eV\n",
      "Step = 133, time = 133.0 [fs], T = 970.774922089 [K]\n",
      "Energy per atom: Epot = -34.726eV  Ekin = 0.125eV (T=971K)  Etot = -34.600eV\n",
      "Step = 134, time = 134.0 [fs], T = 984.449158334 [K]\n",
      "Energy per atom: Epot = -34.728eV  Ekin = 0.127eV (T=984K)  Etot = -34.601eV\n",
      "Step = 135, time = 135.0 [fs], T = 1000.18796199 [K]\n",
      "Energy per atom: Epot = -34.730eV  Ekin = 0.129eV (T=1000K)  Etot = -34.601eV\n",
      "Step = 136, time = 136.0 [fs], T = 1016.95430067 [K]\n",
      "Energy per atom: Epot = -34.732eV  Ekin = 0.131eV (T=1017K)  Etot = -34.601eV\n",
      "Step = 137, time = 137.0 [fs], T = 1029.12608844 [K]\n",
      "Energy per atom: Epot = -34.734eV  Ekin = 0.133eV (T=1029K)  Etot = -34.601eV\n",
      "Step = 138, time = 138.0 [fs], T = 1036.19673357 [K]\n",
      "Energy per atom: Epot = -34.735eV  Ekin = 0.134eV (T=1036K)  Etot = -34.601eV\n",
      "Step = 139, time = 139.0 [fs], T = 1047.83545813 [K]\n",
      "Energy per atom: Epot = -34.736eV  Ekin = 0.135eV (T=1048K)  Etot = -34.601eV\n",
      "Step = 140, time = 140.0 [fs], T = 1052.11001113 [K]\n",
      "Energy per atom: Epot = -34.737eV  Ekin = 0.136eV (T=1052K)  Etot = -34.601eV\n",
      "Step = 141, time = 141.0 [fs], T = 1051.22739023 [K]\n",
      "Energy per atom: Epot = -34.737eV  Ekin = 0.136eV (T=1051K)  Etot = -34.602eV\n",
      "Step = 142, time = 142.0 [fs], T = 1048.48469632 [K]\n",
      "Energy per atom: Epot = -34.738eV  Ekin = 0.136eV (T=1048K)  Etot = -34.602eV\n",
      "Step = 143, time = 143.0 [fs], T = 1045.66687677 [K]\n",
      "Energy per atom: Epot = -34.737eV  Ekin = 0.135eV (T=1046K)  Etot = -34.602eV\n",
      "Step = 144, time = 144.0 [fs], T = 1037.74412229 [K]\n",
      "Energy per atom: Epot = -34.737eV  Ekin = 0.134eV (T=1038K)  Etot = -34.603eV\n",
      "Step = 145, time = 145.0 [fs], T = 1035.41494196 [K]\n",
      "Energy per atom: Epot = -34.736eV  Ekin = 0.134eV (T=1035K)  Etot = -34.602eV\n",
      "Step = 146, time = 146.0 [fs], T = 1030.70758447 [K]\n",
      "Energy per atom: Epot = -34.735eV  Ekin = 0.133eV (T=1031K)  Etot = -34.602eV\n",
      "Step = 147, time = 147.0 [fs], T = 1025.72123385 [K]\n",
      "Energy per atom: Epot = -34.735eV  Ekin = 0.133eV (T=1026K)  Etot = -34.602eV\n",
      "Step = 148, time = 148.0 [fs], T = 1016.67264205 [K]\n",
      "Energy per atom: Epot = -34.733eV  Ekin = 0.131eV (T=1017K)  Etot = -34.602eV\n",
      "Step = 149, time = 149.0 [fs], T = 1012.27364649 [K]\n",
      "Energy per atom: Epot = -34.732eV  Ekin = 0.131eV (T=1012K)  Etot = -34.602eV\n",
      "Step = 150, time = 150.0 [fs], T = 1007.13845316 [K]\n",
      "Energy per atom: Epot = -34.731eV  Ekin = 0.130eV (T=1007K)  Etot = -34.601eV\n",
      "Step = 151, time = 151.0 [fs], T = 1005.26029431 [K]\n",
      "Energy per atom: Epot = -34.730eV  Ekin = 0.130eV (T=1005K)  Etot = -34.600eV\n",
      "Step = 152, time = 152.0 [fs], T = 994.058906753 [K]\n",
      "Energy per atom: Epot = -34.729eV  Ekin = 0.128eV (T=994K)  Etot = -34.601eV\n",
      "Step = 153, time = 153.0 [fs], T = 983.954702575 [K]\n",
      "Energy per atom: Epot = -34.728eV  Ekin = 0.127eV (T=984K)  Etot = -34.601eV\n",
      "Step = 154, time = 154.0 [fs], T = 977.155692786 [K]\n",
      "Energy per atom: Epot = -34.727eV  Ekin = 0.126eV (T=977K)  Etot = -34.601eV\n",
      "Step = 155, time = 155.0 [fs], T = 972.463692363 [K]\n",
      "Energy per atom: Epot = -34.726eV  Ekin = 0.126eV (T=972K)  Etot = -34.601eV\n",
      "Step = 156, time = 156.0 [fs], T = 965.016927896 [K]\n",
      "Energy per atom: Epot = -34.725eV  Ekin = 0.125eV (T=965K)  Etot = -34.601eV\n",
      "Step = 157, time = 157.0 [fs], T = 949.576749154 [K]\n",
      "Energy per atom: Epot = -34.724eV  Ekin = 0.123eV (T=950K)  Etot = -34.601eV\n",
      "Step = 158, time = 158.0 [fs], T = 942.504271359 [K]\n",
      "Energy per atom: Epot = -34.723eV  Ekin = 0.122eV (T=943K)  Etot = -34.601eV\n",
      "Step = 159, time = 159.0 [fs], T = 933.894640735 [K]\n",
      "Energy per atom: Epot = -34.722eV  Ekin = 0.121eV (T=934K)  Etot = -34.602eV\n",
      "Step = 160, time = 160.0 [fs], T = 931.419846515 [K]\n",
      "Energy per atom: Epot = -34.721eV  Ekin = 0.120eV (T=931K)  Etot = -34.601eV\n",
      "Step = 161, time = 161.0 [fs], T = 916.774511675 [K]\n",
      "Energy per atom: Epot = -34.720eV  Ekin = 0.119eV (T=917K)  Etot = -34.602eV\n",
      "Step = 162, time = 162.0 [fs], T = 912.024302855 [K]\n",
      "Energy per atom: Epot = -34.719eV  Ekin = 0.118eV (T=912K)  Etot = -34.601eV\n",
      "Step = 163, time = 163.0 [fs], T = 904.2566018 [K]\n",
      "Energy per atom: Epot = -34.718eV  Ekin = 0.117eV (T=904K)  Etot = -34.601eV\n",
      "Step = 164, time = 164.0 [fs], T = 897.12148906 [K]\n"
     ]
    },
    {
     "name": "stdout",
     "output_type": "stream",
     "text": [
      "Energy per atom: Epot = -34.717eV  Ekin = 0.116eV (T=897K)  Etot = -34.601eV\n",
      "Step = 165, time = 165.0 [fs], T = 884.925100477 [K]\n",
      "Energy per atom: Epot = -34.716eV  Ekin = 0.114eV (T=885K)  Etot = -34.601eV\n",
      "Step = 166, time = 166.0 [fs], T = 874.693532032 [K]\n",
      "Energy per atom: Epot = -34.715eV  Ekin = 0.113eV (T=875K)  Etot = -34.602eV\n",
      "Step = 167, time = 167.0 [fs], T = 877.432853375 [K]\n",
      "Energy per atom: Epot = -34.714eV  Ekin = 0.113eV (T=877K)  Etot = -34.600eV\n",
      "Step = 168, time = 168.0 [fs], T = 877.16810294 [K]\n",
      "Energy per atom: Epot = -34.713eV  Ekin = 0.113eV (T=877K)  Etot = -34.600eV\n",
      "Step = 169, time = 169.0 [fs], T = 869.99957212 [K]\n",
      "Energy per atom: Epot = -34.712eV  Ekin = 0.112eV (T=870K)  Etot = -34.600eV\n",
      "Step = 170, time = 170.0 [fs], T = 873.263430492 [K]\n",
      "Energy per atom: Epot = -34.712eV  Ekin = 0.113eV (T=873K)  Etot = -34.599eV\n",
      "Step = 171, time = 171.0 [fs], T = 866.660530022 [K]\n",
      "Energy per atom: Epot = -34.711eV  Ekin = 0.112eV (T=867K)  Etot = -34.599eV\n",
      "Step = 172, time = 172.0 [fs], T = 866.729048911 [K]\n",
      "Energy per atom: Epot = -34.711eV  Ekin = 0.112eV (T=867K)  Etot = -34.599eV\n",
      "Step = 173, time = 173.0 [fs], T = 869.903987274 [K]\n",
      "Energy per atom: Epot = -34.711eV  Ekin = 0.112eV (T=870K)  Etot = -34.599eV\n",
      "Step = 174, time = 174.0 [fs], T = 873.362640705 [K]\n",
      "Energy per atom: Epot = -34.711eV  Ekin = 0.113eV (T=873K)  Etot = -34.598eV\n",
      "Step = 175, time = 175.0 [fs], T = 878.53290842 [K]\n",
      "Energy per atom: Epot = -34.712eV  Ekin = 0.114eV (T=879K)  Etot = -34.598eV\n",
      "Step = 176, time = 176.0 [fs], T = 884.582207235 [K]\n",
      "Energy per atom: Epot = -34.712eV  Ekin = 0.114eV (T=885K)  Etot = -34.598eV\n",
      "Step = 177, time = 177.0 [fs], T = 889.547888423 [K]\n",
      "Energy per atom: Epot = -34.712eV  Ekin = 0.115eV (T=890K)  Etot = -34.597eV\n",
      "Step = 178, time = 178.0 [fs], T = 893.589008242 [K]\n",
      "Energy per atom: Epot = -34.713eV  Ekin = 0.116eV (T=894K)  Etot = -34.597eV\n",
      "Step = 179, time = 179.0 [fs], T = 899.577353174 [K]\n",
      "Energy per atom: Epot = -34.713eV  Ekin = 0.116eV (T=900K)  Etot = -34.597eV\n",
      "Step = 180, time = 180.0 [fs], T = 905.803450902 [K]\n",
      "Energy per atom: Epot = -34.714eV  Ekin = 0.117eV (T=906K)  Etot = -34.597eV\n",
      "Step = 181, time = 181.0 [fs], T = 905.982652203 [K]\n",
      "Energy per atom: Epot = -34.715eV  Ekin = 0.117eV (T=906K)  Etot = -34.597eV\n",
      "Step = 182, time = 182.0 [fs], T = 912.099101091 [K]\n",
      "Energy per atom: Epot = -34.715eV  Ekin = 0.118eV (T=912K)  Etot = -34.597eV\n",
      "Step = 183, time = 183.0 [fs], T = 908.979332663 [K]\n",
      "Energy per atom: Epot = -34.715eV  Ekin = 0.117eV (T=909K)  Etot = -34.598eV\n",
      "Step = 184, time = 184.0 [fs], T = 910.539342221 [K]\n",
      "Energy per atom: Epot = -34.716eV  Ekin = 0.118eV (T=911K)  Etot = -34.598eV\n",
      "Step = 185, time = 185.0 [fs], T = 912.131514369 [K]\n",
      "Energy per atom: Epot = -34.716eV  Ekin = 0.118eV (T=912K)  Etot = -34.598eV\n",
      "Step = 186, time = 186.0 [fs], T = 910.849974264 [K]\n",
      "Energy per atom: Epot = -34.716eV  Ekin = 0.118eV (T=911K)  Etot = -34.599eV\n",
      "Step = 187, time = 187.0 [fs], T = 908.866747703 [K]\n",
      "Energy per atom: Epot = -34.716eV  Ekin = 0.117eV (T=909K)  Etot = -34.599eV\n",
      "Step = 188, time = 188.0 [fs], T = 909.451934043 [K]\n",
      "Energy per atom: Epot = -34.716eV  Ekin = 0.118eV (T=909K)  Etot = -34.598eV\n",
      "Step = 189, time = 189.0 [fs], T = 906.148887882 [K]\n",
      "Energy per atom: Epot = -34.716eV  Ekin = 0.117eV (T=906K)  Etot = -34.598eV\n",
      "Step = 190, time = 190.0 [fs], T = 901.252010401 [K]\n",
      "Energy per atom: Epot = -34.715eV  Ekin = 0.116eV (T=901K)  Etot = -34.598eV\n",
      "Step = 191, time = 191.0 [fs], T = 892.770004116 [K]\n",
      "Energy per atom: Epot = -34.714eV  Ekin = 0.115eV (T=893K)  Etot = -34.599eV\n",
      "Step = 192, time = 192.0 [fs], T = 884.024401614 [K]\n",
      "Energy per atom: Epot = -34.713eV  Ekin = 0.114eV (T=884K)  Etot = -34.599eV\n",
      "Step = 193, time = 193.0 [fs], T = 864.971306427 [K]\n",
      "Energy per atom: Epot = -34.712eV  Ekin = 0.112eV (T=865K)  Etot = -34.600eV\n",
      "Step = 194, time = 194.0 [fs], T = 852.350494198 [K]\n",
      "Energy per atom: Epot = -34.710eV  Ekin = 0.110eV (T=852K)  Etot = -34.600eV\n",
      "Step = 195, time = 195.0 [fs], T = 843.556991635 [K]\n",
      "Energy per atom: Epot = -34.708eV  Ekin = 0.109eV (T=844K)  Etot = -34.599eV\n",
      "Step = 196, time = 196.0 [fs], T = 828.097043776 [K]\n",
      "Energy per atom: Epot = -34.707eV  Ekin = 0.107eV (T=828K)  Etot = -34.600eV\n",
      "Step = 197, time = 197.0 [fs], T = 807.409926323 [K]\n",
      "Energy per atom: Epot = -34.705eV  Ekin = 0.104eV (T=807K)  Etot = -34.601eV\n",
      "Step = 198, time = 198.0 [fs], T = 794.541971847 [K]\n",
      "Energy per atom: Epot = -34.703eV  Ekin = 0.103eV (T=795K)  Etot = -34.601eV\n",
      "Step = 199, time = 199.0 [fs], T = 778.871152894 [K]\n",
      "Energy per atom: Epot = -34.702eV  Ekin = 0.101eV (T=779K)  Etot = -34.601eV\n",
      "Step = 200, time = 200.0 [fs], T = 758.055504023 [K]\n",
      "Energy per atom: Epot = -34.700eV  Ekin = 0.098eV (T=758K)  Etot = -34.602eV\n",
      "Step = 201, time = 201.0 [fs], T = 749.003901231 [K]\n",
      "Energy per atom: Epot = -34.699eV  Ekin = 0.097eV (T=749K)  Etot = -34.602eV\n",
      "Step = 202, time = 202.0 [fs], T = 736.271267266 [K]\n",
      "Energy per atom: Epot = -34.698eV  Ekin = 0.095eV (T=736K)  Etot = -34.603eV\n",
      "Step = 203, time = 203.0 [fs], T = 730.391876357 [K]\n",
      "Energy per atom: Epot = -34.697eV  Ekin = 0.094eV (T=730K)  Etot = -34.603eV\n",
      "Step = 204, time = 204.0 [fs], T = 724.655679548 [K]\n",
      "Energy per atom: Epot = -34.697eV  Ekin = 0.094eV (T=725K)  Etot = -34.603eV\n",
      "Step = 205, time = 205.0 [fs], T = 723.416184052 [K]\n",
      "Energy per atom: Epot = -34.697eV  Ekin = 0.094eV (T=723K)  Etot = -34.603eV\n",
      "Step = 206, time = 206.0 [fs], T = 723.437642058 [K]\n",
      "Energy per atom: Epot = -34.697eV  Ekin = 0.094eV (T=723K)  Etot = -34.603eV\n",
      "Step = 207, time = 207.0 [fs], T = 729.53106546 [K]\n",
      "Energy per atom: Epot = -34.697eV  Ekin = 0.094eV (T=730K)  Etot = -34.603eV\n",
      "Step = 208, time = 208.0 [fs], T = 733.015632018 [K]\n",
      "Energy per atom: Epot = -34.698eV  Ekin = 0.095eV (T=733K)  Etot = -34.603eV\n",
      "Step = 209, time = 209.0 [fs], T = 737.711415725 [K]\n",
      "Energy per atom: Epot = -34.699eV  Ekin = 0.095eV (T=738K)  Etot = -34.604eV\n",
      "Step = 210, time = 210.0 [fs], T = 743.601247167 [K]\n",
      "Energy per atom: Epot = -34.701eV  Ekin = 0.096eV (T=744K)  Etot = -34.605eV\n",
      "Step = 211, time = 211.0 [fs], T = 759.183053672 [K]\n",
      "Energy per atom: Epot = -34.703eV  Ekin = 0.098eV (T=759K)  Etot = -34.605eV\n",
      "Step = 212, time = 212.0 [fs], T = 766.033585869 [K]\n",
      "Energy per atom: Epot = -34.705eV  Ekin = 0.099eV (T=766K)  Etot = -34.606eV\n",
      "Step = 213, time = 213.0 [fs], T = 780.371789444 [K]\n",
      "Energy per atom: Epot = -34.707eV  Ekin = 0.101eV (T=780K)  Etot = -34.606eV\n",
      "Step = 214, time = 214.0 [fs], T = 801.544427683 [K]\n",
      "Energy per atom: Epot = -34.709eV  Ekin = 0.104eV (T=802K)  Etot = -34.606eV\n",
      "Step = 215, time = 215.0 [fs], T = 815.712627229 [K]\n",
      "Energy per atom: Epot = -34.712eV  Ekin = 0.105eV (T=816K)  Etot = -34.606eV\n",
      "Step = 216, time = 216.0 [fs], T = 835.899583138 [K]\n",
      "Energy per atom: Epot = -34.714eV  Ekin = 0.108eV (T=836K)  Etot = -34.606eV\n",
      "Step = 217, time = 217.0 [fs], T = 862.199256296 [K]\n",
      "Energy per atom: Epot = -34.717eV  Ekin = 0.111eV (T=862K)  Etot = -34.606eV\n",
      "Step = 218, time = 218.0 [fs], T = 887.921218099 [K]\n",
      "Energy per atom: Epot = -34.720eV  Ekin = 0.115eV (T=888K)  Etot = -34.605eV\n",
      "Step = 219, time = 219.0 [fs], T = 898.691669388 [K]\n",
      "Energy per atom: Epot = -34.722eV  Ekin = 0.116eV (T=899K)  Etot = -34.606eV\n",
      "Step = 220, time = 220.0 [fs], T = 916.171491927 [K]\n",
      "Energy per atom: Epot = -34.724eV  Ekin = 0.118eV (T=916K)  Etot = -34.606eV\n",
      "Step = 221, time = 221.0 [fs], T = 929.579623772 [K]\n",
      "Energy per atom: Epot = -34.727eV  Ekin = 0.120eV (T=930K)  Etot = -34.606eV\n",
      "Step = 222, time = 222.0 [fs], T = 940.901876653 [K]\n",
      "Energy per atom: Epot = -34.728eV  Ekin = 0.122eV (T=941K)  Etot = -34.607eV\n",
      "Step = 223, time = 223.0 [fs], T = 955.9797165 [K]\n",
      "Energy per atom: Epot = -34.730eV  Ekin = 0.124eV (T=956K)  Etot = -34.607eV\n",
      "Step = 224, time = 224.0 [fs], T = 964.432926176 [K]\n",
      "Energy per atom: Epot = -34.732eV  Ekin = 0.125eV (T=964K)  Etot = -34.607eV\n",
      "Step = 225, time = 225.0 [fs], T = 976.040666596 [K]\n",
      "Energy per atom: Epot = -34.733eV  Ekin = 0.126eV (T=976K)  Etot = -34.607eV\n",
      "Step = 226, time = 226.0 [fs], T = 987.762816257 [K]\n",
      "Energy per atom: Epot = -34.734eV  Ekin = 0.128eV (T=988K)  Etot = -34.607eV\n",
      "Step = 227, time = 227.0 [fs], T = 990.537571619 [K]\n",
      "Energy per atom: Epot = -34.735eV  Ekin = 0.128eV (T=991K)  Etot = -34.607eV\n"
     ]
    },
    {
     "name": "stdout",
     "output_type": "stream",
     "text": [
      "Step = 228, time = 228.0 [fs], T = 992.31338956 [K]\n",
      "Energy per atom: Epot = -34.736eV  Ekin = 0.128eV (T=992K)  Etot = -34.607eV\n",
      "Step = 229, time = 229.0 [fs], T = 997.354117398 [K]\n",
      "Energy per atom: Epot = -34.736eV  Ekin = 0.129eV (T=997K)  Etot = -34.607eV\n",
      "Step = 230, time = 230.0 [fs], T = 998.511907649 [K]\n",
      "Energy per atom: Epot = -34.736eV  Ekin = 0.129eV (T=999K)  Etot = -34.607eV\n",
      "Step = 231, time = 231.0 [fs], T = 1000.49201776 [K]\n",
      "Energy per atom: Epot = -34.736eV  Ekin = 0.129eV (T=1000K)  Etot = -34.607eV\n",
      "Step = 232, time = 232.0 [fs], T = 998.737518665 [K]\n",
      "Energy per atom: Epot = -34.736eV  Ekin = 0.129eV (T=999K)  Etot = -34.607eV\n",
      "Step = 233, time = 233.0 [fs], T = 996.240993114 [K]\n",
      "Energy per atom: Epot = -34.736eV  Ekin = 0.129eV (T=996K)  Etot = -34.607eV\n",
      "Step = 234, time = 234.0 [fs], T = 997.269408771 [K]\n",
      "Energy per atom: Epot = -34.735eV  Ekin = 0.129eV (T=997K)  Etot = -34.606eV\n",
      "Step = 235, time = 235.0 [fs], T = 995.02129563 [K]\n",
      "Energy per atom: Epot = -34.735eV  Ekin = 0.129eV (T=995K)  Etot = -34.606eV\n",
      "Step = 236, time = 236.0 [fs], T = 994.449235054 [K]\n",
      "Energy per atom: Epot = -34.734eV  Ekin = 0.129eV (T=994K)  Etot = -34.606eV\n",
      "Step = 237, time = 237.0 [fs], T = 990.902783784 [K]\n",
      "Energy per atom: Epot = -34.733eV  Ekin = 0.128eV (T=991K)  Etot = -34.605eV\n",
      "Step = 238, time = 238.0 [fs], T = 984.567777563 [K]\n",
      "Energy per atom: Epot = -34.733eV  Ekin = 0.127eV (T=985K)  Etot = -34.605eV\n",
      "Step = 239, time = 239.0 [fs], T = 975.091100829 [K]\n",
      "Energy per atom: Epot = -34.732eV  Ekin = 0.126eV (T=975K)  Etot = -34.606eV\n",
      "Step = 240, time = 240.0 [fs], T = 961.349794087 [K]\n",
      "Energy per atom: Epot = -34.731eV  Ekin = 0.124eV (T=961K)  Etot = -34.606eV\n",
      "Step = 241, time = 241.0 [fs], T = 949.531225094 [K]\n",
      "Energy per atom: Epot = -34.730eV  Ekin = 0.123eV (T=950K)  Etot = -34.607eV\n",
      "Step = 242, time = 242.0 [fs], T = 935.397246982 [K]\n",
      "Energy per atom: Epot = -34.729eV  Ekin = 0.121eV (T=935K)  Etot = -34.608eV\n",
      "Step = 243, time = 243.0 [fs], T = 927.557469097 [K]\n",
      "Energy per atom: Epot = -34.727eV  Ekin = 0.120eV (T=928K)  Etot = -34.608eV\n",
      "Step = 244, time = 244.0 [fs], T = 912.112716721 [K]\n",
      "Energy per atom: Epot = -34.726eV  Ekin = 0.118eV (T=912K)  Etot = -34.608eV\n",
      "Step = 245, time = 245.0 [fs], T = 904.054140268 [K]\n",
      "Energy per atom: Epot = -34.725eV  Ekin = 0.117eV (T=904K)  Etot = -34.608eV\n",
      "Step = 246, time = 246.0 [fs], T = 891.778319183 [K]\n",
      "Energy per atom: Epot = -34.724eV  Ekin = 0.115eV (T=892K)  Etot = -34.608eV\n",
      "Step = 247, time = 247.0 [fs], T = 881.87972637 [K]\n",
      "Energy per atom: Epot = -34.722eV  Ekin = 0.114eV (T=882K)  Etot = -34.608eV\n",
      "Step = 248, time = 248.0 [fs], T = 868.790976886 [K]\n",
      "Energy per atom: Epot = -34.721eV  Ekin = 0.112eV (T=869K)  Etot = -34.608eV\n",
      "Step = 249, time = 249.0 [fs], T = 856.637124771 [K]\n",
      "Energy per atom: Epot = -34.719eV  Ekin = 0.111eV (T=857K)  Etot = -34.608eV\n",
      "Step = 250, time = 250.0 [fs], T = 843.371361607 [K]\n",
      "Energy per atom: Epot = -34.718eV  Ekin = 0.109eV (T=843K)  Etot = -34.609eV\n",
      "Step = 251, time = 251.0 [fs], T = 837.385565428 [K]\n",
      "Energy per atom: Epot = -34.716eV  Ekin = 0.108eV (T=837K)  Etot = -34.608eV\n",
      "Step = 252, time = 252.0 [fs], T = 837.045944199 [K]\n",
      "Energy per atom: Epot = -34.715eV  Ekin = 0.108eV (T=837K)  Etot = -34.606eV\n",
      "Step = 253, time = 253.0 [fs], T = 825.259143865 [K]\n",
      "Energy per atom: Epot = -34.713eV  Ekin = 0.107eV (T=825K)  Etot = -34.607eV\n",
      "Step = 254, time = 254.0 [fs], T = 810.871833969 [K]\n",
      "Energy per atom: Epot = -34.712eV  Ekin = 0.105eV (T=811K)  Etot = -34.607eV\n",
      "Step = 255, time = 255.0 [fs], T = 807.495604804 [K]\n",
      "Energy per atom: Epot = -34.711eV  Ekin = 0.104eV (T=807K)  Etot = -34.606eV\n",
      "Step = 256, time = 256.0 [fs], T = 802.440197053 [K]\n",
      "Energy per atom: Epot = -34.710eV  Ekin = 0.104eV (T=802K)  Etot = -34.606eV\n",
      "Step = 257, time = 257.0 [fs], T = 804.88422953 [K]\n",
      "Energy per atom: Epot = -34.709eV  Ekin = 0.104eV (T=805K)  Etot = -34.605eV\n",
      "Step = 258, time = 258.0 [fs], T = 795.697689043 [K]\n",
      "Energy per atom: Epot = -34.709eV  Ekin = 0.103eV (T=796K)  Etot = -34.606eV\n",
      "Step = 259, time = 259.0 [fs], T = 796.546591961 [K]\n",
      "Energy per atom: Epot = -34.708eV  Ekin = 0.103eV (T=797K)  Etot = -34.605eV\n",
      "Step = 260, time = 260.0 [fs], T = 792.521949831 [K]\n",
      "Energy per atom: Epot = -34.708eV  Ekin = 0.102eV (T=793K)  Etot = -34.606eV\n",
      "Step = 261, time = 261.0 [fs], T = 797.981718386 [K]\n",
      "Energy per atom: Epot = -34.709eV  Ekin = 0.103eV (T=798K)  Etot = -34.606eV\n",
      "Step = 262, time = 262.0 [fs], T = 804.714585285 [K]\n",
      "Energy per atom: Epot = -34.710eV  Ekin = 0.104eV (T=805K)  Etot = -34.606eV\n",
      "Step = 263, time = 263.0 [fs], T = 811.326348839 [K]\n",
      "Energy per atom: Epot = -34.711eV  Ekin = 0.105eV (T=811K)  Etot = -34.606eV\n",
      "Step = 264, time = 264.0 [fs], T = 819.212576227 [K]\n",
      "Energy per atom: Epot = -34.712eV  Ekin = 0.106eV (T=819K)  Etot = -34.606eV\n",
      "Step = 265, time = 265.0 [fs], T = 823.826373455 [K]\n",
      "Energy per atom: Epot = -34.714eV  Ekin = 0.106eV (T=824K)  Etot = -34.607eV\n",
      "Step = 266, time = 266.0 [fs], T = 834.929338009 [K]\n",
      "Energy per atom: Epot = -34.716eV  Ekin = 0.108eV (T=835K)  Etot = -34.608eV\n",
      "Step = 267, time = 267.0 [fs], T = 850.388194267 [K]\n",
      "Energy per atom: Epot = -34.718eV  Ekin = 0.110eV (T=850K)  Etot = -34.608eV\n",
      "Step = 268, time = 268.0 [fs], T = 871.676460621 [K]\n",
      "Energy per atom: Epot = -34.720eV  Ekin = 0.113eV (T=872K)  Etot = -34.607eV\n",
      "Step = 269, time = 269.0 [fs], T = 890.599135847 [K]\n",
      "Energy per atom: Epot = -34.722eV  Ekin = 0.115eV (T=891K)  Etot = -34.607eV\n",
      "Step = 270, time = 270.0 [fs], T = 903.938810865 [K]\n",
      "Energy per atom: Epot = -34.725eV  Ekin = 0.117eV (T=904K)  Etot = -34.608eV\n",
      "Step = 271, time = 271.0 [fs], T = 922.06285751 [K]\n",
      "Energy per atom: Epot = -34.727eV  Ekin = 0.119eV (T=922K)  Etot = -34.608eV\n",
      "Step = 272, time = 272.0 [fs], T = 936.238432824 [K]\n",
      "Energy per atom: Epot = -34.729eV  Ekin = 0.121eV (T=936K)  Etot = -34.608eV\n",
      "Step = 273, time = 273.0 [fs], T = 952.115406881 [K]\n",
      "Energy per atom: Epot = -34.731eV  Ekin = 0.123eV (T=952K)  Etot = -34.608eV\n",
      "Step = 274, time = 274.0 [fs], T = 966.693454268 [K]\n",
      "Energy per atom: Epot = -34.734eV  Ekin = 0.125eV (T=967K)  Etot = -34.609eV\n",
      "Step = 275, time = 275.0 [fs], T = 980.906692716 [K]\n",
      "Energy per atom: Epot = -34.735eV  Ekin = 0.127eV (T=981K)  Etot = -34.609eV\n",
      "Step = 276, time = 276.0 [fs], T = 997.27634522 [K]\n",
      "Energy per atom: Epot = -34.737eV  Ekin = 0.129eV (T=997K)  Etot = -34.608eV\n",
      "Step = 277, time = 277.0 [fs], T = 1008.37459162 [K]\n",
      "Energy per atom: Epot = -34.739eV  Ekin = 0.130eV (T=1008K)  Etot = -34.608eV\n",
      "Step = 278, time = 278.0 [fs], T = 1013.05540638 [K]\n",
      "Energy per atom: Epot = -34.740eV  Ekin = 0.131eV (T=1013K)  Etot = -34.609eV\n",
      "Step = 279, time = 279.0 [fs], T = 1018.6428978 [K]\n",
      "Energy per atom: Epot = -34.741eV  Ekin = 0.132eV (T=1019K)  Etot = -34.609eV\n",
      "Step = 280, time = 280.0 [fs], T = 1034.9259806 [K]\n",
      "Energy per atom: Epot = -34.742eV  Ekin = 0.134eV (T=1035K)  Etot = -34.608eV\n",
      "Step = 281, time = 281.0 [fs], T = 1034.55660994 [K]\n",
      "Energy per atom: Epot = -34.743eV  Ekin = 0.134eV (T=1035K)  Etot = -34.609eV\n",
      "Step = 282, time = 282.0 [fs], T = 1047.52298932 [K]\n",
      "Energy per atom: Epot = -34.744eV  Ekin = 0.135eV (T=1048K)  Etot = -34.608eV\n",
      "Step = 283, time = 283.0 [fs], T = 1056.82656418 [K]\n",
      "Energy per atom: Epot = -34.744eV  Ekin = 0.137eV (T=1057K)  Etot = -34.608eV\n",
      "Step = 284, time = 284.0 [fs], T = 1066.68918022 [K]\n",
      "Energy per atom: Epot = -34.745eV  Ekin = 0.138eV (T=1067K)  Etot = -34.607eV\n",
      "Step = 285, time = 285.0 [fs], T = 1067.91555223 [K]\n",
      "Energy per atom: Epot = -34.745eV  Ekin = 0.138eV (T=1068K)  Etot = -34.607eV\n",
      "Step = 286, time = 286.0 [fs], T = 1060.08324667 [K]\n",
      "Energy per atom: Epot = -34.744eV  Ekin = 0.137eV (T=1060K)  Etot = -34.607eV\n",
      "Step = 287, time = 287.0 [fs], T = 1057.29979497 [K]\n",
      "Energy per atom: Epot = -34.744eV  Ekin = 0.137eV (T=1057K)  Etot = -34.607eV\n",
      "Step = 288, time = 288.0 [fs], T = 1054.3368021 [K]\n",
      "Energy per atom: Epot = -34.743eV  Ekin = 0.136eV (T=1054K)  Etot = -34.607eV\n",
      "Step = 289, time = 289.0 [fs], T = 1053.39221841 [K]\n",
      "Energy per atom: Epot = -34.742eV  Ekin = 0.136eV (T=1053K)  Etot = -34.606eV\n",
      "Step = 290, time = 290.0 [fs], T = 1046.76992609 [K]\n",
      "Energy per atom: Epot = -34.741eV  Ekin = 0.135eV (T=1047K)  Etot = -34.606eV\n",
      "Step = 291, time = 291.0 [fs], T = 1031.42072583 [K]\n"
     ]
    },
    {
     "name": "stdout",
     "output_type": "stream",
     "text": [
      "Energy per atom: Epot = -34.739eV  Ekin = 0.133eV (T=1031K)  Etot = -34.606eV\n",
      "Step = 292, time = 292.0 [fs], T = 1015.809306 [K]\n",
      "Energy per atom: Epot = -34.738eV  Ekin = 0.131eV (T=1016K)  Etot = -34.606eV\n",
      "Step = 293, time = 293.0 [fs], T = 1009.2945874 [K]\n",
      "Energy per atom: Epot = -34.736eV  Ekin = 0.130eV (T=1009K)  Etot = -34.605eV\n",
      "Step = 294, time = 294.0 [fs], T = 993.615887413 [K]\n",
      "Energy per atom: Epot = -34.734eV  Ekin = 0.128eV (T=994K)  Etot = -34.605eV\n",
      "Step = 295, time = 295.0 [fs], T = 971.124714658 [K]\n",
      "Energy per atom: Epot = -34.731eV  Ekin = 0.126eV (T=971K)  Etot = -34.606eV\n",
      "Step = 296, time = 296.0 [fs], T = 947.900505427 [K]\n",
      "Energy per atom: Epot = -34.729eV  Ekin = 0.123eV (T=948K)  Etot = -34.606eV\n",
      "Step = 297, time = 297.0 [fs], T = 924.273266109 [K]\n",
      "Energy per atom: Epot = -34.726eV  Ekin = 0.119eV (T=924K)  Etot = -34.607eV\n",
      "Step = 298, time = 298.0 [fs], T = 907.708525232 [K]\n",
      "Energy per atom: Epot = -34.724eV  Ekin = 0.117eV (T=908K)  Etot = -34.606eV\n",
      "Step = 299, time = 299.0 [fs], T = 887.714756296 [K]\n",
      "Energy per atom: Epot = -34.721eV  Ekin = 0.115eV (T=888K)  Etot = -34.606eV\n",
      "Step = 300, time = 300.0 [fs], T = 869.614796795 [K]\n",
      "Energy per atom: Epot = -34.719eV  Ekin = 0.112eV (T=870K)  Etot = -34.606eV\n",
      "Step = 301, time = 301.0 [fs], T = 854.115566181 [K]\n",
      "Energy per atom: Epot = -34.716eV  Ekin = 0.110eV (T=854K)  Etot = -34.606eV\n",
      "Step = 302, time = 302.0 [fs], T = 844.909037791 [K]\n",
      "Energy per atom: Epot = -34.714eV  Ekin = 0.109eV (T=845K)  Etot = -34.605eV\n",
      "Step = 303, time = 303.0 [fs], T = 838.370953448 [K]\n",
      "Energy per atom: Epot = -34.712eV  Ekin = 0.108eV (T=838K)  Etot = -34.604eV\n",
      "Step = 304, time = 304.0 [fs], T = 820.394872025 [K]\n",
      "Energy per atom: Epot = -34.710eV  Ekin = 0.106eV (T=820K)  Etot = -34.604eV\n",
      "Step = 305, time = 305.0 [fs], T = 808.709101695 [K]\n",
      "Energy per atom: Epot = -34.709eV  Ekin = 0.105eV (T=809K)  Etot = -34.604eV\n",
      "Step = 306, time = 306.0 [fs], T = 807.456318971 [K]\n",
      "Energy per atom: Epot = -34.707eV  Ekin = 0.104eV (T=807K)  Etot = -34.603eV\n",
      "Step = 307, time = 307.0 [fs], T = 801.159439776 [K]\n",
      "Energy per atom: Epot = -34.706eV  Ekin = 0.104eV (T=801K)  Etot = -34.603eV\n",
      "Step = 308, time = 308.0 [fs], T = 800.140576399 [K]\n",
      "Energy per atom: Epot = -34.705eV  Ekin = 0.103eV (T=800K)  Etot = -34.602eV\n",
      "Step = 309, time = 309.0 [fs], T = 793.440764684 [K]\n",
      "Energy per atom: Epot = -34.705eV  Ekin = 0.103eV (T=793K)  Etot = -34.602eV\n",
      "Step = 310, time = 310.0 [fs], T = 787.169267594 [K]\n",
      "Energy per atom: Epot = -34.705eV  Ekin = 0.102eV (T=787K)  Etot = -34.603eV\n",
      "Step = 311, time = 311.0 [fs], T = 784.228124211 [K]\n",
      "Energy per atom: Epot = -34.705eV  Ekin = 0.101eV (T=784K)  Etot = -34.603eV\n",
      "Step = 312, time = 312.0 [fs], T = 779.858534692 [K]\n",
      "Energy per atom: Epot = -34.705eV  Ekin = 0.101eV (T=780K)  Etot = -34.604eV\n",
      "Step = 313, time = 313.0 [fs], T = 786.066908665 [K]\n",
      "Energy per atom: Epot = -34.705eV  Ekin = 0.102eV (T=786K)  Etot = -34.604eV\n",
      "Step = 314, time = 314.0 [fs], T = 791.398748649 [K]\n",
      "Energy per atom: Epot = -34.706eV  Ekin = 0.102eV (T=791K)  Etot = -34.604eV\n",
      "Step = 315, time = 315.0 [fs], T = 792.597501012 [K]\n",
      "Energy per atom: Epot = -34.707eV  Ekin = 0.102eV (T=793K)  Etot = -34.604eV\n",
      "Step = 316, time = 316.0 [fs], T = 804.59823609 [K]\n",
      "Energy per atom: Epot = -34.708eV  Ekin = 0.104eV (T=805K)  Etot = -34.604eV\n",
      "Step = 317, time = 317.0 [fs], T = 814.797670321 [K]\n",
      "Energy per atom: Epot = -34.709eV  Ekin = 0.105eV (T=815K)  Etot = -34.603eV\n",
      "Step = 318, time = 318.0 [fs], T = 832.54165737 [K]\n",
      "Energy per atom: Epot = -34.710eV  Ekin = 0.108eV (T=833K)  Etot = -34.602eV\n",
      "Step = 319, time = 319.0 [fs], T = 841.449857821 [K]\n",
      "Energy per atom: Epot = -34.711eV  Ekin = 0.109eV (T=841K)  Etot = -34.602eV\n",
      "Step = 320, time = 320.0 [fs], T = 848.283460357 [K]\n",
      "Energy per atom: Epot = -34.712eV  Ekin = 0.110eV (T=848K)  Etot = -34.602eV\n",
      "Step = 321, time = 321.0 [fs], T = 858.100059676 [K]\n",
      "Energy per atom: Epot = -34.713eV  Ekin = 0.111eV (T=858K)  Etot = -34.602eV\n",
      "Step = 322, time = 322.0 [fs], T = 853.584482277 [K]\n",
      "Energy per atom: Epot = -34.714eV  Ekin = 0.110eV (T=854K)  Etot = -34.603eV\n",
      "Step = 323, time = 323.0 [fs], T = 859.756931118 [K]\n",
      "Energy per atom: Epot = -34.715eV  Ekin = 0.111eV (T=860K)  Etot = -34.604eV\n",
      "Step = 324, time = 324.0 [fs], T = 863.672736555 [K]\n",
      "Energy per atom: Epot = -34.716eV  Ekin = 0.112eV (T=864K)  Etot = -34.604eV\n",
      "Step = 325, time = 325.0 [fs], T = 875.017836775 [K]\n",
      "Energy per atom: Epot = -34.717eV  Ekin = 0.113eV (T=875K)  Etot = -34.604eV\n",
      "Step = 326, time = 326.0 [fs], T = 880.04907032 [K]\n",
      "Energy per atom: Epot = -34.718eV  Ekin = 0.114eV (T=880K)  Etot = -34.604eV\n",
      "Step = 327, time = 327.0 [fs], T = 887.264513422 [K]\n",
      "Energy per atom: Epot = -34.719eV  Ekin = 0.115eV (T=887K)  Etot = -34.604eV\n",
      "Step = 328, time = 328.0 [fs], T = 900.409057302 [K]\n",
      "Energy per atom: Epot = -34.720eV  Ekin = 0.116eV (T=900K)  Etot = -34.604eV\n",
      "Step = 329, time = 329.0 [fs], T = 901.273507719 [K]\n",
      "Energy per atom: Epot = -34.721eV  Ekin = 0.116eV (T=901K)  Etot = -34.605eV\n",
      "Step = 330, time = 330.0 [fs], T = 917.209195338 [K]\n",
      "Energy per atom: Epot = -34.722eV  Ekin = 0.119eV (T=917K)  Etot = -34.604eV\n",
      "Step = 331, time = 331.0 [fs], T = 925.481919417 [K]\n",
      "Energy per atom: Epot = -34.723eV  Ekin = 0.120eV (T=925K)  Etot = -34.604eV\n",
      "Step = 332, time = 332.0 [fs], T = 939.305590828 [K]\n",
      "Energy per atom: Epot = -34.724eV  Ekin = 0.121eV (T=939K)  Etot = -34.603eV\n",
      "Step = 333, time = 333.0 [fs], T = 947.661712226 [K]\n",
      "Energy per atom: Epot = -34.725eV  Ekin = 0.122eV (T=948K)  Etot = -34.603eV\n",
      "Step = 334, time = 334.0 [fs], T = 953.897648725 [K]\n",
      "Energy per atom: Epot = -34.726eV  Ekin = 0.123eV (T=954K)  Etot = -34.603eV\n",
      "Step = 335, time = 335.0 [fs], T = 963.311396321 [K]\n",
      "Energy per atom: Epot = -34.727eV  Ekin = 0.125eV (T=963K)  Etot = -34.602eV\n",
      "Step = 336, time = 336.0 [fs], T = 962.936729619 [K]\n",
      "Energy per atom: Epot = -34.727eV  Ekin = 0.124eV (T=963K)  Etot = -34.603eV\n",
      "Step = 337, time = 337.0 [fs], T = 963.115389308 [K]\n",
      "Energy per atom: Epot = -34.728eV  Ekin = 0.124eV (T=963K)  Etot = -34.603eV\n",
      "Step = 338, time = 338.0 [fs], T = 958.183355902 [K]\n",
      "Energy per atom: Epot = -34.728eV  Ekin = 0.124eV (T=958K)  Etot = -34.604eV\n",
      "Step = 339, time = 339.0 [fs], T = 956.611220333 [K]\n",
      "Energy per atom: Epot = -34.728eV  Ekin = 0.124eV (T=957K)  Etot = -34.604eV\n",
      "Step = 340, time = 340.0 [fs], T = 954.694429404 [K]\n",
      "Energy per atom: Epot = -34.727eV  Ekin = 0.123eV (T=955K)  Etot = -34.604eV\n",
      "Step = 341, time = 341.0 [fs], T = 954.437257029 [K]\n",
      "Energy per atom: Epot = -34.726eV  Ekin = 0.123eV (T=954K)  Etot = -34.603eV\n",
      "Step = 342, time = 342.0 [fs], T = 948.700563895 [K]\n",
      "Energy per atom: Epot = -34.726eV  Ekin = 0.123eV (T=949K)  Etot = -34.603eV\n",
      "Step = 343, time = 343.0 [fs], T = 951.453071405 [K]\n",
      "Energy per atom: Epot = -34.724eV  Ekin = 0.123eV (T=951K)  Etot = -34.601eV\n",
      "Step = 344, time = 344.0 [fs], T = 948.878336245 [K]\n",
      "Energy per atom: Epot = -34.723eV  Ekin = 0.123eV (T=949K)  Etot = -34.600eV\n",
      "Step = 345, time = 345.0 [fs], T = 929.796545913 [K]\n",
      "Energy per atom: Epot = -34.721eV  Ekin = 0.120eV (T=930K)  Etot = -34.601eV\n",
      "Step = 346, time = 346.0 [fs], T = 912.721761106 [K]\n",
      "Energy per atom: Epot = -34.720eV  Ekin = 0.118eV (T=913K)  Etot = -34.602eV\n",
      "Step = 347, time = 347.0 [fs], T = 900.209380593 [K]\n",
      "Energy per atom: Epot = -34.718eV  Ekin = 0.116eV (T=900K)  Etot = -34.601eV\n",
      "Step = 348, time = 348.0 [fs], T = 885.06600427 [K]\n",
      "Energy per atom: Epot = -34.716eV  Ekin = 0.114eV (T=885K)  Etot = -34.601eV\n",
      "Step = 349, time = 349.0 [fs], T = 873.829263767 [K]\n",
      "Energy per atom: Epot = -34.714eV  Ekin = 0.113eV (T=874K)  Etot = -34.601eV\n",
      "Step = 350, time = 350.0 [fs], T = 854.070143381 [K]\n",
      "Energy per atom: Epot = -34.712eV  Ekin = 0.110eV (T=854K)  Etot = -34.601eV\n",
      "Step = 351, time = 351.0 [fs], T = 836.05346436 [K]\n",
      "Energy per atom: Epot = -34.710eV  Ekin = 0.108eV (T=836K)  Etot = -34.602eV\n",
      "Step = 352, time = 352.0 [fs], T = 827.86450269 [K]\n",
      "Energy per atom: Epot = -34.708eV  Ekin = 0.107eV (T=828K)  Etot = -34.601eV\n",
      "Step = 353, time = 353.0 [fs], T = 810.191716683 [K]\n",
      "Energy per atom: Epot = -34.707eV  Ekin = 0.105eV (T=810K)  Etot = -34.602eV\n",
      "Step = 354, time = 354.0 [fs], T = 798.605440293 [K]\n",
      "Energy per atom: Epot = -34.705eV  Ekin = 0.103eV (T=799K)  Etot = -34.602eV\n",
      "Step = 355, time = 355.0 [fs], T = 789.49067502 [K]\n",
      "Energy per atom: Epot = -34.705eV  Ekin = 0.102eV (T=789K)  Etot = -34.602eV\n"
     ]
    },
    {
     "name": "stdout",
     "output_type": "stream",
     "text": [
      "Step = 356, time = 356.0 [fs], T = 787.060119284 [K]\n",
      "Energy per atom: Epot = -34.704eV  Ekin = 0.102eV (T=787K)  Etot = -34.602eV\n",
      "Step = 357, time = 357.0 [fs], T = 790.019911856 [K]\n",
      "Energy per atom: Epot = -34.704eV  Ekin = 0.102eV (T=790K)  Etot = -34.602eV\n",
      "Step = 358, time = 358.0 [fs], T = 791.464381965 [K]\n",
      "Energy per atom: Epot = -34.705eV  Ekin = 0.102eV (T=791K)  Etot = -34.603eV\n",
      "Step = 359, time = 359.0 [fs], T = 792.434454122 [K]\n",
      "Energy per atom: Epot = -34.706eV  Ekin = 0.102eV (T=792K)  Etot = -34.604eV\n",
      "Step = 360, time = 360.0 [fs], T = 806.145492489 [K]\n",
      "Energy per atom: Epot = -34.708eV  Ekin = 0.104eV (T=806K)  Etot = -34.604eV\n",
      "Step = 361, time = 361.0 [fs], T = 821.24587994 [K]\n",
      "Energy per atom: Epot = -34.710eV  Ekin = 0.106eV (T=821K)  Etot = -34.604eV\n",
      "Step = 362, time = 362.0 [fs], T = 836.058997025 [K]\n",
      "Energy per atom: Epot = -34.712eV  Ekin = 0.108eV (T=836K)  Etot = -34.604eV\n",
      "Step = 363, time = 363.0 [fs], T = 862.394700438 [K]\n",
      "Energy per atom: Epot = -34.715eV  Ekin = 0.111eV (T=862K)  Etot = -34.604eV\n",
      "Step = 364, time = 364.0 [fs], T = 886.779186208 [K]\n",
      "Energy per atom: Epot = -34.718eV  Ekin = 0.115eV (T=887K)  Etot = -34.604eV\n",
      "Step = 365, time = 365.0 [fs], T = 910.27138228 [K]\n",
      "Energy per atom: Epot = -34.722eV  Ekin = 0.118eV (T=910K)  Etot = -34.604eV\n",
      "Step = 366, time = 366.0 [fs], T = 931.060658678 [K]\n",
      "Energy per atom: Epot = -34.725eV  Ekin = 0.120eV (T=931K)  Etot = -34.605eV\n",
      "Step = 367, time = 367.0 [fs], T = 955.543776458 [K]\n",
      "Energy per atom: Epot = -34.729eV  Ekin = 0.124eV (T=956K)  Etot = -34.605eV\n",
      "Step = 368, time = 368.0 [fs], T = 985.451616003 [K]\n",
      "Energy per atom: Epot = -34.732eV  Ekin = 0.127eV (T=985K)  Etot = -34.605eV\n",
      "Step = 369, time = 369.0 [fs], T = 1003.28937722 [K]\n",
      "Energy per atom: Epot = -34.736eV  Ekin = 0.130eV (T=1003K)  Etot = -34.606eV\n",
      "Step = 370, time = 370.0 [fs], T = 1022.6351904 [K]\n",
      "Energy per atom: Epot = -34.739eV  Ekin = 0.132eV (T=1023K)  Etot = -34.606eV\n",
      "Step = 371, time = 371.0 [fs], T = 1041.23600969 [K]\n",
      "Energy per atom: Epot = -34.741eV  Ekin = 0.135eV (T=1041K)  Etot = -34.607eV\n",
      "Step = 372, time = 372.0 [fs], T = 1056.602995 [K]\n",
      "Energy per atom: Epot = -34.744eV  Ekin = 0.137eV (T=1057K)  Etot = -34.607eV\n",
      "Step = 373, time = 373.0 [fs], T = 1069.32623998 [K]\n",
      "Energy per atom: Epot = -34.746eV  Ekin = 0.138eV (T=1069K)  Etot = -34.608eV\n",
      "Step = 374, time = 374.0 [fs], T = 1086.86918349 [K]\n",
      "Energy per atom: Epot = -34.748eV  Ekin = 0.140eV (T=1087K)  Etot = -34.607eV\n",
      "Step = 375, time = 375.0 [fs], T = 1097.52672428 [K]\n",
      "Energy per atom: Epot = -34.749eV  Ekin = 0.142eV (T=1098K)  Etot = -34.607eV\n",
      "Step = 376, time = 376.0 [fs], T = 1103.64316166 [K]\n",
      "Energy per atom: Epot = -34.750eV  Ekin = 0.143eV (T=1104K)  Etot = -34.607eV\n",
      "Step = 377, time = 377.0 [fs], T = 1105.08516778 [K]\n",
      "Energy per atom: Epot = -34.750eV  Ekin = 0.143eV (T=1105K)  Etot = -34.607eV\n",
      "Step = 378, time = 378.0 [fs], T = 1107.16290593 [K]\n",
      "Energy per atom: Epot = -34.750eV  Ekin = 0.143eV (T=1107K)  Etot = -34.607eV\n",
      "Step = 379, time = 379.0 [fs], T = 1103.28536566 [K]\n",
      "Energy per atom: Epot = -34.749eV  Ekin = 0.143eV (T=1103K)  Etot = -34.606eV\n",
      "Step = 380, time = 380.0 [fs], T = 1096.61355786 [K]\n",
      "Energy per atom: Epot = -34.748eV  Ekin = 0.142eV (T=1097K)  Etot = -34.606eV\n",
      "Step = 381, time = 381.0 [fs], T = 1085.15594815 [K]\n",
      "Energy per atom: Epot = -34.746eV  Ekin = 0.140eV (T=1085K)  Etot = -34.606eV\n",
      "Step = 382, time = 382.0 [fs], T = 1066.80433132 [K]\n",
      "Energy per atom: Epot = -34.744eV  Ekin = 0.138eV (T=1067K)  Etot = -34.607eV\n",
      "Step = 383, time = 383.0 [fs], T = 1052.36903567 [K]\n",
      "Energy per atom: Epot = -34.742eV  Ekin = 0.136eV (T=1052K)  Etot = -34.606eV\n",
      "Step = 384, time = 384.0 [fs], T = 1030.73020078 [K]\n",
      "Energy per atom: Epot = -34.740eV  Ekin = 0.133eV (T=1031K)  Etot = -34.606eV\n",
      "Step = 385, time = 385.0 [fs], T = 1012.48687211 [K]\n",
      "Energy per atom: Epot = -34.737eV  Ekin = 0.131eV (T=1012K)  Etot = -34.606eV\n",
      "Step = 386, time = 386.0 [fs], T = 985.517008758 [K]\n",
      "Energy per atom: Epot = -34.734eV  Ekin = 0.127eV (T=986K)  Etot = -34.606eV\n",
      "Step = 387, time = 387.0 [fs], T = 960.815753901 [K]\n",
      "Energy per atom: Epot = -34.730eV  Ekin = 0.124eV (T=961K)  Etot = -34.606eV\n",
      "Step = 388, time = 388.0 [fs], T = 933.148687933 [K]\n",
      "Energy per atom: Epot = -34.727eV  Ekin = 0.121eV (T=933K)  Etot = -34.606eV\n",
      "Step = 389, time = 389.0 [fs], T = 909.266653693 [K]\n",
      "Energy per atom: Epot = -34.723eV  Ekin = 0.118eV (T=909K)  Etot = -34.606eV\n",
      "Step = 390, time = 390.0 [fs], T = 880.976571731 [K]\n",
      "Energy per atom: Epot = -34.720eV  Ekin = 0.114eV (T=881K)  Etot = -34.606eV\n",
      "Step = 391, time = 391.0 [fs], T = 853.247800868 [K]\n",
      "Energy per atom: Epot = -34.717eV  Ekin = 0.110eV (T=853K)  Etot = -34.606eV\n",
      "Step = 392, time = 392.0 [fs], T = 825.761994827 [K]\n",
      "Energy per atom: Epot = -34.714eV  Ekin = 0.107eV (T=826K)  Etot = -34.607eV\n",
      "Step = 393, time = 393.0 [fs], T = 806.282230027 [K]\n",
      "Energy per atom: Epot = -34.711eV  Ekin = 0.104eV (T=806K)  Etot = -34.606eV\n",
      "Step = 394, time = 394.0 [fs], T = 783.710853601 [K]\n",
      "Energy per atom: Epot = -34.708eV  Ekin = 0.101eV (T=784K)  Etot = -34.607eV\n",
      "Step = 395, time = 395.0 [fs], T = 758.468918766 [K]\n",
      "Energy per atom: Epot = -34.706eV  Ekin = 0.098eV (T=758K)  Etot = -34.607eV\n",
      "Step = 396, time = 396.0 [fs], T = 748.1555634 [K]\n",
      "Energy per atom: Epot = -34.704eV  Ekin = 0.097eV (T=748K)  Etot = -34.607eV\n",
      "Step = 397, time = 397.0 [fs], T = 730.639316163 [K]\n",
      "Energy per atom: Epot = -34.702eV  Ekin = 0.094eV (T=731K)  Etot = -34.607eV\n",
      "Step = 398, time = 398.0 [fs], T = 717.83258687 [K]\n",
      "Energy per atom: Epot = -34.701eV  Ekin = 0.093eV (T=718K)  Etot = -34.608eV\n",
      "Step = 399, time = 399.0 [fs], T = 712.058942196 [K]\n",
      "Energy per atom: Epot = -34.700eV  Ekin = 0.092eV (T=712K)  Etot = -34.608eV\n",
      "Step = 400, time = 400.0 [fs], T = 710.741732007 [K]\n",
      "Energy per atom: Epot = -34.699eV  Ekin = 0.092eV (T=711K)  Etot = -34.608eV\n",
      "Step = 401, time = 401.0 [fs], T = 704.119306651 [K]\n",
      "Energy per atom: Epot = -34.700eV  Ekin = 0.091eV (T=704K)  Etot = -34.609eV\n",
      "Step = 402, time = 402.0 [fs], T = 707.618130403 [K]\n",
      "Energy per atom: Epot = -34.700eV  Ekin = 0.091eV (T=708K)  Etot = -34.609eV\n",
      "Step = 403, time = 403.0 [fs], T = 717.430363791 [K]\n",
      "Energy per atom: Epot = -34.701eV  Ekin = 0.093eV (T=717K)  Etot = -34.608eV\n",
      "Step = 404, time = 404.0 [fs], T = 729.158611288 [K]\n",
      "Energy per atom: Epot = -34.703eV  Ekin = 0.094eV (T=729K)  Etot = -34.608eV\n",
      "Step = 405, time = 405.0 [fs], T = 740.90744472 [K]\n",
      "Energy per atom: Epot = -34.704eV  Ekin = 0.096eV (T=741K)  Etot = -34.609eV\n",
      "Step = 406, time = 406.0 [fs], T = 757.826801683 [K]\n",
      "Energy per atom: Epot = -34.707eV  Ekin = 0.098eV (T=758K)  Etot = -34.609eV\n",
      "Step = 407, time = 407.0 [fs], T = 781.362999861 [K]\n",
      "Energy per atom: Epot = -34.709eV  Ekin = 0.101eV (T=781K)  Etot = -34.608eV\n",
      "Step = 408, time = 408.0 [fs], T = 804.529717546 [K]\n",
      "Energy per atom: Epot = -34.713eV  Ekin = 0.104eV (T=805K)  Etot = -34.609eV\n",
      "Step = 409, time = 409.0 [fs], T = 834.873936454 [K]\n",
      "Energy per atom: Epot = -34.716eV  Ekin = 0.108eV (T=835K)  Etot = -34.608eV\n",
      "Step = 410, time = 410.0 [fs], T = 856.697126252 [K]\n",
      "Energy per atom: Epot = -34.719eV  Ekin = 0.111eV (T=857K)  Etot = -34.609eV\n",
      "Step = 411, time = 411.0 [fs], T = 883.171570551 [K]\n",
      "Energy per atom: Epot = -34.723eV  Ekin = 0.114eV (T=883K)  Etot = -34.609eV\n",
      "Step = 412, time = 412.0 [fs], T = 912.888535863 [K]\n",
      "Energy per atom: Epot = -34.727eV  Ekin = 0.118eV (T=913K)  Etot = -34.609eV\n",
      "Step = 413, time = 413.0 [fs], T = 951.321175945 [K]\n",
      "Energy per atom: Epot = -34.731eV  Ekin = 0.123eV (T=951K)  Etot = -34.608eV\n",
      "Step = 414, time = 414.0 [fs], T = 985.318483424 [K]\n",
      "Energy per atom: Epot = -34.735eV  Ekin = 0.127eV (T=985K)  Etot = -34.607eV\n",
      "Step = 415, time = 415.0 [fs], T = 1015.24516174 [K]\n",
      "Energy per atom: Epot = -34.739eV  Ekin = 0.131eV (T=1015K)  Etot = -34.607eV\n",
      "Step = 416, time = 416.0 [fs], T = 1043.5417204 [K]\n",
      "Energy per atom: Epot = -34.742eV  Ekin = 0.135eV (T=1044K)  Etot = -34.607eV\n",
      "Step = 417, time = 417.0 [fs], T = 1074.58270305 [K]\n",
      "Energy per atom: Epot = -34.746eV  Ekin = 0.139eV (T=1075K)  Etot = -34.607eV\n",
      "Step = 418, time = 418.0 [fs], T = 1089.91911099 [K]\n",
      "Energy per atom: Epot = -34.749eV  Ekin = 0.141eV (T=1090K)  Etot = -34.608eV\n",
      "Step = 419, time = 419.0 [fs], T = 1104.27105732 [K]\n",
      "Energy per atom: Epot = -34.752eV  Ekin = 0.143eV (T=1104K)  Etot = -34.609eV\n"
     ]
    },
    {
     "name": "stdout",
     "output_type": "stream",
     "text": [
      "Step = 420, time = 420.0 [fs], T = 1126.09961884 [K]\n",
      "Energy per atom: Epot = -34.754eV  Ekin = 0.146eV (T=1126K)  Etot = -34.608eV\n",
      "Step = 421, time = 421.0 [fs], T = 1140.17500939 [K]\n",
      "Energy per atom: Epot = -34.755eV  Ekin = 0.147eV (T=1140K)  Etot = -34.608eV\n",
      "Step = 422, time = 422.0 [fs], T = 1147.05570974 [K]\n",
      "Energy per atom: Epot = -34.756eV  Ekin = 0.148eV (T=1147K)  Etot = -34.608eV\n",
      "Step = 423, time = 423.0 [fs], T = 1155.1556442 [K]\n",
      "Energy per atom: Epot = -34.756eV  Ekin = 0.149eV (T=1155K)  Etot = -34.607eV\n",
      "Step = 424, time = 424.0 [fs], T = 1154.87199011 [K]\n",
      "Energy per atom: Epot = -34.756eV  Ekin = 0.149eV (T=1155K)  Etot = -34.607eV\n",
      "Step = 425, time = 425.0 [fs], T = 1144.3128304 [K]\n",
      "Energy per atom: Epot = -34.755eV  Ekin = 0.148eV (T=1144K)  Etot = -34.607eV\n",
      "Step = 426, time = 426.0 [fs], T = 1129.40563179 [K]\n",
      "Energy per atom: Epot = -34.753eV  Ekin = 0.146eV (T=1129K)  Etot = -34.607eV\n",
      "Step = 427, time = 427.0 [fs], T = 1111.0445371 [K]\n",
      "Energy per atom: Epot = -34.751eV  Ekin = 0.144eV (T=1111K)  Etot = -34.607eV\n",
      "Step = 428, time = 428.0 [fs], T = 1086.02669483 [K]\n",
      "Energy per atom: Epot = -34.748eV  Ekin = 0.140eV (T=1086K)  Etot = -34.608eV\n",
      "Step = 429, time = 429.0 [fs], T = 1053.03123227 [K]\n",
      "Energy per atom: Epot = -34.745eV  Ekin = 0.136eV (T=1053K)  Etot = -34.609eV\n",
      "Step = 430, time = 430.0 [fs], T = 1024.75608867 [K]\n",
      "Energy per atom: Epot = -34.741eV  Ekin = 0.132eV (T=1025K)  Etot = -34.609eV\n",
      "Step = 431, time = 431.0 [fs], T = 995.519493411 [K]\n",
      "Energy per atom: Epot = -34.738eV  Ekin = 0.129eV (T=996K)  Etot = -34.609eV\n",
      "Step = 432, time = 432.0 [fs], T = 960.397248602 [K]\n",
      "Energy per atom: Epot = -34.734eV  Ekin = 0.124eV (T=960K)  Etot = -34.610eV\n",
      "Step = 433, time = 433.0 [fs], T = 942.205591842 [K]\n",
      "Energy per atom: Epot = -34.730eV  Ekin = 0.122eV (T=942K)  Etot = -34.609eV\n",
      "Step = 434, time = 434.0 [fs], T = 909.751331256 [K]\n",
      "Energy per atom: Epot = -34.727eV  Ekin = 0.118eV (T=910K)  Etot = -34.609eV\n",
      "Step = 435, time = 435.0 [fs], T = 888.715402691 [K]\n",
      "Energy per atom: Epot = -34.724eV  Ekin = 0.115eV (T=889K)  Etot = -34.609eV\n",
      "Step = 436, time = 436.0 [fs], T = 861.917588586 [K]\n",
      "Energy per atom: Epot = -34.721eV  Ekin = 0.111eV (T=862K)  Etot = -34.610eV\n",
      "Step = 437, time = 437.0 [fs], T = 851.02483232 [K]\n",
      "Energy per atom: Epot = -34.719eV  Ekin = 0.110eV (T=851K)  Etot = -34.609eV\n",
      "Step = 438, time = 438.0 [fs], T = 839.132802344 [K]\n",
      "Energy per atom: Epot = -34.718eV  Ekin = 0.108eV (T=839K)  Etot = -34.609eV\n",
      "Step = 439, time = 439.0 [fs], T = 824.105733618 [K]\n",
      "Energy per atom: Epot = -34.717eV  Ekin = 0.107eV (T=824K)  Etot = -34.610eV\n",
      "Step = 440, time = 440.0 [fs], T = 824.992154135 [K]\n",
      "Energy per atom: Epot = -34.717eV  Ekin = 0.107eV (T=825K)  Etot = -34.610eV\n",
      "Step = 441, time = 441.0 [fs], T = 822.168388627 [K]\n",
      "Energy per atom: Epot = -34.717eV  Ekin = 0.106eV (T=822K)  Etot = -34.611eV\n",
      "Step = 442, time = 442.0 [fs], T = 826.642606765 [K]\n",
      "Energy per atom: Epot = -34.718eV  Ekin = 0.107eV (T=827K)  Etot = -34.611eV\n",
      "Step = 443, time = 443.0 [fs], T = 838.055926733 [K]\n",
      "Energy per atom: Epot = -34.720eV  Ekin = 0.108eV (T=838K)  Etot = -34.611eV\n",
      "Step = 444, time = 444.0 [fs], T = 845.662586862 [K]\n",
      "Energy per atom: Epot = -34.721eV  Ekin = 0.109eV (T=846K)  Etot = -34.612eV\n",
      "Step = 445, time = 445.0 [fs], T = 855.496689192 [K]\n",
      "Energy per atom: Epot = -34.724eV  Ekin = 0.111eV (T=855K)  Etot = -34.613eV\n",
      "Step = 446, time = 446.0 [fs], T = 874.976059999 [K]\n",
      "Energy per atom: Epot = -34.726eV  Ekin = 0.113eV (T=875K)  Etot = -34.613eV\n",
      "Step = 447, time = 447.0 [fs], T = 893.853493068 [K]\n",
      "Energy per atom: Epot = -34.729eV  Ekin = 0.116eV (T=894K)  Etot = -34.613eV\n",
      "Step = 448, time = 448.0 [fs], T = 911.619227746 [K]\n",
      "Energy per atom: Epot = -34.731eV  Ekin = 0.118eV (T=912K)  Etot = -34.613eV\n",
      "Step = 449, time = 449.0 [fs], T = 926.269468129 [K]\n",
      "Energy per atom: Epot = -34.734eV  Ekin = 0.120eV (T=926K)  Etot = -34.614eV\n",
      "Step = 450, time = 450.0 [fs], T = 938.454718885 [K]\n",
      "Energy per atom: Epot = -34.736eV  Ekin = 0.121eV (T=938K)  Etot = -34.615eV\n",
      "Step = 451, time = 451.0 [fs], T = 960.138769907 [K]\n",
      "Energy per atom: Epot = -34.738eV  Ekin = 0.124eV (T=960K)  Etot = -34.614eV\n",
      "Step = 452, time = 452.0 [fs], T = 976.011019646 [K]\n",
      "Energy per atom: Epot = -34.740eV  Ekin = 0.126eV (T=976K)  Etot = -34.613eV\n",
      "Step = 453, time = 453.0 [fs], T = 990.356140577 [K]\n",
      "Energy per atom: Epot = -34.741eV  Ekin = 0.128eV (T=990K)  Etot = -34.613eV\n",
      "Step = 454, time = 454.0 [fs], T = 992.455027446 [K]\n",
      "Energy per atom: Epot = -34.742eV  Ekin = 0.128eV (T=992K)  Etot = -34.613eV\n",
      "Step = 455, time = 455.0 [fs], T = 1000.36575273 [K]\n",
      "Energy per atom: Epot = -34.742eV  Ekin = 0.129eV (T=1000K)  Etot = -34.613eV\n",
      "Step = 456, time = 456.0 [fs], T = 999.682180282 [K]\n",
      "Energy per atom: Epot = -34.742eV  Ekin = 0.129eV (T=1000K)  Etot = -34.613eV\n",
      "Step = 457, time = 457.0 [fs], T = 1002.87037333 [K]\n",
      "Energy per atom: Epot = -34.742eV  Ekin = 0.130eV (T=1003K)  Etot = -34.612eV\n",
      "Step = 458, time = 458.0 [fs], T = 989.223705458 [K]\n",
      "Energy per atom: Epot = -34.741eV  Ekin = 0.128eV (T=989K)  Etot = -34.613eV\n",
      "Step = 459, time = 459.0 [fs], T = 974.522368145 [K]\n",
      "Energy per atom: Epot = -34.739eV  Ekin = 0.126eV (T=975K)  Etot = -34.613eV\n",
      "Step = 460, time = 460.0 [fs], T = 963.402111169 [K]\n",
      "Energy per atom: Epot = -34.738eV  Ekin = 0.125eV (T=963K)  Etot = -34.613eV\n",
      "Step = 461, time = 461.0 [fs], T = 952.007443271 [K]\n",
      "Energy per atom: Epot = -34.736eV  Ekin = 0.123eV (T=952K)  Etot = -34.613eV\n",
      "Step = 462, time = 462.0 [fs], T = 933.247656342 [K]\n",
      "Energy per atom: Epot = -34.734eV  Ekin = 0.121eV (T=933K)  Etot = -34.613eV\n",
      "Step = 463, time = 463.0 [fs], T = 921.009607672 [K]\n",
      "Energy per atom: Epot = -34.731eV  Ekin = 0.119eV (T=921K)  Etot = -34.612eV\n",
      "Step = 464, time = 464.0 [fs], T = 901.873980399 [K]\n",
      "Energy per atom: Epot = -34.729eV  Ekin = 0.117eV (T=902K)  Etot = -34.612eV\n",
      "Step = 465, time = 465.0 [fs], T = 887.246126273 [K]\n",
      "Energy per atom: Epot = -34.727eV  Ekin = 0.115eV (T=887K)  Etot = -34.612eV\n",
      "Step = 466, time = 466.0 [fs], T = 867.876782948 [K]\n",
      "Energy per atom: Epot = -34.725eV  Ekin = 0.112eV (T=868K)  Etot = -34.613eV\n",
      "Step = 467, time = 467.0 [fs], T = 857.40435979 [K]\n",
      "Energy per atom: Epot = -34.723eV  Ekin = 0.111eV (T=857K)  Etot = -34.612eV\n",
      "Step = 468, time = 468.0 [fs], T = 843.907652352 [K]\n",
      "Energy per atom: Epot = -34.721eV  Ekin = 0.109eV (T=844K)  Etot = -34.612eV\n",
      "Step = 469, time = 469.0 [fs], T = 833.939992515 [K]\n",
      "Energy per atom: Epot = -34.720eV  Ekin = 0.108eV (T=834K)  Etot = -34.612eV\n",
      "Step = 470, time = 470.0 [fs], T = 824.865179227 [K]\n",
      "Energy per atom: Epot = -34.719eV  Ekin = 0.107eV (T=825K)  Etot = -34.612eV\n",
      "Step = 471, time = 471.0 [fs], T = 820.37463778 [K]\n",
      "Energy per atom: Epot = -34.718eV  Ekin = 0.106eV (T=820K)  Etot = -34.612eV\n",
      "Step = 472, time = 472.0 [fs], T = 818.141253601 [K]\n",
      "Energy per atom: Epot = -34.718eV  Ekin = 0.106eV (T=818K)  Etot = -34.613eV\n",
      "Step = 473, time = 473.0 [fs], T = 824.75250604 [K]\n",
      "Energy per atom: Epot = -34.719eV  Ekin = 0.107eV (T=825K)  Etot = -34.612eV\n",
      "Step = 474, time = 474.0 [fs], T = 833.94043551 [K]\n",
      "Energy per atom: Epot = -34.719eV  Ekin = 0.108eV (T=834K)  Etot = -34.611eV\n",
      "Step = 475, time = 475.0 [fs], T = 849.215198996 [K]\n",
      "Energy per atom: Epot = -34.720eV  Ekin = 0.110eV (T=849K)  Etot = -34.611eV\n",
      "Step = 476, time = 476.0 [fs], T = 851.765540832 [K]\n",
      "Energy per atom: Epot = -34.722eV  Ekin = 0.110eV (T=852K)  Etot = -34.612eV\n",
      "Step = 477, time = 477.0 [fs], T = 862.617694709 [K]\n",
      "Energy per atom: Epot = -34.724eV  Ekin = 0.112eV (T=863K)  Etot = -34.612eV\n",
      "Step = 478, time = 478.0 [fs], T = 885.876550955 [K]\n",
      "Energy per atom: Epot = -34.726eV  Ekin = 0.115eV (T=886K)  Etot = -34.611eV\n",
      "Step = 479, time = 479.0 [fs], T = 901.585800287 [K]\n",
      "Energy per atom: Epot = -34.728eV  Ekin = 0.117eV (T=902K)  Etot = -34.611eV\n",
      "Step = 480, time = 480.0 [fs], T = 923.942127715 [K]\n",
      "Energy per atom: Epot = -34.730eV  Ekin = 0.119eV (T=924K)  Etot = -34.611eV\n",
      "Step = 481, time = 481.0 [fs], T = 943.632142454 [K]\n",
      "Energy per atom: Epot = -34.733eV  Ekin = 0.122eV (T=944K)  Etot = -34.611eV\n",
      "Step = 482, time = 482.0 [fs], T = 961.696597459 [K]\n",
      "Energy per atom: Epot = -34.735eV  Ekin = 0.124eV (T=962K)  Etot = -34.611eV\n",
      "Step = 483, time = 483.0 [fs], T = 978.005336404 [K]\n",
      "Energy per atom: Epot = -34.737eV  Ekin = 0.126eV (T=978K)  Etot = -34.611eV\n"
     ]
    },
    {
     "name": "stdout",
     "output_type": "stream",
     "text": [
      "Step = 484, time = 484.0 [fs], T = 992.114166264 [K]\n",
      "Energy per atom: Epot = -34.740eV  Ekin = 0.128eV (T=992K)  Etot = -34.611eV\n",
      "Step = 485, time = 485.0 [fs], T = 1010.00227613 [K]\n",
      "Energy per atom: Epot = -34.741eV  Ekin = 0.131eV (T=1010K)  Etot = -34.611eV\n",
      "Step = 486, time = 486.0 [fs], T = 1026.95419327 [K]\n",
      "Energy per atom: Epot = -34.743eV  Ekin = 0.133eV (T=1027K)  Etot = -34.610eV\n",
      "Step = 487, time = 487.0 [fs], T = 1037.11391119 [K]\n",
      "Energy per atom: Epot = -34.745eV  Ekin = 0.134eV (T=1037K)  Etot = -34.610eV\n",
      "Step = 488, time = 488.0 [fs], T = 1043.06811179 [K]\n",
      "Energy per atom: Epot = -34.746eV  Ekin = 0.135eV (T=1043K)  Etot = -34.611eV\n",
      "Step = 489, time = 489.0 [fs], T = 1048.348172 [K]\n",
      "Energy per atom: Epot = -34.746eV  Ekin = 0.136eV (T=1048K)  Etot = -34.611eV\n",
      "Step = 490, time = 490.0 [fs], T = 1052.38565441 [K]\n",
      "Energy per atom: Epot = -34.747eV  Ekin = 0.136eV (T=1052K)  Etot = -34.611eV\n",
      "Step = 491, time = 491.0 [fs], T = 1052.20696057 [K]\n",
      "Energy per atom: Epot = -34.747eV  Ekin = 0.136eV (T=1052K)  Etot = -34.611eV\n",
      "Step = 492, time = 492.0 [fs], T = 1050.55570377 [K]\n",
      "Energy per atom: Epot = -34.746eV  Ekin = 0.136eV (T=1051K)  Etot = -34.611eV\n",
      "Step = 493, time = 493.0 [fs], T = 1047.971715 [K]\n",
      "Energy per atom: Epot = -34.746eV  Ekin = 0.135eV (T=1048K)  Etot = -34.610eV\n",
      "Step = 494, time = 494.0 [fs], T = 1044.86724844 [K]\n",
      "Energy per atom: Epot = -34.745eV  Ekin = 0.135eV (T=1045K)  Etot = -34.610eV\n",
      "Step = 495, time = 495.0 [fs], T = 1034.33741803 [K]\n",
      "Energy per atom: Epot = -34.744eV  Ekin = 0.134eV (T=1034K)  Etot = -34.610eV\n",
      "Step = 496, time = 496.0 [fs], T = 1027.77615399 [K]\n",
      "Energy per atom: Epot = -34.743eV  Ekin = 0.133eV (T=1028K)  Etot = -34.610eV\n",
      "Step = 497, time = 497.0 [fs], T = 1011.60701468 [K]\n",
      "Energy per atom: Epot = -34.741eV  Ekin = 0.131eV (T=1012K)  Etot = -34.611eV\n",
      "Step = 498, time = 498.0 [fs], T = 1004.33156302 [K]\n",
      "Energy per atom: Epot = -34.740eV  Ekin = 0.130eV (T=1004K)  Etot = -34.610eV\n",
      "Step = 499, time = 499.0 [fs], T = 993.071009706 [K]\n",
      "Energy per atom: Epot = -34.738eV  Ekin = 0.128eV (T=993K)  Etot = -34.610eV\n",
      "Step = 500, time = 500.0 [fs], T = 980.872360206 [K]\n",
      "Energy per atom: Epot = -34.737eV  Ekin = 0.127eV (T=981K)  Etot = -34.610eV\n",
      "Step = 501, time = 501.0 [fs], T = 972.841187886 [K]\n",
      "Energy per atom: Epot = -34.736eV  Ekin = 0.126eV (T=973K)  Etot = -34.610eV\n",
      "Step = 502, time = 502.0 [fs], T = 973.134170823 [K]\n",
      "Energy per atom: Epot = -34.735eV  Ekin = 0.126eV (T=973K)  Etot = -34.609eV\n",
      "Step = 503, time = 503.0 [fs], T = 961.002281261 [K]\n",
      "Energy per atom: Epot = -34.734eV  Ekin = 0.124eV (T=961K)  Etot = -34.610eV\n",
      "Step = 504, time = 504.0 [fs], T = 954.233806846 [K]\n",
      "Energy per atom: Epot = -34.733eV  Ekin = 0.123eV (T=954K)  Etot = -34.610eV\n",
      "Step = 505, time = 505.0 [fs], T = 947.248094114 [K]\n",
      "Energy per atom: Epot = -34.732eV  Ekin = 0.122eV (T=947K)  Etot = -34.610eV\n",
      "Step = 506, time = 506.0 [fs], T = 941.752513631 [K]\n",
      "Energy per atom: Epot = -34.732eV  Ekin = 0.122eV (T=942K)  Etot = -34.610eV\n",
      "Step = 507, time = 507.0 [fs], T = 935.216127679 [K]\n",
      "Energy per atom: Epot = -34.731eV  Ekin = 0.121eV (T=935K)  Etot = -34.610eV\n",
      "Step = 508, time = 508.0 [fs], T = 928.807705997 [K]\n",
      "Energy per atom: Epot = -34.730eV  Ekin = 0.120eV (T=929K)  Etot = -34.610eV\n",
      "Step = 509, time = 509.0 [fs], T = 920.34566092 [K]\n",
      "Energy per atom: Epot = -34.729eV  Ekin = 0.119eV (T=920K)  Etot = -34.610eV\n",
      "Step = 510, time = 510.0 [fs], T = 917.44070762 [K]\n",
      "Energy per atom: Epot = -34.728eV  Ekin = 0.119eV (T=917K)  Etot = -34.610eV\n",
      "Step = 511, time = 511.0 [fs], T = 911.637549357 [K]\n",
      "Energy per atom: Epot = -34.727eV  Ekin = 0.118eV (T=912K)  Etot = -34.609eV\n",
      "Step = 512, time = 512.0 [fs], T = 909.580177317 [K]\n",
      "Energy per atom: Epot = -34.726eV  Ekin = 0.118eV (T=910K)  Etot = -34.609eV\n",
      "Step = 513, time = 513.0 [fs], T = 892.192971321 [K]\n",
      "Energy per atom: Epot = -34.726eV  Ekin = 0.115eV (T=892K)  Etot = -34.610eV\n",
      "Step = 514, time = 514.0 [fs], T = 888.943193186 [K]\n",
      "Energy per atom: Epot = -34.725eV  Ekin = 0.115eV (T=889K)  Etot = -34.610eV\n",
      "Step = 515, time = 515.0 [fs], T = 885.124869637 [K]\n",
      "Energy per atom: Epot = -34.724eV  Ekin = 0.114eV (T=885K)  Etot = -34.610eV\n",
      "Step = 516, time = 516.0 [fs], T = 876.982008628 [K]\n",
      "Energy per atom: Epot = -34.724eV  Ekin = 0.113eV (T=877K)  Etot = -34.611eV\n",
      "Step = 517, time = 517.0 [fs], T = 875.522936756 [K]\n",
      "Energy per atom: Epot = -34.724eV  Ekin = 0.113eV (T=876K)  Etot = -34.610eV\n",
      "Step = 518, time = 518.0 [fs], T = 873.170006874 [K]\n",
      "Energy per atom: Epot = -34.724eV  Ekin = 0.113eV (T=873K)  Etot = -34.611eV\n",
      "Step = 519, time = 519.0 [fs], T = 873.799119281 [K]\n",
      "Energy per atom: Epot = -34.724eV  Ekin = 0.113eV (T=874K)  Etot = -34.611eV\n",
      "Step = 520, time = 520.0 [fs], T = 878.599349799 [K]\n",
      "Energy per atom: Epot = -34.724eV  Ekin = 0.114eV (T=879K)  Etot = -34.610eV\n",
      "Step = 521, time = 521.0 [fs], T = 885.244281789 [K]\n",
      "Energy per atom: Epot = -34.724eV  Ekin = 0.114eV (T=885K)  Etot = -34.610eV\n",
      "Step = 522, time = 522.0 [fs], T = 887.720351658 [K]\n",
      "Energy per atom: Epot = -34.725eV  Ekin = 0.115eV (T=888K)  Etot = -34.610eV\n",
      "Step = 523, time = 523.0 [fs], T = 890.547582275 [K]\n",
      "Energy per atom: Epot = -34.726eV  Ekin = 0.115eV (T=891K)  Etot = -34.611eV\n",
      "Step = 524, time = 524.0 [fs], T = 893.542975343 [K]\n",
      "Energy per atom: Epot = -34.727eV  Ekin = 0.115eV (T=894K)  Etot = -34.611eV\n",
      "Step = 525, time = 525.0 [fs], T = 900.120733027 [K]\n",
      "Energy per atom: Epot = -34.728eV  Ekin = 0.116eV (T=900K)  Etot = -34.611eV\n",
      "Step = 526, time = 526.0 [fs], T = 904.565665633 [K]\n",
      "Energy per atom: Epot = -34.729eV  Ekin = 0.117eV (T=905K)  Etot = -34.612eV\n",
      "Step = 527, time = 527.0 [fs], T = 916.785689891 [K]\n",
      "Energy per atom: Epot = -34.730eV  Ekin = 0.119eV (T=917K)  Etot = -34.611eV\n",
      "Step = 528, time = 528.0 [fs], T = 923.986274839 [K]\n",
      "Energy per atom: Epot = -34.731eV  Ekin = 0.119eV (T=924K)  Etot = -34.611eV\n",
      "Step = 529, time = 529.0 [fs], T = 933.959310272 [K]\n",
      "Energy per atom: Epot = -34.731eV  Ekin = 0.121eV (T=934K)  Etot = -34.611eV\n",
      "Step = 530, time = 530.0 [fs], T = 936.753342822 [K]\n",
      "Energy per atom: Epot = -34.732eV  Ekin = 0.121eV (T=937K)  Etot = -34.611eV\n",
      "Step = 531, time = 531.0 [fs], T = 938.141294051 [K]\n",
      "Energy per atom: Epot = -34.732eV  Ekin = 0.121eV (T=938K)  Etot = -34.611eV\n",
      "Step = 532, time = 532.0 [fs], T = 937.681779595 [K]\n",
      "Energy per atom: Epot = -34.732eV  Ekin = 0.121eV (T=938K)  Etot = -34.611eV\n",
      "Step = 533, time = 533.0 [fs], T = 942.818835057 [K]\n",
      "Energy per atom: Epot = -34.732eV  Ekin = 0.122eV (T=943K)  Etot = -34.610eV\n",
      "Step = 534, time = 534.0 [fs], T = 937.488850002 [K]\n",
      "Energy per atom: Epot = -34.731eV  Ekin = 0.121eV (T=937K)  Etot = -34.610eV\n",
      "Step = 535, time = 535.0 [fs], T = 923.429778264 [K]\n",
      "Energy per atom: Epot = -34.731eV  Ekin = 0.119eV (T=923K)  Etot = -34.611eV\n",
      "Step = 536, time = 536.0 [fs], T = 914.467134387 [K]\n",
      "Energy per atom: Epot = -34.730eV  Ekin = 0.118eV (T=914K)  Etot = -34.611eV\n",
      "Step = 537, time = 537.0 [fs], T = 904.917264824 [K]\n",
      "Energy per atom: Epot = -34.728eV  Ekin = 0.117eV (T=905K)  Etot = -34.611eV\n",
      "Step = 538, time = 538.0 [fs], T = 895.666550995 [K]\n",
      "Energy per atom: Epot = -34.727eV  Ekin = 0.116eV (T=896K)  Etot = -34.611eV\n",
      "Step = 539, time = 539.0 [fs], T = 882.786684584 [K]\n",
      "Energy per atom: Epot = -34.725eV  Ekin = 0.114eV (T=883K)  Etot = -34.611eV\n",
      "Step = 540, time = 540.0 [fs], T = 864.879343307 [K]\n",
      "Energy per atom: Epot = -34.723eV  Ekin = 0.112eV (T=865K)  Etot = -34.611eV\n",
      "Step = 541, time = 541.0 [fs], T = 849.085989633 [K]\n",
      "Energy per atom: Epot = -34.721eV  Ekin = 0.110eV (T=849K)  Etot = -34.611eV\n",
      "Step = 542, time = 542.0 [fs], T = 836.893667351 [K]\n",
      "Energy per atom: Epot = -34.719eV  Ekin = 0.108eV (T=837K)  Etot = -34.611eV\n",
      "Step = 543, time = 543.0 [fs], T = 821.061389131 [K]\n",
      "Energy per atom: Epot = -34.717eV  Ekin = 0.106eV (T=821K)  Etot = -34.611eV\n",
      "Step = 544, time = 544.0 [fs], T = 805.277152192 [K]\n",
      "Energy per atom: Epot = -34.716eV  Ekin = 0.104eV (T=805K)  Etot = -34.612eV\n",
      "Step = 545, time = 545.0 [fs], T = 785.644265432 [K]\n",
      "Energy per atom: Epot = -34.714eV  Ekin = 0.102eV (T=786K)  Etot = -34.613eV\n",
      "Step = 546, time = 546.0 [fs], T = 776.538673728 [K]\n",
      "Energy per atom: Epot = -34.713eV  Ekin = 0.100eV (T=777K)  Etot = -34.612eV\n",
      "Step = 547, time = 547.0 [fs], T = 768.980847595 [K]\n"
     ]
    },
    {
     "name": "stdout",
     "output_type": "stream",
     "text": [
      "Energy per atom: Epot = -34.712eV  Ekin = 0.099eV (T=769K)  Etot = -34.612eV\n",
      "Step = 548, time = 548.0 [fs], T = 761.916644819 [K]\n",
      "Energy per atom: Epot = -34.711eV  Ekin = 0.098eV (T=762K)  Etot = -34.612eV\n",
      "Step = 549, time = 549.0 [fs], T = 755.339497834 [K]\n",
      "Energy per atom: Epot = -34.710eV  Ekin = 0.098eV (T=755K)  Etot = -34.612eV\n",
      "Step = 550, time = 550.0 [fs], T = 749.702397874 [K]\n",
      "Energy per atom: Epot = -34.709eV  Ekin = 0.097eV (T=750K)  Etot = -34.612eV\n",
      "Step = 551, time = 551.0 [fs], T = 746.318668046 [K]\n",
      "Energy per atom: Epot = -34.709eV  Ekin = 0.096eV (T=746K)  Etot = -34.612eV\n",
      "Step = 552, time = 552.0 [fs], T = 740.20377054 [K]\n",
      "Energy per atom: Epot = -34.709eV  Ekin = 0.096eV (T=740K)  Etot = -34.613eV\n",
      "Step = 553, time = 553.0 [fs], T = 745.98952727 [K]\n",
      "Energy per atom: Epot = -34.709eV  Ekin = 0.096eV (T=746K)  Etot = -34.613eV\n",
      "Step = 554, time = 554.0 [fs], T = 751.478579879 [K]\n",
      "Energy per atom: Epot = -34.710eV  Ekin = 0.097eV (T=751K)  Etot = -34.612eV\n",
      "Step = 555, time = 555.0 [fs], T = 754.592496862 [K]\n",
      "Energy per atom: Epot = -34.710eV  Ekin = 0.098eV (T=755K)  Etot = -34.613eV\n",
      "Step = 556, time = 556.0 [fs], T = 758.961118752 [K]\n",
      "Energy per atom: Epot = -34.711eV  Ekin = 0.098eV (T=759K)  Etot = -34.613eV\n",
      "Step = 557, time = 557.0 [fs], T = 763.574612496 [K]\n",
      "Energy per atom: Epot = -34.712eV  Ekin = 0.099eV (T=764K)  Etot = -34.613eV\n",
      "Step = 558, time = 558.0 [fs], T = 773.86486532 [K]\n",
      "Energy per atom: Epot = -34.713eV  Ekin = 0.100eV (T=774K)  Etot = -34.613eV\n",
      "Step = 559, time = 559.0 [fs], T = 783.246854066 [K]\n",
      "Energy per atom: Epot = -34.715eV  Ekin = 0.101eV (T=783K)  Etot = -34.614eV\n",
      "Step = 560, time = 560.0 [fs], T = 790.243341473 [K]\n",
      "Energy per atom: Epot = -34.717eV  Ekin = 0.102eV (T=790K)  Etot = -34.614eV\n",
      "Step = 561, time = 561.0 [fs], T = 803.081470535 [K]\n",
      "Energy per atom: Epot = -34.718eV  Ekin = 0.104eV (T=803K)  Etot = -34.614eV\n",
      "Step = 562, time = 562.0 [fs], T = 814.051544955 [K]\n",
      "Energy per atom: Epot = -34.720eV  Ekin = 0.105eV (T=814K)  Etot = -34.615eV\n",
      "Step = 563, time = 563.0 [fs], T = 832.80053193 [K]\n",
      "Energy per atom: Epot = -34.722eV  Ekin = 0.108eV (T=833K)  Etot = -34.614eV\n",
      "Step = 564, time = 564.0 [fs], T = 846.619060135 [K]\n",
      "Energy per atom: Epot = -34.724eV  Ekin = 0.109eV (T=847K)  Etot = -34.615eV\n",
      "Step = 565, time = 565.0 [fs], T = 872.709524253 [K]\n",
      "Energy per atom: Epot = -34.726eV  Ekin = 0.113eV (T=873K)  Etot = -34.614eV\n",
      "Step = 566, time = 566.0 [fs], T = 885.976828858 [K]\n",
      "Energy per atom: Epot = -34.729eV  Ekin = 0.115eV (T=886K)  Etot = -34.614eV\n",
      "Step = 567, time = 567.0 [fs], T = 905.580945385 [K]\n",
      "Energy per atom: Epot = -34.731eV  Ekin = 0.117eV (T=906K)  Etot = -34.614eV\n",
      "Step = 568, time = 568.0 [fs], T = 923.484929037 [K]\n",
      "Energy per atom: Epot = -34.733eV  Ekin = 0.119eV (T=923K)  Etot = -34.614eV\n",
      "Step = 569, time = 569.0 [fs], T = 938.983001034 [K]\n",
      "Energy per atom: Epot = -34.736eV  Ekin = 0.121eV (T=939K)  Etot = -34.614eV\n",
      "Step = 570, time = 570.0 [fs], T = 962.303985733 [K]\n",
      "Energy per atom: Epot = -34.738eV  Ekin = 0.124eV (T=962K)  Etot = -34.613eV\n",
      "Step = 571, time = 571.0 [fs], T = 973.440433314 [K]\n",
      "Energy per atom: Epot = -34.740eV  Ekin = 0.126eV (T=973K)  Etot = -34.614eV\n",
      "Step = 572, time = 572.0 [fs], T = 988.11455 [K]\n",
      "Energy per atom: Epot = -34.742eV  Ekin = 0.128eV (T=988K)  Etot = -34.614eV\n",
      "Step = 573, time = 573.0 [fs], T = 1003.75253301 [K]\n",
      "Energy per atom: Epot = -34.743eV  Ekin = 0.130eV (T=1004K)  Etot = -34.613eV\n",
      "Step = 574, time = 574.0 [fs], T = 1014.74105312 [K]\n",
      "Energy per atom: Epot = -34.745eV  Ekin = 0.131eV (T=1015K)  Etot = -34.614eV\n",
      "Step = 575, time = 575.0 [fs], T = 1024.03375094 [K]\n",
      "Energy per atom: Epot = -34.746eV  Ekin = 0.132eV (T=1024K)  Etot = -34.614eV\n",
      "Step = 576, time = 576.0 [fs], T = 1032.86266875 [K]\n",
      "Energy per atom: Epot = -34.747eV  Ekin = 0.134eV (T=1033K)  Etot = -34.614eV\n",
      "Step = 577, time = 577.0 [fs], T = 1046.07623021 [K]\n",
      "Energy per atom: Epot = -34.748eV  Ekin = 0.135eV (T=1046K)  Etot = -34.613eV\n",
      "Step = 578, time = 578.0 [fs], T = 1046.94241986 [K]\n",
      "Energy per atom: Epot = -34.748eV  Ekin = 0.135eV (T=1047K)  Etot = -34.613eV\n",
      "Step = 579, time = 579.0 [fs], T = 1049.4676524 [K]\n",
      "Energy per atom: Epot = -34.749eV  Ekin = 0.136eV (T=1049K)  Etot = -34.613eV\n",
      "Step = 580, time = 580.0 [fs], T = 1053.06538109 [K]\n",
      "Energy per atom: Epot = -34.749eV  Ekin = 0.136eV (T=1053K)  Etot = -34.613eV\n",
      "Step = 581, time = 581.0 [fs], T = 1047.44870122 [K]\n",
      "Energy per atom: Epot = -34.749eV  Ekin = 0.135eV (T=1047K)  Etot = -34.613eV\n",
      "Step = 582, time = 582.0 [fs], T = 1039.16557647 [K]\n",
      "Energy per atom: Epot = -34.749eV  Ekin = 0.134eV (T=1039K)  Etot = -34.615eV\n",
      "Step = 583, time = 583.0 [fs], T = 1038.27495051 [K]\n",
      "Energy per atom: Epot = -34.749eV  Ekin = 0.134eV (T=1038K)  Etot = -34.614eV\n",
      "Step = 584, time = 584.0 [fs], T = 1031.78306706 [K]\n",
      "Energy per atom: Epot = -34.748eV  Ekin = 0.133eV (T=1032K)  Etot = -34.615eV\n",
      "Step = 585, time = 585.0 [fs], T = 1035.70170175 [K]\n",
      "Energy per atom: Epot = -34.748eV  Ekin = 0.134eV (T=1036K)  Etot = -34.614eV\n",
      "Step = 586, time = 586.0 [fs], T = 1037.02234247 [K]\n",
      "Energy per atom: Epot = -34.748eV  Ekin = 0.134eV (T=1037K)  Etot = -34.614eV\n",
      "Step = 587, time = 587.0 [fs], T = 1033.83175196 [K]\n",
      "Energy per atom: Epot = -34.748eV  Ekin = 0.134eV (T=1034K)  Etot = -34.614eV\n",
      "Step = 588, time = 588.0 [fs], T = 1030.16645127 [K]\n",
      "Energy per atom: Epot = -34.748eV  Ekin = 0.133eV (T=1030K)  Etot = -34.615eV\n",
      "Step = 589, time = 589.0 [fs], T = 1028.97002798 [K]\n",
      "Energy per atom: Epot = -34.748eV  Ekin = 0.133eV (T=1029K)  Etot = -34.615eV\n",
      "Step = 590, time = 590.0 [fs], T = 1035.22966719 [K]\n",
      "Energy per atom: Epot = -34.748eV  Ekin = 0.134eV (T=1035K)  Etot = -34.614eV\n",
      "Step = 591, time = 591.0 [fs], T = 1040.03826158 [K]\n",
      "Energy per atom: Epot = -34.748eV  Ekin = 0.134eV (T=1040K)  Etot = -34.614eV\n",
      "Step = 592, time = 592.0 [fs], T = 1044.82593534 [K]\n",
      "Energy per atom: Epot = -34.749eV  Ekin = 0.135eV (T=1045K)  Etot = -34.614eV\n",
      "Step = 593, time = 593.0 [fs], T = 1052.53254152 [K]\n",
      "Energy per atom: Epot = -34.750eV  Ekin = 0.136eV (T=1053K)  Etot = -34.614eV\n",
      "Step = 594, time = 594.0 [fs], T = 1057.93347419 [K]\n",
      "Energy per atom: Epot = -34.751eV  Ekin = 0.137eV (T=1058K)  Etot = -34.614eV\n",
      "Step = 595, time = 595.0 [fs], T = 1062.86918179 [K]\n",
      "Energy per atom: Epot = -34.752eV  Ekin = 0.137eV (T=1063K)  Etot = -34.614eV\n",
      "Step = 596, time = 596.0 [fs], T = 1072.15274883 [K]\n",
      "Energy per atom: Epot = -34.753eV  Ekin = 0.139eV (T=1072K)  Etot = -34.614eV\n",
      "Step = 597, time = 597.0 [fs], T = 1074.73263575 [K]\n",
      "Energy per atom: Epot = -34.754eV  Ekin = 0.139eV (T=1075K)  Etot = -34.615eV\n",
      "Step = 598, time = 598.0 [fs], T = 1089.09718389 [K]\n",
      "Energy per atom: Epot = -34.755eV  Ekin = 0.141eV (T=1089K)  Etot = -34.614eV\n",
      "Step = 599, time = 599.0 [fs], T = 1099.58884221 [K]\n",
      "Energy per atom: Epot = -34.756eV  Ekin = 0.142eV (T=1100K)  Etot = -34.614eV\n",
      "Step = 600, time = 600.0 [fs], T = 1105.3511325 [K]\n",
      "Energy per atom: Epot = -34.757eV  Ekin = 0.143eV (T=1105K)  Etot = -34.614eV\n"
     ]
    }
   ],
   "source": [
    "db = []\n",
    "def collect_data():\n",
    "    db.append(atoms.copy())\n",
    "\n",
    "dynamics.attach(collect_data, interval=10)\n",
    "dynamics.run(steps=500)"
   ]
  },
  {
   "cell_type": "code",
   "execution_count": 28,
   "metadata": {},
   "outputs": [
    {
     "data": {
      "text/plain": [
       "50"
      ]
     },
     "execution_count": 28,
     "metadata": {},
     "output_type": "execute_result"
    }
   ],
   "source": [
    "len(db)"
   ]
  },
  {
   "cell_type": "code",
   "execution_count": null,
   "metadata": {},
   "outputs": [],
   "source": []
  },
  {
   "cell_type": "code",
   "execution_count": 29,
   "metadata": {},
   "outputs": [],
   "source": [
    "write(\"tmp.xyz\", db)\n"
   ]
  },
  {
   "cell_type": "code",
   "execution_count": 30,
   "metadata": {},
   "outputs": [
    {
     "data": {
      "text/plain": [
       "-29.716948405885105"
      ]
     },
     "execution_count": 30,
     "metadata": {},
     "output_type": "execute_result"
    }
   ],
   "source": [
    "isolated_atom = aseAtoms(\"Si\", positions=[[0,0,0]])\n",
    "isolated_atom.set_calculator(qm_pot)\n",
    "E0 = isolated_atom.get_potential_energy()\n",
    "E0"
   ]
  },
  {
   "cell_type": "code",
   "execution_count": 31,
   "metadata": {},
   "outputs": [
    {
     "name": "stdout",
     "output_type": "stream",
     "text": [
      "libAtoms::Hello World: 27/09/2018   00:43:18\r\n",
      "libAtoms::Hello World: git version  https://github.com/libAtoms/QUIP.git,531330f\r\n",
      "libAtoms::Hello World: QUIP_ARCH    linux_x86_64_gfortran_openmp\r\n",
      "libAtoms::Hello World: compiled on  Sep 26 2018 at 01:27:23\r\n",
      "libAtoms::Hello World: OpenMP parallelisation with 2 threads\r\n",
      "WARNING: libAtoms::Hello World: environment variable OMP_STACKSIZE not set explicitly. The default value - system and compiler dependent - may be too small for some applications.\r\n",
      "libAtoms::Hello World: Random Seed = 2598426\r\n",
      "libAtoms::Hello World: global verbosity = 0\r\n",
      "\r\n",
      "Calls to system_timer will do nothing by default\r\n",
      "\r\n",
      "at_file type=STRING scalar current_value=//MANDATORY//\r\n",
      "XYZ file with teaching configurations\r\n",
      "\r\n",
      "gap type=STRING scalar current_value=//MANDATORY//\r\n",
      "Initialisation string for GAPs\r\n",
      "\r\n",
      "e0 type=STRING scalar current_value=0.0\r\n",
      "Atomic energy value to be subtracted from energies before fitting (and added\r\n",
      "back on after prediction). Specifiy a single number (used for all species) or\r\n",
      "by species: {Ti:-150.0:O:-320}. energy = core + GAP +\r\n",
      "e0\r\n",
      "\r\n",
      "e0_offset type=REAL scalar current_value=0.0\r\n",
      "Offset of baseline. If zero, the offset is the average atomic energy of the inpu-\r\n",
      "t data or the e0 specified manually.\r\n",
      "\r\n",
      "do_e0_avg type=LOGICAL scalar current_value=T\r\n",
      "Method of calculating e0 if not explicitly specified. If true, computes the aver-\r\n",
      "age atomic energy in input data. If false, sets e0 to the lowest atomic energy\r\n",
      "in the input data.\r\n",
      "\r\n",
      "default_sigma type=REAL dim=4 current_value=//MANDATORY//\r\n",
      "error in [energies forces virials hessians]\r\n",
      "\r\n",
      "sparse_jitter type=REAL scalar current_value=1.0e-10\r\n",
      "intrisic error of atomic/bond energy, used to regularise the sparse covariance\r\n",
      "matrix\r\n",
      "\r\n",
      "hessian_delta type=REAL scalar current_value=1.0e-2\r\n",
      "Delta to use in numerical differentiation when obtaining second derivative for\r\n",
      "the Hessian covariance\r\n",
      "\r\n",
      "core_param_file type=STRING scalar current_value=quip_params.xml\r\n",
      "QUIP XML file for a potential to subtract from data (and added back after predic-\r\n",
      "tion)\r\n",
      "\r\n",
      "core_ip_args type=STRING scalar current_value=\r\n",
      " QUIP init string for a potential to subtract from data (and added back after\r\n",
      "prediction)\r\n",
      "\r\n",
      "energy_parameter_name type=STRING scalar current_value=energy\r\n",
      "Name of energy property in the at_file that describes the data\r\n",
      "\r\n",
      "force_parameter_name type=STRING scalar current_value=force\r\n",
      "Name of force property in the at_file that describes the data\r\n",
      "\r\n",
      "virial_parameter_name type=STRING scalar current_value=virial\r\n",
      "Name of virial property in the at_file that describes the data\r\n",
      "\r\n",
      "hessian_parameter_name type=STRING scalar current_value=hessian\r\n",
      "Name of hessian property in the at_file that describes the data\r\n",
      "\r\n",
      "config_type_parameter_name type=STRING scalar current_value=config_type\r\n",
      "Identifier of property determining the type of input data in the at_file\r\n",
      "\r\n",
      "sigma_parameter_name type=STRING scalar current_value=sigma\r\n",
      "sigma parameters (error hyper) for a given configuration in the database. Overri-\r\n",
      "des the command line sigmas. In the XYZ, it must be prepended by energy_, force_-\r\n",
      ", virial_ or hessian_\r\n",
      "\r\n",
      "config_type_sigma type=STRING scalar current_value=\r\n",
      "What sigma values to choose for each type of data. Format: {type:energy:force:vi-\r\n",
      "rial:hessian}\r\n",
      "\r\n",
      "sigma_per_atom type=LOGICAL scalar current_value=T\r\n",
      "Interpretation of the energy and virial sigmas specified in >>default_sigma<<\r\n",
      "and >>config_type_sigma<<. If >>T<<, they are interpreted as per-atom errors,\r\n",
      "and the variance will be scaled according to the number of atoms in the configur-\r\n",
      "ation. If >>F<< they are treated as absolute errors and no scaling is performed.\r\n",
      "NOTE: sigmas specified on a per-configuration basis (see >>sigma_parameter_name<-\r\n",
      "<) are always absolute.\r\n",
      "\r\n",
      "do_copy_at_file type=LOGICAL scalar current_value=T\r\n",
      "Do copy the at_file into the GAP XML file (should be set to False for NetCDF\r\n",
      "input).\r\n",
      "\r\n",
      "sparse_separate_file type=LOGICAL scalar current_value=T\r\n",
      "Save sparse coordinates data in separate file\r\n",
      "\r\n",
      "sparse_use_actual_gpcov type=LOGICAL scalar current_value=F\r\n",
      "Use actual GP covariance for sparsification methods\r\n",
      "\r\n",
      "gp_file type=STRING scalar current_value=gp_new.xml\r\n",
      "output XML file\r\n",
      "\r\n",
      "verbosity type=STRING scalar current_value=NORMAL\r\n",
      "Verbosity control. Options: NORMAL, VERBOSE, NERD, ANAL.\r\n",
      "\r\n",
      "rnd_seed type=INTEGER scalar current_value=-1\r\n",
      "Random seed.\r\n",
      "\r\n",
      "do_ip_timing type=LOGICAL scalar current_value=F\r\n",
      "To enable or not timing of the interatomic potential.\r\n",
      "\r\n",
      "template_file type=STRING scalar current_value=template.xyz\r\n",
      "Template XYZ file for initialising object\r\n",
      "\r\n",
      "missing mandatory parameter at_file\r\n",
      "missing mandatory parameter gap\r\n",
      "missing mandatory parameter default_sigma\r\n",
      "teach_sparse\r\n",
      "SYSTEM ABORT: Exit: Mandatory argument(s) missing...   \r\n"
     ]
    }
   ],
   "source": [
    "!teach_sparse --help"
   ]
  },
  {
   "cell_type": "code",
   "execution_count": 32,
   "metadata": {},
   "outputs": [
    {
     "name": "stdout",
     "output_type": "stream",
     "text": [
      "libAtoms::Hello World: 27/09/2018   00:43:18\r\n",
      "libAtoms::Hello World: git version  https://github.com/libAtoms/QUIP.git,531330f\r\n",
      "libAtoms::Hello World: QUIP_ARCH    linux_x86_64_gfortran_openmp\r\n",
      "libAtoms::Hello World: compiled on  Sep 26 2018 at 01:27:23\r\n",
      "libAtoms::Hello World: OpenMP parallelisation with 2 threads\r\n",
      "WARNING: libAtoms::Hello World: environment variable OMP_STACKSIZE not set explicitly. The default value - system and compiler dependent - may be too small for some applications.\r\n",
      "libAtoms::Hello World: Random Seed = 2598834\r\n",
      "libAtoms::Hello World: global verbosity = 0\r\n",
      "\r\n",
      "Calls to system_timer will do nothing by default\r\n",
      "\r\n",
      "\r\n",
      "================================ Input parameters ==============================\r\n",
      "\r\n",
      "at_file = dummy\r\n",
      "gap = \"distance_Nb delta=0.0 covariance_type=ARD_SE --help\"\r\n",
      "e0 = 0.0\r\n",
      "e0_offset = 0.0\r\n",
      "do_e0_avg = T\r\n",
      "default_sigma = \"0 0 0 0\"\r\n",
      "sparse_jitter = 1.0e-10\r\n",
      "hessian_delta = 1.0e-2\r\n",
      "core_param_file = quip_params.xml\r\n",
      "core_ip_args =\r\n",
      "energy_parameter_name = energy\r\n",
      "force_parameter_name = force\r\n",
      "virial_parameter_name = virial\r\n",
      "hessian_parameter_name = hessian\r\n",
      "config_type_parameter_name = config_type\r\n",
      "sigma_parameter_name = sigma\r\n",
      "config_type_sigma =\r\n",
      "sigma_per_atom = T\r\n",
      "do_copy_at_file = T\r\n",
      "sparse_separate_file = T\r\n",
      "sparse_use_actual_gpcov = F\r\n",
      "gp_file = gp_new.xml\r\n",
      "verbosity = NORMAL\r\n",
      "rnd_seed = -1\r\n",
      "do_ip_timing = F\r\n",
      "template_file = template.xyz\r\n",
      "\r\n",
      "========================================  ======================================\r\n",
      "\r\n",
      "\r\n",
      "============== Gaussian Approximation Potentials - Database fitting ============\r\n",
      "\r\n",
      "\r\n",
      "Initial parsing of command line arguments finished.\r\n",
      "Found 1 GAPs.\r\n",
      "delta type=REAL scalar current_value=0.0\r\n",
      "Set the standard deviation of the Gaussian process. Typically this would be set\r\n",
      "to the standard deviation (i.e. root mean square) of the function that is approx-\r\n",
      "imated with the Gaussian process.\r\n",
      "\r\n",
      "f0 type=REAL scalar current_value=0.0\r\n",
      "Set the mean of the Gaussian process. Defaults to\r\n",
      "0.\r\n",
      "\r\n",
      "n_sparse type=INTEGER scalar current_value=0\r\n",
      "Number of sparse points to use in the sparsification of the Gaussian process\r\n",
      "\r\n",
      "config_type_n_sparse type=STRING scalar current_value=\r\n",
      "Number of sparse points in each config type. Format: {type1:50:type2:100}\r\n",
      "\r\n",
      "sparse_method type=STRING scalar current_value=RANDOM\r\n",
      "Sparsification method. RANDOM(default), PIVOT, CLUSTER, UNIFORM, KMEANS, COVARIA-\r\n",
      "NCE, NONE, FUZZY, FILE, INDEX_FILE, CUR_COVARIANCE, CUR_POINTS\r\n",
      "\r\n",
      "theta_fac type=STRING scalar current_value=1.0\r\n",
      "Set the width of Gaussians for the ARD_SE and PP kernel by multiplying the range\r\n",
      "of each descriptor by theta_fac. Can be a single number or different for each\r\n",
      "dimension. For multiple theta_fac separate each value by whitespaces.\r\n",
      "\r\n",
      "theta_uniform type=REAL scalar current_value=0.0\r\n",
      "Set the width of Gaussians for the ARD_SE and PP kernel, same in each dimension.\r\n",
      "\r\n",
      "theta_file type=STRING scalar current_value=\r\n",
      "Set the width of Gaussians for the ARD_SE kernel from a file. There should be\r\n",
      "as many real numbers as the number of dimensions, in a single line\r\n",
      "\r\n",
      "sparse_file type=STRING scalar current_value=\r\n",
      "Sparse points from a file. Integers, in single line.\r\n",
      "\r\n",
      "mark_sparse_atoms type=LOGICAL scalar current_value=F\r\n",
      "Reprints the original xyz file after sparsification process. sparse propery adde-\r\n",
      "d, true for atoms associated with a sparse point.\r\n",
      "\r\n",
      "add_species type=LOGICAL scalar current_value=F\r\n",
      "Create species-specific descriptor, using the descriptor string as a template.\r\n",
      "\r\n",
      "covariance_type type=STRING scalar current_value=ARD_SE\r\n",
      "Type of covariance function to use. Available: ARD_SE, DOT_PRODUCT, BOND_REAL_SP-\r\n",
      "ACE, PP (piecewise polynomial)\r\n",
      "\r\n",
      "zeta type=REAL scalar current_value=1.0\r\n",
      "Exponent of soap type dot product covariance kernel\r\n",
      "\r\n",
      "print_sparse_index type=STRING scalar current_value=\r\n",
      "If given, after determinining the sparse points, their 1-based indices are appen-\r\n",
      "ded to this file\r\n",
      "\r\n",
      "unique_hash_tolerance type=REAL scalar current_value=1.0e-10\r\n",
      "Hash tolerance when filtering out duplicate data points\r\n",
      "\r\n",
      "unique_descriptor_tolerance type=REAL scalar current_value=1.0e-10\r\n",
      "Descriptor tolerance when filtering out duplicate data points\r\n",
      "\r\n",
      "Descriptors have been parsed\r\n",
      "bispectrum_so4 type=LOGICAL scalar current_value=false\r\n",
      "Type of descriptor is bispectrum_so4.\r\n",
      "\r\n",
      "bispectrum_so3 type=LOGICAL scalar current_value=false\r\n",
      "Type of descriptor is bispectrum_so3.\r\n",
      "\r\n",
      "behler type=LOGICAL scalar current_value=false\r\n",
      "Type of descriptor is behler.\r\n",
      "\r\n",
      "distance_2b type=LOGICAL scalar current_value=false\r\n",
      "Type of descriptor is distance_2b.\r\n",
      "\r\n",
      "coordination type=LOGICAL scalar current_value=false\r\n",
      "Type of descriptor is coordination.\r\n",
      "\r\n",
      "angle_3b type=LOGICAL scalar current_value=false\r\n",
      "Type of descriptor is angle_3b.\r\n",
      "\r\n",
      "co_angle_3b type=LOGICAL scalar current_value=false\r\n",
      "Type of descriptor is co_angle_3b.\r\n",
      "\r\n",
      "co_distance_2b type=LOGICAL scalar current_value=false\r\n",
      "Type of descriptor is co_distance_2b.\r\n",
      "\r\n",
      "cosnx type=LOGICAL scalar current_value=false\r\n",
      "Type of descriptor is cosnx.\r\n",
      "\r\n",
      "trihis type=LOGICAL scalar current_value=false\r\n",
      "Type of descriptor is trihis.\r\n",
      "\r\n",
      "water_monomer type=LOGICAL scalar current_value=false\r\n",
      "Type of descriptor is water_monomer.\r\n",
      "\r\n",
      "water_dimer type=LOGICAL scalar current_value=false\r\n",
      "Type of descriptor is water_dimer.\r\n",
      "\r\n",
      "A2_dimer type=LOGICAL scalar current_value=false\r\n",
      "Type of descriptor is A2_dimer.\r\n",
      "\r\n",
      "AB_dimer type=LOGICAL scalar current_value=false\r\n",
      "Type of descriptor is AB_dimer.\r\n",
      "\r\n",
      "bond_real_space type=LOGICAL scalar current_value=false\r\n",
      "Type of descriptor is bond_real_space.\r\n",
      "\r\n",
      "atom_real_space type=LOGICAL scalar current_value=false\r\n",
      "Type of descriptor is atom_real_space.\r\n",
      "\r\n",
      "power_so3 type=LOGICAL scalar current_value=false\r\n",
      "Type of descriptor is power_so3.\r\n",
      "\r\n",
      "power_so4 type=LOGICAL scalar current_value=false\r\n",
      "Type of descriptor is power_so4.\r\n",
      "\r\n",
      "soap type=LOGICAL scalar current_value=false\r\n",
      "Type of descriptor is soap.\r\n",
      "\r\n",
      "AN_monomer type=LOGICAL scalar current_value=false\r\n",
      "Type of descriptor is AN_monomer.\r\n",
      "\r\n",
      "general_monomer type=LOGICAL scalar current_value=false\r\n",
      "Type of descriptor is general_monomer.\r\n",
      "\r\n",
      "general_dimer type=LOGICAL scalar current_value=false\r\n",
      "Type of descriptor is general_dimer.\r\n",
      "\r\n",
      "general_trimer type=LOGICAL scalar current_value=false\r\n",
      "Type of descriptor is general_trimer.\r\n",
      "\r\n",
      "rdf type=LOGICAL scalar current_value=false\r\n",
      "Type of descriptor is rdf.\r\n",
      "\r\n",
      "as_distance_2b type=LOGICAL scalar current_value=false\r\n",
      "Type of descriptor is as_distance_2b.\r\n",
      "\r\n",
      "molecule_lo_d type=LOGICAL scalar current_value=false\r\n",
      "Type of descriptor is molecule_lo_d.\r\n",
      "\r\n",
      "alex type=LOGICAL scalar current_value=false\r\n",
      "Type of descriptor is alex.\r\n",
      "\r\n",
      "com_dimer type=LOGICAL scalar current_value=false\r\n",
      "Type of descriptor is com_dimer.\r\n",
      "\r\n",
      "distance_Nb type=LOGICAL scalar current_value=\r\n",
      "Type of descriptor is distance_Nb.\r\n",
      "\r\n",
      "cutoff type=REAL scalar current_value=//MANDATORY//\r\n",
      "Cutoff for distance_Nb-type descriptors\r\n",
      "\r\n",
      "cutoff_transition_width type=REAL scalar current_value=0.5\r\n",
      "Transition width of cutoff for distance_Nb-type descriptors\r\n",
      "\r\n",
      "order type=INTEGER scalar current_value=//MANDATORY//\r\n",
      "Many-body order, in terms of number of neighbours\r\n",
      "\r\n",
      "compact_clusters type=LOGICAL scalar current_value=F\r\n",
      "If true, generate clusters where the atoms have at least one connection to the\r\n",
      "central atom. If false, only clusters where all atoms are connected are generate-\r\n",
      "d.\r\n",
      "\r\n",
      "missing mandatory parameter cutoff\r\n",
      "missing mandatory parameter order\r\n",
      "SYSTEM ABORT: Traceback (most recent call last)\r\n",
      "File \"/opt/quip/src/GAP/descriptors.f95\", line 3404 kind unspecified\r\n",
      "distance_Nb_initialise failed to parse args_str='distance_Nb delta=0.0 covariance_type=ARD_SE --help-\r\n",
      "'           \r\n"
     ]
    }
   ],
   "source": [
    "!teach_sparse at_file=dummy default_sigma={0 0 0 0} gap={distance_Nb delta=0.0 covariance_type=ARD_SE --help}"
   ]
  },
  {
   "cell_type": "code",
   "execution_count": 33,
   "metadata": {
    "scrolled": true
   },
   "outputs": [
    {
     "name": "stdout",
     "output_type": "stream",
     "text": [
      "libAtoms::Hello World: 27/09/2018   00:43:19\n",
      "libAtoms::Hello World: git version  https://github.com/libAtoms/QUIP.git,531330f\n",
      "libAtoms::Hello World: QUIP_ARCH    linux_x86_64_gfortran_openmp\n",
      "libAtoms::Hello World: compiled on  Sep 26 2018 at 01:27:23\n",
      "libAtoms::Hello World: OpenMP parallelisation with 2 threads\n",
      "WARNING: libAtoms::Hello World: environment variable OMP_STACKSIZE not set explicitly. The default value - system and compiler dependent - may be too small for some applications.\n",
      "libAtoms::Hello World: Random Seed = 2599268\n",
      "libAtoms::Hello World: global verbosity = 0\n",
      "\n",
      "Calls to system_timer will do nothing by default\n",
      "\n",
      "\n",
      "================================ Input parameters ==============================\n",
      "\n",
      "at_file = tmp.xyz\n",
      "gap = \"distance_Nb order=2 cutoff=5.0 covariance_type=ARD_SE theta_uniform=1.0 n_sparse=15 delta=1.0\"\n",
      "e0 = -29.716948405885105\n",
      "e0_offset = 0.0\n",
      "do_e0_avg = T\n",
      "default_sigma = \"0.01 0.5 0.0 0.0\"\n",
      "sparse_jitter = 1.0e-10\n",
      "hessian_delta = 1.0e-2\n",
      "core_param_file = quip_params.xml\n",
      "core_ip_args =\n",
      "energy_parameter_name = energy\n",
      "force_parameter_name = force\n",
      "virial_parameter_name = virial\n",
      "hessian_parameter_name = hessian\n",
      "config_type_parameter_name = config_type\n",
      "sigma_parameter_name = sigma\n",
      "config_type_sigma =\n",
      "sigma_per_atom = T\n",
      "do_copy_at_file = F\n",
      "sparse_separate_file = F\n",
      "sparse_use_actual_gpcov = F\n",
      "gp_file = gap_2b.xml\n",
      "verbosity = NORMAL\n",
      "rnd_seed = -1\n",
      "do_ip_timing = F\n",
      "template_file = template.xyz\n",
      "\n",
      "========================================  ======================================\n",
      "\n",
      "\n",
      "============== Gaussian Approximation Potentials - Database fitting ============\n",
      "\n",
      "\n",
      "Initial parsing of command line arguments finished.\n",
      "Found 1 GAPs.\n",
      "Descriptors have been parsed\n",
      "XYZ file read\n",
      "Unchanged GAP: {distance_Nb order=2 cutoff=5.0 covariance_type=ARD_SE theta_uniform=1.0 n_sparse=15 delta=1.0}\n",
      "Multispecies support added where requested\n",
      "Number of target energies (property name: energy) found: 50\n",
      "Number of target forces (property name: force) found: 4800\n",
      "Number of target virials (property name: virial) found: 0\n",
      "Number of target Hessian eigenvalues (property name: hessian) found: 0\n",
      "Cartesian coordinates transformed to descriptors\n",
      "Started sparse covariance matrix calculation of coordinate 1\n",
      "\n",
      "Finished sparse covariance matrix calculation of coordinate 1\n",
      "TIMER: gpFull_covarianceMatrix_sparse_Coordinate1_sparse  done in .26000000000000001 cpu secs, .13619769999786513 wall clock secs.\n",
      "TIMER: gpFull_covarianceMatrix_sparse_Coordinate1         done in .26000000000000001 cpu secs, .13623740000184625 wall clock secs.\n",
      "TIMER: gpFull_covarianceMatrix_sparse_LinearAlgebra       done in .00000000000000000E+000 cpu secs, .21181000047363341E-002 wall clock secs.\n",
      "TIMER: gpFull_covarianceMatrix_sparse_FunctionValues      done in .00000000000000000E+000 cpu secs, .11399999493733048E-004 wall clock secs.\n",
      "TIMER: gpFull_covarianceMatrix_sparse                     done in .26000000000000001 cpu secs, .13920630000211531 wall clock secs.\n",
      "TIMER: GP sparsify                                        done in .28000000000000003 cpu secs, .16497369999706279 wall clock secs.\n",
      "\n",
      "libAtoms::Finalise: 27/09/2018   00:43:19\n",
      "libAtoms::Finalise: Bye-Bye!\n"
     ]
    }
   ],
   "source": [
    "!teach_sparse at_file=tmp.xyz gap={distance_Nb order=2 cutoff=5.0 covariance_type=ARD_SE theta_uniform=1.0 n_sparse=15 delta=1.0} e0=-29.716948405885105 default_sigma={0.01 0.5 0.0 0.0} do_copy_at_file=F sparse_separate_file=F gp_file=gap_2b.xml"
   ]
  },
  {
   "cell_type": "code",
   "execution_count": 34,
   "metadata": {},
   "outputs": [],
   "source": [
    "gap2b = Potential(param_filename=\"gap_2b.xml\")"
   ]
  },
  {
   "cell_type": "code",
   "execution_count": 35,
   "metadata": {},
   "outputs": [
    {
     "data": {
      "text/plain": [
       "-1111.9321079333781"
      ]
     },
     "execution_count": 35,
     "metadata": {},
     "output_type": "execute_result"
    }
   ],
   "source": [
    "db[0].energy"
   ]
  },
  {
   "cell_type": "code",
   "execution_count": 36,
   "metadata": {},
   "outputs": [
    {
     "data": {
      "text/plain": [
       "50"
      ]
     },
     "execution_count": 36,
     "metadata": {},
     "output_type": "execute_result"
    }
   ],
   "source": [
    "len(db)"
   ]
  },
  {
   "cell_type": "code",
   "execution_count": 37,
   "metadata": {},
   "outputs": [],
   "source": [
    "qm_energies = [dba.energy for dba in db]\n",
    "gap2b_energies = []\n",
    "for dba in db:\n",
    "    a = dba.copy()\n",
    "    a.set_calculator(gap2b)\n",
    "    gap2b_energies.append(a.get_potential_energy())\n",
    "    "
   ]
  },
  {
   "cell_type": "code",
   "execution_count": 38,
   "metadata": {},
   "outputs": [
    {
     "data": {
      "image/png": "[encoded data removed]",
      "text/plain": [
       "<Figure size 432x288 with 1 Axes>"
      ]
     },
     "metadata": {
      "needs_background": "light"
     },
     "output_type": "display_data"
    }
   ],
   "source": [
    "Natoms = len(db[0])\n",
    "plt.scatter(np.array(qm_energies)/Natoms, np.array(gap2b_energies)/Natoms)\n",
    "plt.plot([E0-5.1, E0-5.1+0.05], [E0-5.1, E0-5.1+0.05], \"k-\")\n",
    "plt.show()"
   ]
  },
  {
   "cell_type": "code",
   "execution_count": 39,
   "metadata": {},
   "outputs": [
    {
     "data": {
      "text/plain": [
       "0.018927733703977996"
      ]
     },
     "execution_count": 39,
     "metadata": {},
     "output_type": "execute_result"
    }
   ],
   "source": [
    "np.sqrt(sum((np.array(qm_energies)/Natoms - np.array(gap2b_energies)/Natoms)**2)/len(gap2b_energies))"
   ]
  },
  {
   "cell_type": "code",
   "execution_count": 40,
   "metadata": {},
   "outputs": [],
   "source": [
    "dimers = [aseAtoms(\"2Si\", positions=[[0,0,0], [x, 0,0]]) for x in np.linspace(1.6,6,100)] "
   ]
  },
  {
   "cell_type": "code",
   "execution_count": 41,
   "metadata": {},
   "outputs": [],
   "source": [
    "\n",
    "dimer_curve = []\n",
    "for dim in dimers:\n",
    "    dim.set_calculator(gap2b)\n",
    "    dimer_curve.append(dim.get_potential_energy())"
   ]
  },
  {
   "cell_type": "code",
   "execution_count": 42,
   "metadata": {
    "scrolled": true
   },
   "outputs": [
    {
     "data": {
      "image/png": "[encoded data removed]",
      "text/plain": [
       "<Figure size 432x288 with 1 Axes>"
      ]
     },
     "metadata": {
      "needs_background": "light"
     },
     "output_type": "display_data"
    }
   ],
   "source": [
    "plt.plot([dim.positions[1,0] for dim in dimers], np.array(dimer_curve)/2.0)\n",
    "plt.show()"
   ]
  },
  {
   "cell_type": "code",
   "execution_count": 43,
   "metadata": {},
   "outputs": [
    {
     "name": "stdout",
     "output_type": "stream",
     "text": [
      "libAtoms::Hello World: 27/09/2018   00:43:22\n",
      "libAtoms::Hello World: git version  https://github.com/libAtoms/QUIP.git,531330f\n",
      "libAtoms::Hello World: QUIP_ARCH    linux_x86_64_gfortran_openmp\n",
      "libAtoms::Hello World: compiled on  Sep 26 2018 at 01:27:23\n",
      "libAtoms::Hello World: OpenMP parallelisation with 2 threads\n",
      "WARNING: libAtoms::Hello World: environment variable OMP_STACKSIZE not set explicitly. The default value - system and compiler dependent - may be too small for some applications.\n",
      "libAtoms::Hello World: Random Seed = 2602047\n",
      "libAtoms::Hello World: global verbosity = 0\n",
      "\n",
      "Calls to system_timer will do nothing by default\n",
      "\n",
      "\n",
      "================================ Input parameters ==============================\n",
      "\n",
      "at_file = tmp.xyz\n",
      "gap = \"distance_Nb order=2 cutoff=5.0 covariance_type=ARD_SE theta_uniform=1.0 n_sparse=15 delta=1.0:distance_Nb order=3 cutoff=4.0 covariance_type=ARD_SE theta_uniform=1.0 n_sparse=50 delta=0.004\"\n",
      "e0 = -29.716948405885105\n",
      "e0_offset = 0.0\n",
      "do_e0_avg = T\n",
      "default_sigma = \"0.005 0.5 0.0 0.0\"\n",
      "sparse_jitter = 1.0e-10\n",
      "hessian_delta = 1.0e-2\n",
      "core_param_file = quip_params.xml\n",
      "core_ip_args =\n",
      "energy_parameter_name = energy\n",
      "force_parameter_name = force\n",
      "virial_parameter_name = virial\n",
      "hessian_parameter_name = hessian\n",
      "config_type_parameter_name = config_type\n",
      "sigma_parameter_name = sigma\n",
      "config_type_sigma =\n",
      "sigma_per_atom = T\n",
      "do_copy_at_file = F\n",
      "sparse_separate_file = F\n",
      "sparse_use_actual_gpcov = F\n",
      "gp_file = gap_3b.xml\n",
      "verbosity = NORMAL\n",
      "rnd_seed = -1\n",
      "do_ip_timing = F\n",
      "template_file = template.xyz\n",
      "\n",
      "========================================  ======================================\n",
      "\n",
      "\n",
      "============== Gaussian Approximation Potentials - Database fitting ============\n",
      "\n",
      "\n",
      "Initial parsing of command line arguments finished.\n",
      "Found 2 GAPs.\n",
      "Descriptors have been parsed\n",
      "XYZ file read\n",
      "Unchanged GAP: {distance_Nb order=2 cutoff=5.0 covariance_type=ARD_SE theta_uniform=1.0 n_sparse=15 delta=1.0}\n",
      "Unchanged GAP: {distance_Nb order=3 cutoff=4.0 covariance_type=ARD_SE theta_uniform=1.0 n_sparse=50 delta=0.004}\n",
      "Multispecies support added where requested\n",
      "Number of target energies (property name: energy) found: 50\n",
      "Number of target forces (property name: force) found: 4800\n",
      "Number of target virials (property name: virial) found: 0\n",
      "Number of target Hessian eigenvalues (property name: hessian) found: 0\n",
      "Cartesian coordinates transformed to descriptors\n",
      "Started sparse covariance matrix calculation of coordinate 1\n",
      "\n",
      "Finished sparse covariance matrix calculation of coordinate 1\n",
      "TIMER: gpFull_covarianceMatrix_sparse_Coordinate1_sparse  done in .28000000000000003 cpu secs, .14394110000284854 wall clock secs.\n",
      "TIMER: gpFull_covarianceMatrix_sparse_Coordinate1         done in .28000000000000003 cpu secs, .14401639999414328 wall clock secs.\n",
      "Started sparse covariance matrix calculation of coordinate 2\n",
      "\n",
      "Finished sparse covariance matrix calculation of coordinate 2\n",
      "TIMER: gpFull_covarianceMatrix_sparse_Coordinate2_sparse  done in 7.1300000000000008 cpu secs, 3.6690044999995735 wall clock secs.\n",
      "TIMER: gpFull_covarianceMatrix_sparse_Coordinate2         done in 7.1300000000000008 cpu secs, 3.6690535000016098 wall clock secs.\n",
      "TIMER: gpFull_covarianceMatrix_sparse_LinearAlgebra       done in .29999999999999361E-001 cpu secs, .22404899995308369E-001 wall clock secs.\n",
      "TIMER: gpFull_covarianceMatrix_sparse_FunctionValues      done in .00000000000000000E+000 cpu secs, .11900003300979733E-004 wall clock secs.\n",
      "TIMER: gpFull_covarianceMatrix_sparse                     done in 7.4399999999999995 cpu secs, 3.8372816999981296 wall clock secs.\n",
      "TIMER: GP sparsify                                        done in 7.5000000000000000 cpu secs, 3.8957647999995970 wall clock secs.\n",
      "\n",
      "libAtoms::Finalise: 27/09/2018   00:43:27\n",
      "libAtoms::Finalise: Bye-Bye!\n"
     ]
    }
   ],
   "source": [
    "!teach_sparse at_file=tmp.xyz gap={distance_Nb order=2 cutoff=5.0 covariance_type=ARD_SE theta_uniform=1.0 n_sparse=15 delta=1.0:distance_Nb order=3 cutoff=4.0 covariance_type=ARD_SE theta_uniform=1.0 n_sparse=50 delta=0.004} e0=-29.716948405885105 default_sigma={0.005 0.5 0.0 0.0} do_copy_at_file=F sparse_separate_file=F gp_file=gap_3b.xml"
   ]
  },
  {
   "cell_type": "code",
   "execution_count": 44,
   "metadata": {},
   "outputs": [],
   "source": [
    "gap3b = Potential(param_filename=\"gap_3b.xml\")\n",
    "gap3b_energies = []\n",
    "for dba in db:\n",
    "    a = dba.copy()\n",
    "    a.set_calculator(gap3b)\n",
    "    gap3b_energies.append(a.get_potential_energy())\n",
    "    "
   ]
  },
  {
   "cell_type": "code",
   "execution_count": 45,
   "metadata": {},
   "outputs": [
    {
     "data": {
      "text/plain": [
       "0.009284903136870597"
      ]
     },
     "execution_count": 45,
     "metadata": {},
     "output_type": "execute_result"
    }
   ],
   "source": [
    "np.sqrt(sum((np.array(qm_energies)/Natoms - np.array(gap3b_energies)/Natoms)**2)/len(gap3b_energies))"
   ]
  },
  {
   "cell_type": "code",
   "execution_count": 46,
   "metadata": {},
   "outputs": [
    {
     "data": {
      "image/png": "[encoded data removed]",
      "text/plain": [
       "<Figure size 432x288 with 1 Axes>"
      ]
     },
     "metadata": {
      "needs_background": "light"
     },
     "output_type": "display_data"
    }
   ],
   "source": [
    "plt.scatter(np.array(qm_energies)/Natoms, np.array(gap3b_energies)/Natoms)\n",
    "plt.show()"
   ]
  },
  {
   "cell_type": "code",
   "execution_count": 47,
   "metadata": {},
   "outputs": [
    {
     "data": {
      "image/png": "[encoded data removed]",
      "text/plain": [
       "<Figure size 432x288 with 1 Axes>"
      ]
     },
     "metadata": {
      "needs_background": "light"
     },
     "output_type": "display_data"
    }
   ],
   "source": [
    "dimer_curve = []\n",
    "for dim in dimers:\n",
    "    dim.set_calculator(gap3b)\n",
    "    dimer_curve.append(dim.get_potential_energy())\n",
    "    \n",
    "plt.plot([dim.positions[1,0] for dim in dimers], np.array(dimer_curve)/2.0)\n",
    "plt.show()"
   ]
  },
  {
   "cell_type": "code",
   "execution_count": null,
   "metadata": {},
   "outputs": [],
   "source": []
  },
  {
   "cell_type": "code",
   "execution_count": 48,
   "metadata": {},
   "outputs": [
    {
     "name": "stdout",
     "output_type": "stream",
     "text": [
      "libAtoms::Hello World: 27/09/2018   00:43:30\n",
      "libAtoms::Hello World: git version  https://github.com/libAtoms/QUIP.git,531330f\n",
      "libAtoms::Hello World: QUIP_ARCH    linux_x86_64_gfortran_openmp\n",
      "libAtoms::Hello World: compiled on  Sep 26 2018 at 01:27:23\n",
      "libAtoms::Hello World: OpenMP parallelisation with 2 threads\n",
      "WARNING: libAtoms::Hello World: environment variable OMP_STACKSIZE not set explicitly. The default value - system and compiler dependent - may be too small for some applications.\n",
      "libAtoms::Hello World: Random Seed = 2610900\n",
      "libAtoms::Hello World: global verbosity = 0\n",
      "\n",
      "Calls to system_timer will do nothing by default\n",
      "\n",
      "\n",
      "================================ Input parameters ==============================\n",
      "\n",
      "at_file = tmp.xyz\n",
      "gap = \"distance_Nb order=2 cutoff=5.0 covariance_type=ARD_SE theta_uniform=1.0 n_sparse=15 delta=1.0:distance_Nb order=3 cutoff=4.0 covariance_type=ARD_SE theta_uniform=1.0 n_sparse=50 delta=0.004:soap cutoff=4.0 covariance_type=dot_product zeta=2 delta=0.016 atom_sigma=0.7 l_max=6 n_max=6 n_sparse=200 sparse_method=cur_points\"\n",
      "e0 = -29.716948405885105\n",
      "e0_offset = 0.0\n",
      "do_e0_avg = T\n",
      "default_sigma = \"0.001 0.5 0.0 0.0\"\n",
      "sparse_jitter = 1.0e-10\n",
      "hessian_delta = 1.0e-2\n",
      "core_param_file = quip_params.xml\n",
      "core_ip_args =\n",
      "energy_parameter_name = energy\n",
      "force_parameter_name = force\n",
      "virial_parameter_name = virial\n",
      "hessian_parameter_name = hessian\n",
      "config_type_parameter_name = config_type\n",
      "sigma_parameter_name = sigma\n",
      "config_type_sigma =\n",
      "sigma_per_atom = T\n",
      "do_copy_at_file = F\n",
      "sparse_separate_file = F\n",
      "sparse_use_actual_gpcov = F\n",
      "gp_file = gap_2b3bsoap.xml\n",
      "verbosity = NORMAL\n",
      "rnd_seed = -1\n",
      "do_ip_timing = F\n",
      "template_file = template.xyz\n",
      "\n",
      "========================================  ======================================\n",
      "\n",
      "\n",
      "============== Gaussian Approximation Potentials - Database fitting ============\n",
      "\n",
      "\n",
      "Initial parsing of command line arguments finished.\n",
      "Found 3 GAPs.\n",
      "Descriptors have been parsed\n",
      "XYZ file read\n",
      "Unchanged GAP: {distance_Nb order=2 cutoff=5.0 covariance_type=ARD_SE theta_uniform=1.0 n_sparse=15 delta=1.0}\n",
      "Unchanged GAP: {distance_Nb order=3 cutoff=4.0 covariance_type=ARD_SE theta_uniform=1.0 n_sparse=50 delta=0.004}\n",
      "Unchanged GAP: {soap cutoff=4.0 covariance_type=dot_product zeta=2 delta=0.016 atom_sigma=0.7 l_max=6 n_max=6 n_sparse=200 sparse_method=cur_points}\n",
      "Multispecies support added where requested\n",
      "Number of target energies (property name: energy) found: 50\n",
      "Number of target forces (property name: force) found: 4800\n",
      "Number of target virials (property name: virial) found: 0\n",
      "Number of target Hessian eigenvalues (property name: hessian) found: 0\n",
      "Started CUR decomposition\n",
      "cur_decomposition: iteration: 1, error: .49887657925845828E-015\n",
      "Finished CUR decomposition\n",
      "Cartesian coordinates transformed to descriptors\n",
      "Started sparse covariance matrix calculation of coordinate 1\n",
      "\n",
      "Finished sparse covariance matrix calculation of coordinate 1\n",
      "TIMER: gpFull_covarianceMatrix_sparse_Coordinate1_sparse  done in .27000000000000002 cpu secs, .14021679999859771 wall clock secs.\n",
      "TIMER: gpFull_covarianceMatrix_sparse_Coordinate1         done in .27000000000000002 cpu secs, .14025029999902472 wall clock secs.\n",
      "Started sparse covariance matrix calculation of coordinate 2\n",
      "\n",
      "Finished sparse covariance matrix calculation of coordinate 2\n",
      "TIMER: gpFull_covarianceMatrix_sparse_Coordinate2_sparse  done in 6.7400000000000002 cpu secs, 3.4865078000002541 wall clock secs.\n",
      "TIMER: gpFull_covarianceMatrix_sparse_Coordinate2         done in 6.7400000000000002 cpu secs, 3.4865551000038977 wall clock secs.\n",
      "Started sparse covariance matrix calculation of coordinate 3\n",
      "Covariance matrix 100% |********************|   1.8 /   1.8 s\n",
      "Finished sparse covariance matrix calculation of coordinate 3\n",
      "TIMER: gpFull_covarianceMatrix_sparse_Coordinate3_sparse  done in 3.5299999999999994 cpu secs, 1.8098390000013751 wall clock secs.\n",
      "TIMER: gpFull_covarianceMatrix_sparse_Coordinate3         done in 3.5299999999999994 cpu secs, 1.8098807999995188 wall clock secs.\n",
      "TIMER: gpFull_covarianceMatrix_sparse_LinearAlgebra       done in .33999999999999986 cpu secs, .32310410000354750 wall clock secs.\n",
      "TIMER: gpFull_covarianceMatrix_sparse_FunctionValues      done in .00000000000000000E+000 cpu secs, .13299999409355223E-004 wall clock secs.\n",
      "TIMER: gpFull_covarianceMatrix_sparse                     done in 10.889999999999999 cpu secs, 5.7678092999994988 wall clock secs.\n",
      "TIMER: GP sparsify                                        done in 11.389999999999999 cpu secs, 6.3914353000000119 wall clock secs.\n",
      "\n",
      "libAtoms::Finalise: 27/09/2018   00:43:39\n",
      "libAtoms::Finalise: Bye-Bye!\n"
     ]
    }
   ],
   "source": [
    "!teach_sparse at_file=tmp.xyz gap={distance_Nb order=2 cutoff=5.0 covariance_type=ARD_SE theta_uniform=1.0 n_sparse=15 delta=1.0:distance_Nb order=3 cutoff=4.0 covariance_type=ARD_SE theta_uniform=1.0 n_sparse=50 delta=0.004:soap cutoff=4.0 covariance_type=dot_product zeta=2 delta=0.016 atom_sigma=0.7 l_max=6 n_max=6 n_sparse=200 sparse_method=cur_points} e0=-29.716948405885105 default_sigma={0.001 0.5 0.0 0.0} do_copy_at_file=F sparse_separate_file=F gp_file=gap_2b3bsoap.xml 2>&1 | grep -v FoX"
   ]
  },
  {
   "cell_type": "code",
   "execution_count": 49,
   "metadata": {},
   "outputs": [],
   "source": [
    "gap_soap = Potential(param_filename=\"gap_2b3bsoap.xml\")\n",
    "gap_energies = []\n",
    "for dba in db:\n",
    "    a = dba.copy()\n",
    "    a.set_calculator(gap_soap)\n",
    "    gap_energies.append(a.get_potential_energy())\n",
    "    "
   ]
  },
  {
   "cell_type": "code",
   "execution_count": 50,
   "metadata": {},
   "outputs": [
    {
     "data": {
      "text/plain": [
       "0.003092876937693682"
      ]
     },
     "execution_count": 50,
     "metadata": {},
     "output_type": "execute_result"
    }
   ],
   "source": [
    "np.sqrt(sum((np.array(qm_energies)/Natoms - np.array(gap_energies)/Natoms)**2)/len(gap_energies))"
   ]
  },
  {
   "cell_type": "code",
   "execution_count": 51,
   "metadata": {},
   "outputs": [
    {
     "data": {
      "image/png": "[encoded data removed]",
      "text/plain": [
       "<Figure size 432x288 with 1 Axes>"
      ]
     },
     "metadata": {
      "needs_background": "light"
     },
     "output_type": "display_data"
    }
   ],
   "source": [
    "plt.scatter(np.array(qm_energies)/Natoms, np.array(gap_energies)/Natoms)\n",
    "plt.show()"
   ]
  },
  {
   "cell_type": "code",
   "execution_count": 52,
   "metadata": {},
   "outputs": [],
   "source": [
    "\n",
    "\n",
    "\n",
    "#attach tight binding calculator\n",
    "atoms.set_calculator(gap_soap)\n",
    "\n",
    "\n",
    "# Thermalize atoms\n",
    "# MaxwellBoltzmannDistribution(atoms, 2.0* T * units.kB)\n",
    "\n",
    "# dynamics = VelocityVerlet(atoms, timestep)\n",
    "dynamics = Langevin(atoms, timestep, T * units.kB, 0.002)\n",
    "\n",
    "    \n",
    "    \n",
    "dynamics.attach(print_status, interval=10)\n",
    "dynamics.attach(print_energy, interval=10)\n",
    "\n",
    "\n",
    "\n"
   ]
  },
  {
   "cell_type": "code",
   "execution_count": 53,
   "metadata": {},
   "outputs": [
    {
     "name": "stdout",
     "output_type": "stream",
     "text": [
      "Step = 10, time = 10.0 [fs], T = 1203.38417971 [K]\n",
      "Energy per atom: Epot = -34.772eV  Ekin = 0.156eV (T=1203K)  Etot = -34.616eV\n",
      "Step = 20, time = 20.0 [fs], T = 1205.83380259 [K]\n",
      "Energy per atom: Epot = -34.772eV  Ekin = 0.156eV (T=1206K)  Etot = -34.616eV\n",
      "Step = 30, time = 30.0 [fs], T = 1215.34044904 [K]\n",
      "Energy per atom: Epot = -34.772eV  Ekin = 0.157eV (T=1215K)  Etot = -34.615eV\n",
      "Step = 40, time = 40.0 [fs], T = 1173.22105987 [K]\n",
      "Energy per atom: Epot = -34.769eV  Ekin = 0.152eV (T=1173K)  Etot = -34.617eV\n",
      "Step = 50, time = 50.0 [fs], T = 999.786402116 [K]\n",
      "Energy per atom: Epot = -34.751eV  Ekin = 0.129eV (T=1000K)  Etot = -34.622eV\n",
      "Step = 60, time = 60.0 [fs], T = 894.323322788 [K]\n",
      "Energy per atom: Epot = -34.741eV  Ekin = 0.116eV (T=894K)  Etot = -34.625eV\n",
      "Step = 70, time = 70.0 [fs], T = 1074.03344815 [K]\n",
      "Energy per atom: Epot = -34.766eV  Ekin = 0.139eV (T=1074K)  Etot = -34.627eV\n",
      "Step = 80, time = 80.0 [fs], T = 1109.46870104 [K]\n",
      "Energy per atom: Epot = -34.772eV  Ekin = 0.143eV (T=1109K)  Etot = -34.628eV\n",
      "Step = 90, time = 90.0 [fs], T = 1028.25929133 [K]\n",
      "Energy per atom: Epot = -34.761eV  Ekin = 0.133eV (T=1028K)  Etot = -34.628eV\n",
      "Step = 100, time = 100.0 [fs], T = 989.417208251 [K]\n",
      "Energy per atom: Epot = -34.758eV  Ekin = 0.128eV (T=989K)  Etot = -34.630eV\n"
     ]
    }
   ],
   "source": [
    "dynamics.run(steps=100)"
   ]
  },
  {
   "cell_type": "code",
   "execution_count": 54,
   "metadata": {},
   "outputs": [],
   "source": [
    "\n",
    "from ase.optimize.precon import PreconLBFGS, Exp"
   ]
  },
  {
   "cell_type": "code",
   "execution_count": 55,
   "metadata": {},
   "outputs": [],
   "source": [
    "optatoms = db[0].copy()\n",
    "optatoms.set_calculator(gap_soap)\n",
    "opt = PreconLBFGS(optatoms, precon=Exp(3.0))"
   ]
  },
  {
   "cell_type": "code",
   "execution_count": 56,
   "metadata": {},
   "outputs": [
    {
     "name": "stdout",
     "output_type": "stream",
     "text": [
      "PreconLBFGS:   0  00:43:56    -1111.813930       3.3565\n",
      "estimate_mu(): mu=1.7754700308625808, mu_c=1.0\n",
      "PreconLBFGS:   1  00:43:57    -1112.505861       3.1058\n",
      "PreconLBFGS:   2  00:43:57    -1113.097105       2.8361\n",
      "PreconLBFGS:   3  00:43:57    -1113.575481       2.6355\n",
      "PreconLBFGS:   4  00:43:57    -1114.017949       2.4066\n",
      "PreconLBFGS:   5  00:43:58    -1114.385765       2.2663\n",
      "PreconLBFGS:   6  00:43:58    -1114.766116       2.0137\n",
      "PreconLBFGS:   7  00:43:58    -1115.061477       1.8583\n",
      "PreconLBFGS:   8  00:43:58    -1115.336373       1.6343\n",
      "PreconLBFGS:   9  00:43:58    -1115.548243       1.4752\n",
      "PreconLBFGS:  10  00:43:59    -1115.731227       1.3317\n",
      "PreconLBFGS:  11  00:43:59    -1115.874189       1.1962\n",
      "PreconLBFGS:  12  00:43:59    -1115.989827       1.1011\n",
      "PreconLBFGS:  13  00:43:59    -1116.095424       0.9663\n",
      "PreconLBFGS:  14  00:44:00    -1116.189389       0.8737\n",
      "PreconLBFGS:  15  00:44:00    -1116.266907       0.7400\n",
      "PreconLBFGS:  16  00:44:01    -1116.348583       0.6129\n",
      "PreconLBFGS:  17  00:44:01    -1116.404887       0.5166\n",
      "PreconLBFGS:  18  00:44:01    -1116.449340       0.4072\n",
      "PreconLBFGS:  19  00:44:01    -1116.488616       0.2585\n",
      "PreconLBFGS:  20  00:44:01    -1116.520330       0.2994\n",
      "PreconLBFGS:  21  00:44:02    -1116.542792       0.2941\n",
      "PreconLBFGS:  22  00:44:02    -1116.562364       0.3019\n",
      "PreconLBFGS:  23  00:44:02    -1116.583944       0.4341\n"
     ]
    },
    {
     "name": "stderr",
     "output_type": "stream",
     "text": [
      "ERROR:ase.utils.linesearcharmijo:Passed direction which is not downhill. Aborting...\n"
     ]
    },
    {
     "name": "stdout",
     "output_type": "stream",
     "text": [
      "PreconLBFGS:  24  00:44:02    -1116.583944       0.4341\n"
     ]
    },
    {
     "name": "stderr",
     "output_type": "stream",
     "text": [
      "/opt/conda/envs/python2/lib/python2.7/site-packages/ase/optimize/precon/lbfgs.py:330: UserWarning: Armijo linesearch failed, resetting Hessian and trying again\n",
      "  'Armijo linesearch failed, resetting Hessian and '\n"
     ]
    },
    {
     "name": "stdout",
     "output_type": "stream",
     "text": [
      "PreconLBFGS:  25  00:44:03    -1116.632064       0.4994\n",
      "PreconLBFGS:  26  00:44:03    -1116.663109       0.4866\n",
      "PreconLBFGS:  27  00:44:03    -1116.695279       0.5368\n",
      "PreconLBFGS:  28  00:44:04    -1116.727585       0.6036\n",
      "PreconLBFGS:  29  00:44:04    -1116.759629       0.6456\n",
      "PreconLBFGS:  30  00:44:04    -1116.790030       0.6710\n",
      "PreconLBFGS:  31  00:44:04    -1116.818261       0.6883\n",
      "PreconLBFGS:  32  00:44:05    -1116.846665       0.8107\n",
      "PreconLBFGS:  33  00:44:05    -1116.858282       0.8296\n"
     ]
    },
    {
     "name": "stderr",
     "output_type": "stream",
     "text": [
      "ERROR:ase.utils.linesearcharmijo:Passed direction which is not downhill. Aborting...\n"
     ]
    },
    {
     "name": "stdout",
     "output_type": "stream",
     "text": [
      "PreconLBFGS:  34  00:44:05    -1116.858282       0.8296\n",
      "PreconLBFGS:  35  00:44:05    -1116.880188       0.8511\n",
      "PreconLBFGS:  36  00:44:06    -1116.924059       0.9973\n",
      "PreconLBFGS:  37  00:44:06    -1116.980188       1.0562\n",
      "PreconLBFGS:  38  00:44:06    -1117.033319       1.0689\n",
      "PreconLBFGS:  39  00:44:06    -1117.076744       1.0660\n",
      "PreconLBFGS:  40  00:44:07    -1117.117763       1.0648\n",
      "PreconLBFGS:  41  00:44:07    -1117.151262       1.0606\n",
      "PreconLBFGS:  42  00:44:07    -1117.183232       1.0659\n",
      "PreconLBFGS:  43  00:44:08    -1117.211546       1.1087\n",
      "PreconLBFGS:  44  00:44:08    -1117.238843       1.2116\n",
      "PreconLBFGS:  45  00:44:08    -1117.266794       1.3649\n"
     ]
    },
    {
     "name": "stderr",
     "output_type": "stream",
     "text": [
      "ERROR:ase.utils.linesearcharmijo:Passed direction which is not downhill. Aborting...\n"
     ]
    },
    {
     "name": "stdout",
     "output_type": "stream",
     "text": [
      "PreconLBFGS:  46  00:44:08    -1117.266794       1.3649\n",
      "PreconLBFGS:  47  00:44:09    -1117.318572       1.4119\n",
      "PreconLBFGS:  48  00:44:09    -1117.403177       1.5967\n",
      "PreconLBFGS:  49  00:44:09    -1117.487221       1.6311\n",
      "PreconLBFGS:  50  00:44:09    -1117.571878       1.6090\n",
      "PreconLBFGS:  51  00:44:10    -1117.630355       1.5732\n",
      "PreconLBFGS:  52  00:44:10    -1117.646350       1.5634\n"
     ]
    },
    {
     "name": "stderr",
     "output_type": "stream",
     "text": [
      "ERROR:ase.utils.linesearcharmijo:Passed direction which is not downhill. Aborting...\n"
     ]
    },
    {
     "name": "stdout",
     "output_type": "stream",
     "text": [
      "PreconLBFGS:  53  00:44:10    -1117.646350       1.5634\n",
      "PreconLBFGS:  54  00:44:10    -1117.676940       1.5299\n",
      "PreconLBFGS:  55  00:44:11    -1117.735793       1.4624\n",
      "PreconLBFGS:  56  00:44:11    -1117.805585       1.4147\n",
      "PreconLBFGS:  57  00:44:11    -1117.872751       1.4911\n",
      "PreconLBFGS:  58  00:44:11    -1117.933576       1.4566\n"
     ]
    },
    {
     "name": "stderr",
     "output_type": "stream",
     "text": [
      "ERROR:ase.utils.linesearcharmijo:Passed direction which is not downhill. Aborting...\n"
     ]
    },
    {
     "name": "stdout",
     "output_type": "stream",
     "text": [
      "PreconLBFGS:  59  00:44:11    -1117.933576       1.4566\n",
      "PreconLBFGS:  60  00:44:12    -1118.000748       1.4334\n",
      "PreconLBFGS:  61  00:44:12    -1118.057230       1.3127\n",
      "PreconLBFGS:  62  00:44:12    -1118.112187       1.1361\n",
      "PreconLBFGS:  63  00:44:12    -1118.159517       0.9532\n",
      "PreconLBFGS:  64  00:44:12    -1118.201563       0.7894\n",
      "PreconLBFGS:  65  00:44:13    -1118.233264       0.5839\n",
      "PreconLBFGS:  66  00:44:13    -1118.255781       0.3543\n",
      "PreconLBFGS:  67  00:44:14    -1118.264359       0.2249\n",
      "PreconLBFGS:  68  00:44:14    -1118.268191       0.0923\n",
      "PreconLBFGS:  69  00:44:15    -1118.269593       0.0367\n",
      "PreconLBFGS:  70  00:44:15    -1118.269844       0.0146\n",
      "PreconLBFGS:  71  00:44:15    -1118.269896       0.0146\n",
      "PreconLBFGS:  72  00:44:16    -1118.269940       0.0082\n"
     ]
    },
    {
     "data": {
      "text/plain": [
       "True"
      ]
     },
     "execution_count": 56,
     "metadata": {},
     "output_type": "execute_result"
    }
   ],
   "source": [
    "opt.run(fmax=0.01)"
   ]
  },
  {
   "cell_type": "code",
   "execution_count": 57,
   "metadata": {},
   "outputs": [
    {
     "data": {
      "application/vnd.jupyter.widget-view+json": {
       "model_id": "fd5e89c77c7741e0a180b26a8ad62955",
       "version_major": 2,
       "version_minor": 0
      },
      "text/plain": [
       "NGLWidget()"
      ]
     },
     "metadata": {},
     "output_type": "display_data"
    }
   ],
   "source": [
    "view = visualise(optatoms, (2,2,1))\n",
    "display(view)\n",
    "view.camera= 'orthographic'"
   ]
  },
  {
   "cell_type": "code",
   "execution_count": null,
   "metadata": {},
   "outputs": [],
   "source": []
  },
  {
   "cell_type": "code",
   "execution_count": null,
   "metadata": {},
   "outputs": [],
   "source": []
  }
 ],
 "metadata": {
  "kernelspec": {
   "display_name": "Python 2",
   "language": "python",
   "name": "python2"
  },
  "language_info": {
   "codemirror_mode": {
    "name": "ipython",
    "version": 2
   },
   "file_extension": ".py",
   "mimetype": "text/x-python",
   "name": "python",
   "nbconvert_exporter": "python",
   "pygments_lexer": "ipython2",
   "version": "2.7.15"
  }
 },
 "nbformat": 4,
 "nbformat_minor": 2
}
